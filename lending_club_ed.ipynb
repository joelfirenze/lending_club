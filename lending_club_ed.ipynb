{
 "cells": [
  {
   "cell_type": "code",
   "execution_count": 7,
   "metadata": {
    "colab": {
     "base_uri": "https://localhost:8080/",
     "height": 71
    },
    "colab_type": "code",
    "executionInfo": {
     "elapsed": 54353,
     "status": "ok",
     "timestamp": 1571970829148,
     "user": {
      "displayName": "Eddie Choo",
      "photoUrl": "https://lh3.googleusercontent.com/a-/AAuE7mCT_zNzUPX6DofnbeXxsxL_MNeAWMIr-2pyX-h9og=s64",
      "userId": "10465448498447162897"
     },
     "user_tz": -480
    },
    "id": "nSvdb7WBlQxR",
    "outputId": "21f83878-b86e-4cba-cf02-9483d2075d8a"
   },
   "outputs": [],
   "source": [
    "import pandas as pd\n",
    "\n",
    "lending_df = pd.read_csv('loan.csv')"
   ]
  },
  {
   "cell_type": "code",
   "execution_count": 8,
   "metadata": {
    "colab": {
     "base_uri": "https://localhost:8080/",
     "height": 34
    },
    "colab_type": "code",
    "executionInfo": {
     "elapsed": 54316,
     "status": "ok",
     "timestamp": 1571970829149,
     "user": {
      "displayName": "Eddie Choo",
      "photoUrl": "https://lh3.googleusercontent.com/a-/AAuE7mCT_zNzUPX6DofnbeXxsxL_MNeAWMIr-2pyX-h9og=s64",
      "userId": "10465448498447162897"
     },
     "user_tz": -480
    },
    "id": "OkRG6tWLnqgM",
    "outputId": "6250f8c0-0113-424e-b088-5755fd051422"
   },
   "outputs": [
    {
     "data": {
      "text/plain": [
       "2260668"
      ]
     },
     "execution_count": 8,
     "metadata": {},
     "output_type": "execute_result"
    }
   ],
   "source": [
    "len (lending_df)"
   ]
  },
  {
   "cell_type": "code",
   "execution_count": 9,
   "metadata": {
    "colab": {
     "base_uri": "https://localhost:8080/",
     "height": 346
    },
    "colab_type": "code",
    "executionInfo": {
     "elapsed": 63175,
     "status": "ok",
     "timestamp": 1571970838049,
     "user": {
      "displayName": "Eddie Choo",
      "photoUrl": "https://lh3.googleusercontent.com/a-/AAuE7mCT_zNzUPX6DofnbeXxsxL_MNeAWMIr-2pyX-h9og=s64",
      "userId": "10465448498447162897"
     },
     "user_tz": -480
    },
    "id": "eFt1XOfZrAgG",
    "outputId": "c66a3def-ad9e-41d1-b717-fad325401287"
   },
   "outputs": [
    {
     "data": {
      "text/html": [
       "<div>\n",
       "<style scoped>\n",
       "    .dataframe tbody tr th:only-of-type {\n",
       "        vertical-align: middle;\n",
       "    }\n",
       "\n",
       "    .dataframe tbody tr th {\n",
       "        vertical-align: top;\n",
       "    }\n",
       "\n",
       "    .dataframe thead th {\n",
       "        text-align: right;\n",
       "    }\n",
       "</style>\n",
       "<table border=\"1\" class=\"dataframe\">\n",
       "  <thead>\n",
       "    <tr style=\"text-align: right;\">\n",
       "      <th></th>\n",
       "      <th>id</th>\n",
       "      <th>member_id</th>\n",
       "      <th>loan_amnt</th>\n",
       "      <th>funded_amnt</th>\n",
       "      <th>funded_amnt_inv</th>\n",
       "      <th>int_rate</th>\n",
       "      <th>installment</th>\n",
       "      <th>annual_inc</th>\n",
       "      <th>url</th>\n",
       "      <th>dti</th>\n",
       "      <th>...</th>\n",
       "      <th>deferral_term</th>\n",
       "      <th>hardship_amount</th>\n",
       "      <th>hardship_length</th>\n",
       "      <th>hardship_dpd</th>\n",
       "      <th>orig_projected_additional_accrued_interest</th>\n",
       "      <th>hardship_payoff_balance_amount</th>\n",
       "      <th>hardship_last_payment_amount</th>\n",
       "      <th>settlement_amount</th>\n",
       "      <th>settlement_percentage</th>\n",
       "      <th>settlement_term</th>\n",
       "    </tr>\n",
       "  </thead>\n",
       "  <tbody>\n",
       "    <tr>\n",
       "      <td>count</td>\n",
       "      <td>0.0</td>\n",
       "      <td>0.0</td>\n",
       "      <td>2.260668e+06</td>\n",
       "      <td>2.260668e+06</td>\n",
       "      <td>2.260668e+06</td>\n",
       "      <td>2.260668e+06</td>\n",
       "      <td>2.260668e+06</td>\n",
       "      <td>2.260664e+06</td>\n",
       "      <td>0.0</td>\n",
       "      <td>2.258957e+06</td>\n",
       "      <td>...</td>\n",
       "      <td>10613.0</td>\n",
       "      <td>10613.000000</td>\n",
       "      <td>10613.0</td>\n",
       "      <td>10613.000000</td>\n",
       "      <td>8426.000000</td>\n",
       "      <td>10613.000000</td>\n",
       "      <td>10613.000000</td>\n",
       "      <td>33056.000000</td>\n",
       "      <td>33056.000000</td>\n",
       "      <td>33056.000000</td>\n",
       "    </tr>\n",
       "    <tr>\n",
       "      <td>mean</td>\n",
       "      <td>NaN</td>\n",
       "      <td>NaN</td>\n",
       "      <td>1.504693e+04</td>\n",
       "      <td>1.504166e+04</td>\n",
       "      <td>1.502344e+04</td>\n",
       "      <td>1.309291e+01</td>\n",
       "      <td>4.458076e+02</td>\n",
       "      <td>7.799243e+04</td>\n",
       "      <td>NaN</td>\n",
       "      <td>1.882420e+01</td>\n",
       "      <td>...</td>\n",
       "      <td>3.0</td>\n",
       "      <td>155.006696</td>\n",
       "      <td>3.0</td>\n",
       "      <td>13.686422</td>\n",
       "      <td>454.840802</td>\n",
       "      <td>11628.036442</td>\n",
       "      <td>193.606331</td>\n",
       "      <td>5030.606922</td>\n",
       "      <td>47.775600</td>\n",
       "      <td>13.148596</td>\n",
       "    </tr>\n",
       "    <tr>\n",
       "      <td>std</td>\n",
       "      <td>NaN</td>\n",
       "      <td>NaN</td>\n",
       "      <td>9.190245e+03</td>\n",
       "      <td>9.188413e+03</td>\n",
       "      <td>9.192332e+03</td>\n",
       "      <td>4.832114e+00</td>\n",
       "      <td>2.671737e+02</td>\n",
       "      <td>1.126962e+05</td>\n",
       "      <td>NaN</td>\n",
       "      <td>1.418333e+01</td>\n",
       "      <td>...</td>\n",
       "      <td>0.0</td>\n",
       "      <td>129.113137</td>\n",
       "      <td>0.0</td>\n",
       "      <td>9.728138</td>\n",
       "      <td>375.830737</td>\n",
       "      <td>7615.161123</td>\n",
       "      <td>198.694368</td>\n",
       "      <td>3692.027842</td>\n",
       "      <td>7.336379</td>\n",
       "      <td>8.192319</td>\n",
       "    </tr>\n",
       "    <tr>\n",
       "      <td>min</td>\n",
       "      <td>NaN</td>\n",
       "      <td>NaN</td>\n",
       "      <td>5.000000e+02</td>\n",
       "      <td>5.000000e+02</td>\n",
       "      <td>0.000000e+00</td>\n",
       "      <td>5.310000e+00</td>\n",
       "      <td>4.930000e+00</td>\n",
       "      <td>0.000000e+00</td>\n",
       "      <td>NaN</td>\n",
       "      <td>-1.000000e+00</td>\n",
       "      <td>...</td>\n",
       "      <td>3.0</td>\n",
       "      <td>0.640000</td>\n",
       "      <td>3.0</td>\n",
       "      <td>0.000000</td>\n",
       "      <td>1.920000</td>\n",
       "      <td>55.730000</td>\n",
       "      <td>0.010000</td>\n",
       "      <td>44.210000</td>\n",
       "      <td>0.200000</td>\n",
       "      <td>0.000000</td>\n",
       "    </tr>\n",
       "    <tr>\n",
       "      <td>25%</td>\n",
       "      <td>NaN</td>\n",
       "      <td>NaN</td>\n",
       "      <td>8.000000e+03</td>\n",
       "      <td>8.000000e+03</td>\n",
       "      <td>8.000000e+03</td>\n",
       "      <td>9.490000e+00</td>\n",
       "      <td>2.516500e+02</td>\n",
       "      <td>4.600000e+04</td>\n",
       "      <td>NaN</td>\n",
       "      <td>1.189000e+01</td>\n",
       "      <td>...</td>\n",
       "      <td>3.0</td>\n",
       "      <td>59.370000</td>\n",
       "      <td>3.0</td>\n",
       "      <td>5.000000</td>\n",
       "      <td>174.967500</td>\n",
       "      <td>5628.730000</td>\n",
       "      <td>43.780000</td>\n",
       "      <td>2227.000000</td>\n",
       "      <td>45.000000</td>\n",
       "      <td>6.000000</td>\n",
       "    </tr>\n",
       "    <tr>\n",
       "      <td>50%</td>\n",
       "      <td>NaN</td>\n",
       "      <td>NaN</td>\n",
       "      <td>1.290000e+04</td>\n",
       "      <td>1.287500e+04</td>\n",
       "      <td>1.280000e+04</td>\n",
       "      <td>1.262000e+01</td>\n",
       "      <td>3.779900e+02</td>\n",
       "      <td>6.500000e+04</td>\n",
       "      <td>NaN</td>\n",
       "      <td>1.784000e+01</td>\n",
       "      <td>...</td>\n",
       "      <td>3.0</td>\n",
       "      <td>119.040000</td>\n",
       "      <td>3.0</td>\n",
       "      <td>15.000000</td>\n",
       "      <td>352.605000</td>\n",
       "      <td>10044.220000</td>\n",
       "      <td>132.890000</td>\n",
       "      <td>4172.855000</td>\n",
       "      <td>45.000000</td>\n",
       "      <td>14.000000</td>\n",
       "    </tr>\n",
       "    <tr>\n",
       "      <td>75%</td>\n",
       "      <td>NaN</td>\n",
       "      <td>NaN</td>\n",
       "      <td>2.000000e+04</td>\n",
       "      <td>2.000000e+04</td>\n",
       "      <td>2.000000e+04</td>\n",
       "      <td>1.599000e+01</td>\n",
       "      <td>5.933200e+02</td>\n",
       "      <td>9.300000e+04</td>\n",
       "      <td>NaN</td>\n",
       "      <td>2.449000e+01</td>\n",
       "      <td>...</td>\n",
       "      <td>3.0</td>\n",
       "      <td>213.260000</td>\n",
       "      <td>3.0</td>\n",
       "      <td>22.000000</td>\n",
       "      <td>622.792500</td>\n",
       "      <td>16114.940000</td>\n",
       "      <td>284.180000</td>\n",
       "      <td>6870.782500</td>\n",
       "      <td>50.000000</td>\n",
       "      <td>18.000000</td>\n",
       "    </tr>\n",
       "    <tr>\n",
       "      <td>max</td>\n",
       "      <td>NaN</td>\n",
       "      <td>NaN</td>\n",
       "      <td>4.000000e+04</td>\n",
       "      <td>4.000000e+04</td>\n",
       "      <td>4.000000e+04</td>\n",
       "      <td>3.099000e+01</td>\n",
       "      <td>1.719830e+03</td>\n",
       "      <td>1.100000e+08</td>\n",
       "      <td>NaN</td>\n",
       "      <td>9.990000e+02</td>\n",
       "      <td>...</td>\n",
       "      <td>3.0</td>\n",
       "      <td>943.940000</td>\n",
       "      <td>3.0</td>\n",
       "      <td>37.000000</td>\n",
       "      <td>2680.890000</td>\n",
       "      <td>40306.410000</td>\n",
       "      <td>1407.860000</td>\n",
       "      <td>33601.000000</td>\n",
       "      <td>521.350000</td>\n",
       "      <td>181.000000</td>\n",
       "    </tr>\n",
       "  </tbody>\n",
       "</table>\n",
       "<p>8 rows × 109 columns</p>\n",
       "</div>"
      ],
      "text/plain": [
       "        id  member_id     loan_amnt   funded_amnt  funded_amnt_inv  \\\n",
       "count  0.0        0.0  2.260668e+06  2.260668e+06     2.260668e+06   \n",
       "mean   NaN        NaN  1.504693e+04  1.504166e+04     1.502344e+04   \n",
       "std    NaN        NaN  9.190245e+03  9.188413e+03     9.192332e+03   \n",
       "min    NaN        NaN  5.000000e+02  5.000000e+02     0.000000e+00   \n",
       "25%    NaN        NaN  8.000000e+03  8.000000e+03     8.000000e+03   \n",
       "50%    NaN        NaN  1.290000e+04  1.287500e+04     1.280000e+04   \n",
       "75%    NaN        NaN  2.000000e+04  2.000000e+04     2.000000e+04   \n",
       "max    NaN        NaN  4.000000e+04  4.000000e+04     4.000000e+04   \n",
       "\n",
       "           int_rate   installment    annual_inc  url           dti  ...  \\\n",
       "count  2.260668e+06  2.260668e+06  2.260664e+06  0.0  2.258957e+06  ...   \n",
       "mean   1.309291e+01  4.458076e+02  7.799243e+04  NaN  1.882420e+01  ...   \n",
       "std    4.832114e+00  2.671737e+02  1.126962e+05  NaN  1.418333e+01  ...   \n",
       "min    5.310000e+00  4.930000e+00  0.000000e+00  NaN -1.000000e+00  ...   \n",
       "25%    9.490000e+00  2.516500e+02  4.600000e+04  NaN  1.189000e+01  ...   \n",
       "50%    1.262000e+01  3.779900e+02  6.500000e+04  NaN  1.784000e+01  ...   \n",
       "75%    1.599000e+01  5.933200e+02  9.300000e+04  NaN  2.449000e+01  ...   \n",
       "max    3.099000e+01  1.719830e+03  1.100000e+08  NaN  9.990000e+02  ...   \n",
       "\n",
       "       deferral_term  hardship_amount  hardship_length  hardship_dpd  \\\n",
       "count        10613.0     10613.000000          10613.0  10613.000000   \n",
       "mean             3.0       155.006696              3.0     13.686422   \n",
       "std              0.0       129.113137              0.0      9.728138   \n",
       "min              3.0         0.640000              3.0      0.000000   \n",
       "25%              3.0        59.370000              3.0      5.000000   \n",
       "50%              3.0       119.040000              3.0     15.000000   \n",
       "75%              3.0       213.260000              3.0     22.000000   \n",
       "max              3.0       943.940000              3.0     37.000000   \n",
       "\n",
       "       orig_projected_additional_accrued_interest  \\\n",
       "count                                 8426.000000   \n",
       "mean                                   454.840802   \n",
       "std                                    375.830737   \n",
       "min                                      1.920000   \n",
       "25%                                    174.967500   \n",
       "50%                                    352.605000   \n",
       "75%                                    622.792500   \n",
       "max                                   2680.890000   \n",
       "\n",
       "       hardship_payoff_balance_amount  hardship_last_payment_amount  \\\n",
       "count                    10613.000000                  10613.000000   \n",
       "mean                     11628.036442                    193.606331   \n",
       "std                       7615.161123                    198.694368   \n",
       "min                         55.730000                      0.010000   \n",
       "25%                       5628.730000                     43.780000   \n",
       "50%                      10044.220000                    132.890000   \n",
       "75%                      16114.940000                    284.180000   \n",
       "max                      40306.410000                   1407.860000   \n",
       "\n",
       "       settlement_amount  settlement_percentage  settlement_term  \n",
       "count       33056.000000           33056.000000     33056.000000  \n",
       "mean         5030.606922              47.775600        13.148596  \n",
       "std          3692.027842               7.336379         8.192319  \n",
       "min            44.210000               0.200000         0.000000  \n",
       "25%          2227.000000              45.000000         6.000000  \n",
       "50%          4172.855000              45.000000        14.000000  \n",
       "75%          6870.782500              50.000000        18.000000  \n",
       "max         33601.000000             521.350000       181.000000  \n",
       "\n",
       "[8 rows x 109 columns]"
      ]
     },
     "execution_count": 9,
     "metadata": {},
     "output_type": "execute_result"
    }
   ],
   "source": [
    "lending_df.describe()"
   ]
  },
  {
   "cell_type": "code",
   "execution_count": 10,
   "metadata": {
    "colab": {},
    "colab_type": "code",
    "id": "lZnG_1RKcn0W"
   },
   "outputs": [],
   "source": [
    "df = lending_df.drop(['id', 'member_id'], axis = 1)"
   ]
  },
  {
   "cell_type": "code",
   "execution_count": 11,
   "metadata": {
    "colab": {
     "base_uri": "https://localhost:8080/",
     "height": 439
    },
    "colab_type": "code",
    "executionInfo": {
     "elapsed": 123430,
     "status": "ok",
     "timestamp": 1571970898386,
     "user": {
      "displayName": "Eddie Choo",
      "photoUrl": "https://lh3.googleusercontent.com/a-/AAuE7mCT_zNzUPX6DofnbeXxsxL_MNeAWMIr-2pyX-h9og=s64",
      "userId": "10465448498447162897"
     },
     "user_tz": -480
    },
    "id": "wWZkje3ydBeO",
    "outputId": "c892b557-088c-41ea-fe1f-3431f2df11b6"
   },
   "outputs": [
    {
     "data": {
      "text/html": [
       "<div>\n",
       "<style scoped>\n",
       "    .dataframe tbody tr th:only-of-type {\n",
       "        vertical-align: middle;\n",
       "    }\n",
       "\n",
       "    .dataframe tbody tr th {\n",
       "        vertical-align: top;\n",
       "    }\n",
       "\n",
       "    .dataframe thead th {\n",
       "        text-align: right;\n",
       "    }\n",
       "</style>\n",
       "<table border=\"1\" class=\"dataframe\">\n",
       "  <thead>\n",
       "    <tr style=\"text-align: right;\">\n",
       "      <th></th>\n",
       "      <th>loan_amnt</th>\n",
       "      <th>funded_amnt</th>\n",
       "      <th>funded_amnt_inv</th>\n",
       "      <th>int_rate</th>\n",
       "      <th>installment</th>\n",
       "      <th>annual_inc</th>\n",
       "      <th>url</th>\n",
       "      <th>dti</th>\n",
       "      <th>delinq_2yrs</th>\n",
       "      <th>inq_last_6mths</th>\n",
       "      <th>...</th>\n",
       "      <th>deferral_term</th>\n",
       "      <th>hardship_amount</th>\n",
       "      <th>hardship_length</th>\n",
       "      <th>hardship_dpd</th>\n",
       "      <th>orig_projected_additional_accrued_interest</th>\n",
       "      <th>hardship_payoff_balance_amount</th>\n",
       "      <th>hardship_last_payment_amount</th>\n",
       "      <th>settlement_amount</th>\n",
       "      <th>settlement_percentage</th>\n",
       "      <th>settlement_term</th>\n",
       "    </tr>\n",
       "  </thead>\n",
       "  <tbody>\n",
       "    <tr>\n",
       "      <td>loan_amnt</td>\n",
       "      <td>1.000000</td>\n",
       "      <td>0.999755</td>\n",
       "      <td>0.999038</td>\n",
       "      <td>0.098083</td>\n",
       "      <td>0.945627</td>\n",
       "      <td>0.197246</td>\n",
       "      <td>NaN</td>\n",
       "      <td>0.043542</td>\n",
       "      <td>0.009277</td>\n",
       "      <td>0.027840</td>\n",
       "      <td>...</td>\n",
       "      <td>NaN</td>\n",
       "      <td>0.715702</td>\n",
       "      <td>NaN</td>\n",
       "      <td>0.048501</td>\n",
       "      <td>0.715062</td>\n",
       "      <td>0.850457</td>\n",
       "      <td>0.488136</td>\n",
       "      <td>0.803705</td>\n",
       "      <td>0.060577</td>\n",
       "      <td>0.219782</td>\n",
       "    </tr>\n",
       "    <tr>\n",
       "      <td>funded_amnt</td>\n",
       "      <td>0.999755</td>\n",
       "      <td>1.000000</td>\n",
       "      <td>0.999341</td>\n",
       "      <td>0.098099</td>\n",
       "      <td>0.945969</td>\n",
       "      <td>0.197207</td>\n",
       "      <td>NaN</td>\n",
       "      <td>0.043745</td>\n",
       "      <td>0.009173</td>\n",
       "      <td>0.028132</td>\n",
       "      <td>...</td>\n",
       "      <td>NaN</td>\n",
       "      <td>0.715702</td>\n",
       "      <td>NaN</td>\n",
       "      <td>0.048501</td>\n",
       "      <td>0.715062</td>\n",
       "      <td>0.850457</td>\n",
       "      <td>0.488136</td>\n",
       "      <td>0.803811</td>\n",
       "      <td>0.060402</td>\n",
       "      <td>0.220397</td>\n",
       "    </tr>\n",
       "    <tr>\n",
       "      <td>funded_amnt_inv</td>\n",
       "      <td>0.999038</td>\n",
       "      <td>0.999341</td>\n",
       "      <td>1.000000</td>\n",
       "      <td>0.098131</td>\n",
       "      <td>0.945119</td>\n",
       "      <td>0.197025</td>\n",
       "      <td>NaN</td>\n",
       "      <td>0.044276</td>\n",
       "      <td>0.009029</td>\n",
       "      <td>0.030063</td>\n",
       "      <td>...</td>\n",
       "      <td>NaN</td>\n",
       "      <td>0.715651</td>\n",
       "      <td>NaN</td>\n",
       "      <td>0.048421</td>\n",
       "      <td>0.715010</td>\n",
       "      <td>0.850463</td>\n",
       "      <td>0.488171</td>\n",
       "      <td>0.803464</td>\n",
       "      <td>0.060790</td>\n",
       "      <td>0.221083</td>\n",
       "    </tr>\n",
       "    <tr>\n",
       "      <td>int_rate</td>\n",
       "      <td>0.098083</td>\n",
       "      <td>0.098099</td>\n",
       "      <td>0.098131</td>\n",
       "      <td>1.000000</td>\n",
       "      <td>0.123947</td>\n",
       "      <td>0.050585</td>\n",
       "      <td>NaN</td>\n",
       "      <td>0.124497</td>\n",
       "      <td>0.058899</td>\n",
       "      <td>0.188399</td>\n",
       "      <td>...</td>\n",
       "      <td>NaN</td>\n",
       "      <td>0.622597</td>\n",
       "      <td>NaN</td>\n",
       "      <td>0.092113</td>\n",
       "      <td>0.612360</td>\n",
       "      <td>0.272122</td>\n",
       "      <td>0.211909</td>\n",
       "      <td>0.313269</td>\n",
       "      <td>0.013913</td>\n",
       "      <td>0.113903</td>\n",
       "    </tr>\n",
       "    <tr>\n",
       "      <td>installment</td>\n",
       "      <td>0.945627</td>\n",
       "      <td>0.945969</td>\n",
       "      <td>0.945119</td>\n",
       "      <td>0.123947</td>\n",
       "      <td>1.000000</td>\n",
       "      <td>0.190270</td>\n",
       "      <td>NaN</td>\n",
       "      <td>0.044843</td>\n",
       "      <td>0.002053</td>\n",
       "      <td>0.002392</td>\n",
       "      <td>...</td>\n",
       "      <td>NaN</td>\n",
       "      <td>0.680939</td>\n",
       "      <td>NaN</td>\n",
       "      <td>0.049184</td>\n",
       "      <td>0.677686</td>\n",
       "      <td>0.759898</td>\n",
       "      <td>0.462655</td>\n",
       "      <td>0.737039</td>\n",
       "      <td>0.046045</td>\n",
       "      <td>0.194683</td>\n",
       "    </tr>\n",
       "    <tr>\n",
       "      <td>...</td>\n",
       "      <td>...</td>\n",
       "      <td>...</td>\n",
       "      <td>...</td>\n",
       "      <td>...</td>\n",
       "      <td>...</td>\n",
       "      <td>...</td>\n",
       "      <td>...</td>\n",
       "      <td>...</td>\n",
       "      <td>...</td>\n",
       "      <td>...</td>\n",
       "      <td>...</td>\n",
       "      <td>...</td>\n",
       "      <td>...</td>\n",
       "      <td>...</td>\n",
       "      <td>...</td>\n",
       "      <td>...</td>\n",
       "      <td>...</td>\n",
       "      <td>...</td>\n",
       "      <td>...</td>\n",
       "      <td>...</td>\n",
       "      <td>...</td>\n",
       "    </tr>\n",
       "    <tr>\n",
       "      <td>hardship_payoff_balance_amount</td>\n",
       "      <td>0.850457</td>\n",
       "      <td>0.850457</td>\n",
       "      <td>0.850463</td>\n",
       "      <td>0.272122</td>\n",
       "      <td>0.759898</td>\n",
       "      <td>0.374108</td>\n",
       "      <td>NaN</td>\n",
       "      <td>0.027292</td>\n",
       "      <td>0.009659</td>\n",
       "      <td>0.012874</td>\n",
       "      <td>...</td>\n",
       "      <td>NaN</td>\n",
       "      <td>0.881758</td>\n",
       "      <td>NaN</td>\n",
       "      <td>0.006202</td>\n",
       "      <td>0.880690</td>\n",
       "      <td>1.000000</td>\n",
       "      <td>0.478991</td>\n",
       "      <td>0.948612</td>\n",
       "      <td>0.009360</td>\n",
       "      <td>0.301678</td>\n",
       "    </tr>\n",
       "    <tr>\n",
       "      <td>hardship_last_payment_amount</td>\n",
       "      <td>0.488136</td>\n",
       "      <td>0.488136</td>\n",
       "      <td>0.488171</td>\n",
       "      <td>0.211909</td>\n",
       "      <td>0.462655</td>\n",
       "      <td>0.213549</td>\n",
       "      <td>NaN</td>\n",
       "      <td>0.020528</td>\n",
       "      <td>0.001526</td>\n",
       "      <td>0.032963</td>\n",
       "      <td>...</td>\n",
       "      <td>NaN</td>\n",
       "      <td>0.432712</td>\n",
       "      <td>NaN</td>\n",
       "      <td>0.065612</td>\n",
       "      <td>0.438008</td>\n",
       "      <td>0.478991</td>\n",
       "      <td>1.000000</td>\n",
       "      <td>0.483711</td>\n",
       "      <td>0.030281</td>\n",
       "      <td>0.134043</td>\n",
       "    </tr>\n",
       "    <tr>\n",
       "      <td>settlement_amount</td>\n",
       "      <td>0.803705</td>\n",
       "      <td>0.803811</td>\n",
       "      <td>0.803464</td>\n",
       "      <td>0.313269</td>\n",
       "      <td>0.737039</td>\n",
       "      <td>0.163456</td>\n",
       "      <td>NaN</td>\n",
       "      <td>0.042466</td>\n",
       "      <td>0.007814</td>\n",
       "      <td>0.009655</td>\n",
       "      <td>...</td>\n",
       "      <td>NaN</td>\n",
       "      <td>0.874708</td>\n",
       "      <td>NaN</td>\n",
       "      <td>0.069951</td>\n",
       "      <td>0.865936</td>\n",
       "      <td>0.948612</td>\n",
       "      <td>0.483711</td>\n",
       "      <td>1.000000</td>\n",
       "      <td>0.192462</td>\n",
       "      <td>0.257409</td>\n",
       "    </tr>\n",
       "    <tr>\n",
       "      <td>settlement_percentage</td>\n",
       "      <td>0.060577</td>\n",
       "      <td>0.060402</td>\n",
       "      <td>0.060790</td>\n",
       "      <td>0.013913</td>\n",
       "      <td>0.046045</td>\n",
       "      <td>0.005755</td>\n",
       "      <td>NaN</td>\n",
       "      <td>0.005751</td>\n",
       "      <td>0.008406</td>\n",
       "      <td>0.007113</td>\n",
       "      <td>...</td>\n",
       "      <td>NaN</td>\n",
       "      <td>0.023783</td>\n",
       "      <td>NaN</td>\n",
       "      <td>0.015546</td>\n",
       "      <td>0.000808</td>\n",
       "      <td>0.009360</td>\n",
       "      <td>0.030281</td>\n",
       "      <td>0.192462</td>\n",
       "      <td>1.000000</td>\n",
       "      <td>0.056148</td>\n",
       "    </tr>\n",
       "    <tr>\n",
       "      <td>settlement_term</td>\n",
       "      <td>0.219782</td>\n",
       "      <td>0.220397</td>\n",
       "      <td>0.221083</td>\n",
       "      <td>0.113903</td>\n",
       "      <td>0.194683</td>\n",
       "      <td>0.021416</td>\n",
       "      <td>NaN</td>\n",
       "      <td>0.041786</td>\n",
       "      <td>0.001396</td>\n",
       "      <td>0.043722</td>\n",
       "      <td>...</td>\n",
       "      <td>NaN</td>\n",
       "      <td>0.246981</td>\n",
       "      <td>NaN</td>\n",
       "      <td>0.091659</td>\n",
       "      <td>0.267352</td>\n",
       "      <td>0.301678</td>\n",
       "      <td>0.134043</td>\n",
       "      <td>0.257409</td>\n",
       "      <td>0.056148</td>\n",
       "      <td>1.000000</td>\n",
       "    </tr>\n",
       "  </tbody>\n",
       "</table>\n",
       "<p>107 rows × 107 columns</p>\n",
       "</div>"
      ],
      "text/plain": [
       "                                loan_amnt  funded_amnt  funded_amnt_inv  \\\n",
       "loan_amnt                        1.000000     0.999755         0.999038   \n",
       "funded_amnt                      0.999755     1.000000         0.999341   \n",
       "funded_amnt_inv                  0.999038     0.999341         1.000000   \n",
       "int_rate                         0.098083     0.098099         0.098131   \n",
       "installment                      0.945627     0.945969         0.945119   \n",
       "...                                   ...          ...              ...   \n",
       "hardship_payoff_balance_amount   0.850457     0.850457         0.850463   \n",
       "hardship_last_payment_amount     0.488136     0.488136         0.488171   \n",
       "settlement_amount                0.803705     0.803811         0.803464   \n",
       "settlement_percentage            0.060577     0.060402         0.060790   \n",
       "settlement_term                  0.219782     0.220397         0.221083   \n",
       "\n",
       "                                int_rate  installment  annual_inc  url  \\\n",
       "loan_amnt                       0.098083     0.945627    0.197246  NaN   \n",
       "funded_amnt                     0.098099     0.945969    0.197207  NaN   \n",
       "funded_amnt_inv                 0.098131     0.945119    0.197025  NaN   \n",
       "int_rate                        1.000000     0.123947    0.050585  NaN   \n",
       "installment                     0.123947     1.000000    0.190270  NaN   \n",
       "...                                  ...          ...         ...  ...   \n",
       "hardship_payoff_balance_amount  0.272122     0.759898    0.374108  NaN   \n",
       "hardship_last_payment_amount    0.211909     0.462655    0.213549  NaN   \n",
       "settlement_amount               0.313269     0.737039    0.163456  NaN   \n",
       "settlement_percentage           0.013913     0.046045    0.005755  NaN   \n",
       "settlement_term                 0.113903     0.194683    0.021416  NaN   \n",
       "\n",
       "                                     dti  delinq_2yrs  inq_last_6mths  ...  \\\n",
       "loan_amnt                       0.043542     0.009277        0.027840  ...   \n",
       "funded_amnt                     0.043745     0.009173        0.028132  ...   \n",
       "funded_amnt_inv                 0.044276     0.009029        0.030063  ...   \n",
       "int_rate                        0.124497     0.058899        0.188399  ...   \n",
       "installment                     0.044843     0.002053        0.002392  ...   \n",
       "...                                  ...          ...             ...  ...   \n",
       "hardship_payoff_balance_amount  0.027292     0.009659        0.012874  ...   \n",
       "hardship_last_payment_amount    0.020528     0.001526        0.032963  ...   \n",
       "settlement_amount               0.042466     0.007814        0.009655  ...   \n",
       "settlement_percentage           0.005751     0.008406        0.007113  ...   \n",
       "settlement_term                 0.041786     0.001396        0.043722  ...   \n",
       "\n",
       "                                deferral_term  hardship_amount  \\\n",
       "loan_amnt                                 NaN         0.715702   \n",
       "funded_amnt                               NaN         0.715702   \n",
       "funded_amnt_inv                           NaN         0.715651   \n",
       "int_rate                                  NaN         0.622597   \n",
       "installment                               NaN         0.680939   \n",
       "...                                       ...              ...   \n",
       "hardship_payoff_balance_amount            NaN         0.881758   \n",
       "hardship_last_payment_amount              NaN         0.432712   \n",
       "settlement_amount                         NaN         0.874708   \n",
       "settlement_percentage                     NaN         0.023783   \n",
       "settlement_term                           NaN         0.246981   \n",
       "\n",
       "                                hardship_length  hardship_dpd  \\\n",
       "loan_amnt                                   NaN      0.048501   \n",
       "funded_amnt                                 NaN      0.048501   \n",
       "funded_amnt_inv                             NaN      0.048421   \n",
       "int_rate                                    NaN      0.092113   \n",
       "installment                                 NaN      0.049184   \n",
       "...                                         ...           ...   \n",
       "hardship_payoff_balance_amount              NaN      0.006202   \n",
       "hardship_last_payment_amount                NaN      0.065612   \n",
       "settlement_amount                           NaN      0.069951   \n",
       "settlement_percentage                       NaN      0.015546   \n",
       "settlement_term                             NaN      0.091659   \n",
       "\n",
       "                                orig_projected_additional_accrued_interest  \\\n",
       "loan_amnt                                                         0.715062   \n",
       "funded_amnt                                                       0.715062   \n",
       "funded_amnt_inv                                                   0.715010   \n",
       "int_rate                                                          0.612360   \n",
       "installment                                                       0.677686   \n",
       "...                                                                    ...   \n",
       "hardship_payoff_balance_amount                                    0.880690   \n",
       "hardship_last_payment_amount                                      0.438008   \n",
       "settlement_amount                                                 0.865936   \n",
       "settlement_percentage                                             0.000808   \n",
       "settlement_term                                                   0.267352   \n",
       "\n",
       "                                hardship_payoff_balance_amount  \\\n",
       "loan_amnt                                             0.850457   \n",
       "funded_amnt                                           0.850457   \n",
       "funded_amnt_inv                                       0.850463   \n",
       "int_rate                                              0.272122   \n",
       "installment                                           0.759898   \n",
       "...                                                        ...   \n",
       "hardship_payoff_balance_amount                        1.000000   \n",
       "hardship_last_payment_amount                          0.478991   \n",
       "settlement_amount                                     0.948612   \n",
       "settlement_percentage                                 0.009360   \n",
       "settlement_term                                       0.301678   \n",
       "\n",
       "                                hardship_last_payment_amount  \\\n",
       "loan_amnt                                           0.488136   \n",
       "funded_amnt                                         0.488136   \n",
       "funded_amnt_inv                                     0.488171   \n",
       "int_rate                                            0.211909   \n",
       "installment                                         0.462655   \n",
       "...                                                      ...   \n",
       "hardship_payoff_balance_amount                      0.478991   \n",
       "hardship_last_payment_amount                        1.000000   \n",
       "settlement_amount                                   0.483711   \n",
       "settlement_percentage                               0.030281   \n",
       "settlement_term                                     0.134043   \n",
       "\n",
       "                                settlement_amount  settlement_percentage  \\\n",
       "loan_amnt                                0.803705               0.060577   \n",
       "funded_amnt                              0.803811               0.060402   \n",
       "funded_amnt_inv                          0.803464               0.060790   \n",
       "int_rate                                 0.313269               0.013913   \n",
       "installment                              0.737039               0.046045   \n",
       "...                                           ...                    ...   \n",
       "hardship_payoff_balance_amount           0.948612               0.009360   \n",
       "hardship_last_payment_amount             0.483711               0.030281   \n",
       "settlement_amount                        1.000000               0.192462   \n",
       "settlement_percentage                    0.192462               1.000000   \n",
       "settlement_term                          0.257409               0.056148   \n",
       "\n",
       "                                settlement_term  \n",
       "loan_amnt                              0.219782  \n",
       "funded_amnt                            0.220397  \n",
       "funded_amnt_inv                        0.221083  \n",
       "int_rate                               0.113903  \n",
       "installment                            0.194683  \n",
       "...                                         ...  \n",
       "hardship_payoff_balance_amount         0.301678  \n",
       "hardship_last_payment_amount           0.134043  \n",
       "settlement_amount                      0.257409  \n",
       "settlement_percentage                  0.056148  \n",
       "settlement_term                        1.000000  \n",
       "\n",
       "[107 rows x 107 columns]"
      ]
     },
     "execution_count": 11,
     "metadata": {},
     "output_type": "execute_result"
    }
   ],
   "source": [
    "df.corr().abs()"
   ]
  },
  {
   "cell_type": "code",
   "execution_count": 12,
   "metadata": {
    "colab": {},
    "colab_type": "code",
    "id": "NbD_ydSkfha_"
   },
   "outputs": [],
   "source": [
    "import numpy as np\n",
    "\n",
    "\n"
   ]
  },
  {
   "cell_type": "code",
   "execution_count": 13,
   "metadata": {
    "colab": {},
    "colab_type": "code",
    "id": "zUZDpNYpOUMa"
   },
   "outputs": [],
   "source": [
    "import matplotlib.pyplot as plt\n",
    "\n",
    "# 1) Loan status types distribtion (use barplot)\n",
    "# 2) Client purpose (use barplot)\n",
    "# 3) Loan amount distribtion (use distplot)\n",
    "# 4) Interest rate distribtion (use barplot)\n",
    "# 5) Instalment distribution (use distplot or barplot)\n",
    "# 6) Interest rate vs grade values\n",
    "# 7) Interest rate vs subgrade values\n",
    "# 8) Employment\n",
    "# 9) Employment vs grade values\n",
    "# \n",
    "\n"
   ]
  },
  {
   "cell_type": "code",
   "execution_count": 14,
   "metadata": {
    "colab": {
     "base_uri": "https://localhost:8080/",
     "height": 532
    },
    "colab_type": "code",
    "executionInfo": {
     "elapsed": 124035,
     "status": "ok",
     "timestamp": 1571970899138,
     "user": {
      "displayName": "Eddie Choo",
      "photoUrl": "https://lh3.googleusercontent.com/a-/AAuE7mCT_zNzUPX6DofnbeXxsxL_MNeAWMIr-2pyX-h9og=s64",
      "userId": "10465448498447162897"
     },
     "user_tz": -480
    },
    "id": "tMKbwuIskgdZ",
    "outputId": "1fca8650-7ab1-4cde-f725-a28912698790"
   },
   "outputs": [
    {
     "data": {
      "text/plain": [
       "<matplotlib.axes._subplots.AxesSubplot at 0x11c2cbed0>"
      ]
     },
     "execution_count": 14,
     "metadata": {},
     "output_type": "execute_result"
    },
    {
     "data": {
      "image/png": "[encoded data removed]",
      "text/plain": [
       "<Figure size 432x288 with 1 Axes>"
      ]
     },
     "metadata": {
      "needs_background": "light"
     },
     "output_type": "display_data"
    }
   ],
   "source": [
    "df['loan_status'].value_counts()\n",
    "\n",
    "df['loan_status'].value_counts().plot(kind= 'bar')"
   ]
  },
  {
   "cell_type": "code",
   "execution_count": 15,
   "metadata": {
    "colab": {
     "base_uri": "https://localhost:8080/",
     "height": 789
    },
    "colab_type": "code",
    "executionInfo": {
     "elapsed": 124479,
     "status": "ok",
     "timestamp": 1571970899635,
     "user": {
      "displayName": "Eddie Choo",
      "photoUrl": "https://lh3.googleusercontent.com/a-/AAuE7mCT_zNzUPX6DofnbeXxsxL_MNeAWMIr-2pyX-h9og=s64",
      "userId": "10465448498447162897"
     },
     "user_tz": -480
    },
    "id": "hhQW3A6I02H7",
    "outputId": "50650fb7-223f-4420-a146-a9e2aee74ee1"
   },
   "outputs": [
    {
     "data": {
      "text/plain": [
       "<BarContainer object of 9 artists>"
      ]
     },
     "execution_count": 15,
     "metadata": {},
     "output_type": "execute_result"
    },
    {
     "data": {
      "image/png": "[encoded data removed]",
      "text/plain": [
       "<Figure size 1080x720 with 1 Axes>"
      ]
     },
     "metadata": {
      "needs_background": "light"
     },
     "output_type": "display_data"
    }
   ],
   "source": [
    "plt.figure(figsize = (15,10))\n",
    "plt.xticks(rotation = 45)\n",
    "plt.bar(df['loan_status'].value_counts().index, df['loan_status'].value_counts())"
   ]
  },
  {
   "cell_type": "code",
   "execution_count": 16,
   "metadata": {
    "colab": {
     "base_uri": "https://localhost:8080/",
     "height": 642
    },
    "colab_type": "code",
    "executionInfo": {
     "elapsed": 125138,
     "status": "ok",
     "timestamp": 1571970900351,
     "user": {
      "displayName": "Eddie Choo",
      "photoUrl": "https://lh3.googleusercontent.com/a-/AAuE7mCT_zNzUPX6DofnbeXxsxL_MNeAWMIr-2pyX-h9og=s64",
      "userId": "10465448498447162897"
     },
     "user_tz": -480
    },
    "id": "K0uFsuMd1gx7",
    "outputId": "84d28227-7515-4659-b50c-386dd9aff958"
   },
   "outputs": [
    {
     "data": {
      "text/plain": [
       "<BarContainer object of 11 artists>"
      ]
     },
     "execution_count": 16,
     "metadata": {},
     "output_type": "execute_result"
    },
    {
     "data": {
      "image/png": "[encoded data removed]",
      "text/plain": [
       "<Figure size 1080x720 with 1 Axes>"
      ]
     },
     "metadata": {
      "needs_background": "light"
     },
     "output_type": "display_data"
    }
   ],
   "source": [
    "# 8) Employment\n",
    "plt.figure(figsize = (15,10))\n",
    "plt.xticks(rotation = 45)\n",
    "plt.bar(df['emp_length'].value_counts().index, df['emp_length'].value_counts())"
   ]
  },
  {
   "cell_type": "code",
   "execution_count": 17,
   "metadata": {
    "colab": {},
    "colab_type": "code",
    "id": "jjF0Ftx9jQcd"
   },
   "outputs": [],
   "source": [
    "import seaborn as sns"
   ]
  },
  {
   "cell_type": "code",
   "execution_count": 18,
   "metadata": {
    "colab": {
     "base_uri": "https://localhost:8080/",
     "height": 623
    },
    "colab_type": "code",
    "executionInfo": {
     "elapsed": 126701,
     "status": "ok",
     "timestamp": 1571970901989,
     "user": {
      "displayName": "Eddie Choo",
      "photoUrl": "https://lh3.googleusercontent.com/a-/AAuE7mCT_zNzUPX6DofnbeXxsxL_MNeAWMIr-2pyX-h9og=s64",
      "userId": "10465448498447162897"
     },
     "user_tz": -480
    },
    "id": "-_tcK09li3zJ",
    "outputId": "b282c28b-9068-43f6-d02c-58bad4895b49"
   },
   "outputs": [
    {
     "data": {
      "text/plain": [
       "<matplotlib.axes._subplots.AxesSubplot at 0x1163b7250>"
      ]
     },
     "execution_count": 18,
     "metadata": {},
     "output_type": "execute_result"
    },
    {
     "data": {
      "image/png": "[encoded data removed]",
      "text/plain": [
       "<Figure size 1080x720 with 1 Axes>"
      ]
     },
     "metadata": {
      "needs_background": "light"
     },
     "output_type": "display_data"
    }
   ],
   "source": [
    "# 3) Loan amount distribtion (use distplot)\n",
    "plt.figure(figsize = (15,10))\n",
    "sns.distplot(df['loan_amnt'], bins = 10)"
   ]
  },
  {
   "cell_type": "code",
   "execution_count": 19,
   "metadata": {
    "colab": {
     "base_uri": "https://localhost:8080/",
     "height": 623
    },
    "colab_type": "code",
    "executionInfo": {
     "elapsed": 127321,
     "status": "ok",
     "timestamp": 1571970902661,
     "user": {
      "displayName": "Eddie Choo",
      "photoUrl": "https://lh3.googleusercontent.com/a-/AAuE7mCT_zNzUPX6DofnbeXxsxL_MNeAWMIr-2pyX-h9og=s64",
      "userId": "10465448498447162897"
     },
     "user_tz": -480
    },
    "id": "nT9n20Hek4hL",
    "outputId": "36d3b2db-b58f-4dc5-e5cd-65a51aa246f2"
   },
   "outputs": [
    {
     "data": {
      "text/plain": [
       "<matplotlib.axes._subplots.AxesSubplot at 0x1161b83d0>"
      ]
     },
     "execution_count": 19,
     "metadata": {},
     "output_type": "execute_result"
    },
    {
     "data": {
      "image/png": "[encoded data removed]",
      "text/plain": [
       "<Figure size 1080x720 with 1 Axes>"
      ]
     },
     "metadata": {
      "needs_background": "light"
     },
     "output_type": "display_data"
    }
   ],
   "source": [
    " # 5) Instalment distribution (use distplot or barplot)\n",
    "import matplotlib.pyplot as plt\n",
    "plt.figure(figsize = (15,10))\n",
    "sns.distplot(df['installment'], bins = 10)\n",
    "  "
   ]
  },
  {
   "cell_type": "code",
   "execution_count": 20,
   "metadata": {
    "colab": {
     "base_uri": "https://localhost:8080/",
     "height": 677
    },
    "colab_type": "code",
    "executionInfo": {
     "elapsed": 127853,
     "status": "ok",
     "timestamp": 1571970903234,
     "user": {
      "displayName": "Eddie Choo",
      "photoUrl": "https://lh3.googleusercontent.com/a-/AAuE7mCT_zNzUPX6DofnbeXxsxL_MNeAWMIr-2pyX-h9og=s64",
      "userId": "10465448498447162897"
     },
     "user_tz": -480
    },
    "id": "fcX0Nb-8pcLD",
    "outputId": "64dec8b2-186e-4e68-a453-670bcccff723"
   },
   "outputs": [
    {
     "data": {
      "text/plain": [
       "<matplotlib.axes._subplots.AxesSubplot at 0x11add6a90>"
      ]
     },
     "execution_count": 20,
     "metadata": {},
     "output_type": "execute_result"
    },
    {
     "data": {
      "image/png": "[encoded data removed]",
      "text/plain": [
       "<Figure size 1080x720 with 1 Axes>"
      ]
     },
     "metadata": {
      "needs_background": "light"
     },
     "output_type": "display_data"
    }
   ],
   "source": [
    " # 2) Client purpose (use barplot)\n",
    "import matplotlib.pyplot as plt\n",
    "\n",
    "plt.figure(figsize = (15,10))\n",
    "plt.xticks(rotation = 45)\n",
    "df['purpose'].value_counts()\n",
    "\n",
    "sns.barplot(x = df['purpose'].value_counts().index, y = df['purpose'].value_counts())"
   ]
  },
  {
   "cell_type": "code",
   "execution_count": 21,
   "metadata": {
    "colab": {
     "base_uri": "https://localhost:8080/",
     "height": 629
    },
    "colab_type": "code",
    "executionInfo": {
     "elapsed": 128706,
     "status": "ok",
     "timestamp": 1571970904314,
     "user": {
      "displayName": "Eddie Choo",
      "photoUrl": "https://lh3.googleusercontent.com/a-/AAuE7mCT_zNzUPX6DofnbeXxsxL_MNeAWMIr-2pyX-h9og=s64",
      "userId": "10465448498447162897"
     },
     "user_tz": -480
    },
    "id": "BDKOVC2Lv0I5",
    "outputId": "e30c6fd1-61a7-45d1-8d1d-4b800430d010"
   },
   "outputs": [
    {
     "data": {
      "text/plain": [
       "<matplotlib.axes._subplots.AxesSubplot at 0x116094890>"
      ]
     },
     "execution_count": 21,
     "metadata": {},
     "output_type": "execute_result"
    },
    {
     "data": {
      "image/png": "[encoded data removed]",
      "text/plain": [
       "<Figure size 1080x720 with 1 Axes>"
      ]
     },
     "metadata": {
      "needs_background": "light"
     },
     "output_type": "display_data"
    }
   ],
   "source": [
    "df[\"int_rate\"].value_counts()\n",
    "plt.figure(figsize = (15,10))\n",
    "plt.xticks(rotation = 45)\n",
    "sns.distplot(df['int_rate'], bins = 100)\n"
   ]
  },
  {
   "cell_type": "code",
   "execution_count": 22,
   "metadata": {
    "colab": {
     "base_uri": "https://localhost:8080/",
     "height": 611
    },
    "colab_type": "code",
    "executionInfo": {
     "elapsed": 129192,
     "status": "ok",
     "timestamp": 1571970904871,
     "user": {
      "displayName": "Eddie Choo",
      "photoUrl": "https://lh3.googleusercontent.com/a-/AAuE7mCT_zNzUPX6DofnbeXxsxL_MNeAWMIr-2pyX-h9og=s64",
      "userId": "10465448498447162897"
     },
     "user_tz": -480
    },
    "id": "C0OtOu-Mxq7E",
    "outputId": "9dca1f5d-f1b7-4b5b-e116-7628b866ab1c"
   },
   "outputs": [
    {
     "data": {
      "text/plain": [
       "<matplotlib.axes._subplots.AxesSubplot at 0x1156a5710>"
      ]
     },
     "execution_count": 22,
     "metadata": {},
     "output_type": "execute_result"
    },
    {
     "data": {
      "image/png": "[encoded data removed]",
      "text/plain": [
       "<Figure size 1080x720 with 1 Axes>"
      ]
     },
     "metadata": {
      "needs_background": "light"
     },
     "output_type": "display_data"
    }
   ],
   "source": [
    "df['grade']\n",
    "plt.figure(figsize = (15,10))\n",
    "plt.xticks(rotation = 45)\n",
    "df['purpose'].value_counts()\n",
    "\n",
    "sns.barplot(x = df['grade'].value_counts().index, y = df['grade'].value_counts())"
   ]
  },
  {
   "cell_type": "code",
   "execution_count": 23,
   "metadata": {
    "colab": {
     "base_uri": "https://localhost:8080/",
     "height": 625
    },
    "colab_type": "code",
    "executionInfo": {
     "elapsed": 145972,
     "status": "ok",
     "timestamp": 1571970921680,
     "user": {
      "displayName": "Eddie Choo",
      "photoUrl": "https://lh3.googleusercontent.com/a-/AAuE7mCT_zNzUPX6DofnbeXxsxL_MNeAWMIr-2pyX-h9og=s64",
      "userId": "10465448498447162897"
     },
     "user_tz": -480
    },
    "id": "BgTODLewzCNz",
    "outputId": "9a0be032-9c28-4c80-9515-1fa465c5d976"
   },
   "outputs": [
    {
     "data": {
      "text/plain": [
       "<matplotlib.axes._subplots.AxesSubplot at 0x1154c4b10>"
      ]
     },
     "execution_count": 23,
     "metadata": {},
     "output_type": "execute_result"
    },
    {
     "data": {
      "image/png": "[encoded data removed]",
      "text/plain": [
       "<Figure size 1080x720 with 1 Axes>"
      ]
     },
     "metadata": {
      "needs_background": "light"
     },
     "output_type": "display_data"
    }
   ],
   "source": [
    "plt.figure(figsize = (15,10))\n",
    "plt.xticks(rotation = 45)\n",
    "sns.scatterplot(x = df['grade'], y = df['int_rate'])"
   ]
  },
  {
   "cell_type": "code",
   "execution_count": 24,
   "metadata": {
    "colab": {
     "base_uri": "https://localhost:8080/",
     "height": 299
    },
    "colab_type": "code",
    "executionInfo": {
     "elapsed": 147598,
     "status": "ok",
     "timestamp": 1571970923334,
     "user": {
      "displayName": "Eddie Choo",
      "photoUrl": "https://lh3.googleusercontent.com/a-/AAuE7mCT_zNzUPX6DofnbeXxsxL_MNeAWMIr-2pyX-h9og=s64",
      "userId": "10465448498447162897"
     },
     "user_tz": -480
    },
    "id": "mfZtBtRiz5hi",
    "outputId": "3b15b95d-f055-4883-a202-a7261ae924de"
   },
   "outputs": [
    {
     "data": {
      "image/png": "[encoded data removed]",
      "text/plain": [
       "<Figure size 432x288 with 1 Axes>"
      ]
     },
     "metadata": {
      "needs_background": "light"
     },
     "output_type": "display_data"
    }
   ],
   "source": [
    "p1 = plt.bar(df['emp_length'].value_counts().index, df['emp_length'].value_counts())\n",
    "p2 = plt.bar(df['int_rate'].value_counts().index, df['int_rate'].value_counts())\n",
    "plt.xticks(rotation = 45)\n",
    "plt.show()"
   ]
  },
  {
   "cell_type": "code",
   "execution_count": 25,
   "metadata": {
    "colab": {
     "base_uri": "https://localhost:8080/",
     "height": 421
    },
    "colab_type": "code",
    "executionInfo": {
     "elapsed": 151621,
     "status": "ok",
     "timestamp": 1571970927383,
     "user": {
      "displayName": "Eddie Choo",
      "photoUrl": "https://lh3.googleusercontent.com/a-/AAuE7mCT_zNzUPX6DofnbeXxsxL_MNeAWMIr-2pyX-h9og=s64",
      "userId": "10465448498447162897"
     },
     "user_tz": -480
    },
    "id": "HB3PTDVG4Egj",
    "outputId": "827db599-aa67-4d0d-f709-8fdfdf453ec4"
   },
   "outputs": [
    {
     "data": {
      "text/html": [
       "<div>\n",
       "<style scoped>\n",
       "    .dataframe tbody tr th:only-of-type {\n",
       "        vertical-align: middle;\n",
       "    }\n",
       "\n",
       "    .dataframe tbody tr th {\n",
       "        vertical-align: top;\n",
       "    }\n",
       "\n",
       "    .dataframe thead th {\n",
       "        text-align: right;\n",
       "    }\n",
       "</style>\n",
       "<table border=\"1\" class=\"dataframe\">\n",
       "  <thead>\n",
       "    <tr style=\"text-align: right;\">\n",
       "      <th></th>\n",
       "      <th>int_rate</th>\n",
       "    </tr>\n",
       "    <tr>\n",
       "      <th>emp_length</th>\n",
       "      <th></th>\n",
       "    </tr>\n",
       "  </thead>\n",
       "  <tbody>\n",
       "    <tr>\n",
       "      <td>1 year</td>\n",
       "      <td>13.189754</td>\n",
       "    </tr>\n",
       "    <tr>\n",
       "      <td>10+ years</td>\n",
       "      <td>13.002892</td>\n",
       "    </tr>\n",
       "    <tr>\n",
       "      <td>2 years</td>\n",
       "      <td>13.127323</td>\n",
       "    </tr>\n",
       "    <tr>\n",
       "      <td>3 years</td>\n",
       "      <td>13.120563</td>\n",
       "    </tr>\n",
       "    <tr>\n",
       "      <td>4 years</td>\n",
       "      <td>13.131205</td>\n",
       "    </tr>\n",
       "    <tr>\n",
       "      <td>5 years</td>\n",
       "      <td>13.141481</td>\n",
       "    </tr>\n",
       "    <tr>\n",
       "      <td>6 years</td>\n",
       "      <td>13.176806</td>\n",
       "    </tr>\n",
       "    <tr>\n",
       "      <td>7 years</td>\n",
       "      <td>13.194967</td>\n",
       "    </tr>\n",
       "    <tr>\n",
       "      <td>8 years</td>\n",
       "      <td>13.097526</td>\n",
       "    </tr>\n",
       "    <tr>\n",
       "      <td>9 years</td>\n",
       "      <td>13.075230</td>\n",
       "    </tr>\n",
       "    <tr>\n",
       "      <td>&lt; 1 year</td>\n",
       "      <td>13.073818</td>\n",
       "    </tr>\n",
       "  </tbody>\n",
       "</table>\n",
       "</div>"
      ],
      "text/plain": [
       "             int_rate\n",
       "emp_length           \n",
       "1 year      13.189754\n",
       "10+ years   13.002892\n",
       "2 years     13.127323\n",
       "3 years     13.120563\n",
       "4 years     13.131205\n",
       "5 years     13.141481\n",
       "6 years     13.176806\n",
       "7 years     13.194967\n",
       "8 years     13.097526\n",
       "9 years     13.075230\n",
       "< 1 year    13.073818"
      ]
     },
     "execution_count": 25,
     "metadata": {},
     "output_type": "execute_result"
    }
   ],
   "source": [
    "df.groupby('emp_length').mean()[['int_rate']]"
   ]
  },
  {
   "cell_type": "code",
   "execution_count": 26,
   "metadata": {
    "colab": {
     "base_uri": "https://localhost:8080/",
     "height": 421
    },
    "colab_type": "code",
    "executionInfo": {
     "elapsed": 156221,
     "status": "ok",
     "timestamp": 1571970932004,
     "user": {
      "displayName": "Eddie Choo",
      "photoUrl": "https://lh3.googleusercontent.com/a-/AAuE7mCT_zNzUPX6DofnbeXxsxL_MNeAWMIr-2pyX-h9og=s64",
      "userId": "10465448498447162897"
     },
     "user_tz": -480
    },
    "id": "MFFnlKkClqkU",
    "outputId": "e1703528-7e6d-423d-f729-bcd2b10e1c1b"
   },
   "outputs": [
    {
     "data": {
      "text/html": [
       "<div>\n",
       "<style scoped>\n",
       "    .dataframe tbody tr th:only-of-type {\n",
       "        vertical-align: middle;\n",
       "    }\n",
       "\n",
       "    .dataframe tbody tr th {\n",
       "        vertical-align: top;\n",
       "    }\n",
       "\n",
       "    .dataframe thead th {\n",
       "        text-align: right;\n",
       "    }\n",
       "</style>\n",
       "<table border=\"1\" class=\"dataframe\">\n",
       "  <thead>\n",
       "    <tr style=\"text-align: right;\">\n",
       "      <th></th>\n",
       "      <th>grade</th>\n",
       "    </tr>\n",
       "    <tr>\n",
       "      <th>emp_length</th>\n",
       "      <th></th>\n",
       "    </tr>\n",
       "  </thead>\n",
       "  <tbody>\n",
       "    <tr>\n",
       "      <td>1 year</td>\n",
       "      <td>148403</td>\n",
       "    </tr>\n",
       "    <tr>\n",
       "      <td>10+ years</td>\n",
       "      <td>748005</td>\n",
       "    </tr>\n",
       "    <tr>\n",
       "      <td>2 years</td>\n",
       "      <td>203677</td>\n",
       "    </tr>\n",
       "    <tr>\n",
       "      <td>3 years</td>\n",
       "      <td>180753</td>\n",
       "    </tr>\n",
       "    <tr>\n",
       "      <td>4 years</td>\n",
       "      <td>136605</td>\n",
       "    </tr>\n",
       "    <tr>\n",
       "      <td>5 years</td>\n",
       "      <td>139698</td>\n",
       "    </tr>\n",
       "    <tr>\n",
       "      <td>6 years</td>\n",
       "      <td>102628</td>\n",
       "    </tr>\n",
       "    <tr>\n",
       "      <td>7 years</td>\n",
       "      <td>92695</td>\n",
       "    </tr>\n",
       "    <tr>\n",
       "      <td>8 years</td>\n",
       "      <td>91914</td>\n",
       "    </tr>\n",
       "    <tr>\n",
       "      <td>9 years</td>\n",
       "      <td>79395</td>\n",
       "    </tr>\n",
       "    <tr>\n",
       "      <td>&lt; 1 year</td>\n",
       "      <td>189988</td>\n",
       "    </tr>\n",
       "  </tbody>\n",
       "</table>\n",
       "</div>"
      ],
      "text/plain": [
       "             grade\n",
       "emp_length        \n",
       "1 year      148403\n",
       "10+ years   748005\n",
       "2 years     203677\n",
       "3 years     180753\n",
       "4 years     136605\n",
       "5 years     139698\n",
       "6 years     102628\n",
       "7 years      92695\n",
       "8 years      91914\n",
       "9 years      79395\n",
       "< 1 year    189988"
      ]
     },
     "execution_count": 26,
     "metadata": {},
     "output_type": "execute_result"
    }
   ],
   "source": [
    "df.groupby(['emp_length']).count()[['grade']]"
   ]
  },
  {
   "cell_type": "code",
   "execution_count": 27,
   "metadata": {
    "colab": {
     "base_uri": "https://localhost:8080/",
     "height": 238
    },
    "colab_type": "code",
    "executionInfo": {
     "elapsed": 156428,
     "status": "ok",
     "timestamp": 1571970932234,
     "user": {
      "displayName": "Eddie Choo",
      "photoUrl": "https://lh3.googleusercontent.com/a-/AAuE7mCT_zNzUPX6DofnbeXxsxL_MNeAWMIr-2pyX-h9og=s64",
      "userId": "10465448498447162897"
     },
     "user_tz": -480
    },
    "id": "nlMiUEkniIO9",
    "outputId": "dbc064f0-2d52-440b-d361-1c9fde0a668b"
   },
   "outputs": [
    {
     "data": {
      "text/plain": [
       "emp_length  grade\n",
       "1 year      A        27145\n",
       "            B        43212\n",
       "            C        43606\n",
       "            D        22039\n",
       "            E         8915\n",
       "                     ...  \n",
       "< 1 year    C        55597\n",
       "            D        26931\n",
       "            E        11174\n",
       "            F         3231\n",
       "            G         1009\n",
       "Length: 77, dtype: int64"
      ]
     },
     "execution_count": 27,
     "metadata": {},
     "output_type": "execute_result"
    }
   ],
   "source": [
    "grouped = df.groupby(['emp_length', 'grade'])\n",
    "grouped.size()\n",
    "\n",
    "\n",
    "\n"
   ]
  },
  {
   "cell_type": "code",
   "execution_count": 28,
   "metadata": {
    "colab": {
     "base_uri": "https://localhost:8080/",
     "height": 421
    },
    "colab_type": "code",
    "executionInfo": {
     "elapsed": 157042,
     "status": "ok",
     "timestamp": 1571970932872,
     "user": {
      "displayName": "Eddie Choo",
      "photoUrl": "https://lh3.googleusercontent.com/a-/AAuE7mCT_zNzUPX6DofnbeXxsxL_MNeAWMIr-2pyX-h9og=s64",
      "userId": "10465448498447162897"
     },
     "user_tz": -480
    },
    "id": "BQhAnDfAWafe",
    "outputId": "406381e4-6204-4148-ba72-2d0522e7fb94"
   },
   "outputs": [
    {
     "data": {
      "text/html": [
       "<div>\n",
       "<style scoped>\n",
       "    .dataframe tbody tr th:only-of-type {\n",
       "        vertical-align: middle;\n",
       "    }\n",
       "\n",
       "    .dataframe tbody tr th {\n",
       "        vertical-align: top;\n",
       "    }\n",
       "\n",
       "    .dataframe thead th {\n",
       "        text-align: right;\n",
       "    }\n",
       "</style>\n",
       "<table border=\"1\" class=\"dataframe\">\n",
       "  <thead>\n",
       "    <tr style=\"text-align: right;\">\n",
       "      <th>grade</th>\n",
       "      <th>A</th>\n",
       "      <th>B</th>\n",
       "      <th>C</th>\n",
       "      <th>D</th>\n",
       "      <th>E</th>\n",
       "      <th>F</th>\n",
       "      <th>G</th>\n",
       "    </tr>\n",
       "    <tr>\n",
       "      <th>emp_length</th>\n",
       "      <th></th>\n",
       "      <th></th>\n",
       "      <th></th>\n",
       "      <th></th>\n",
       "      <th></th>\n",
       "      <th></th>\n",
       "      <th></th>\n",
       "    </tr>\n",
       "  </thead>\n",
       "  <tbody>\n",
       "    <tr>\n",
       "      <td>1 year</td>\n",
       "      <td>27145</td>\n",
       "      <td>43212</td>\n",
       "      <td>43606</td>\n",
       "      <td>22039</td>\n",
       "      <td>8915</td>\n",
       "      <td>2653</td>\n",
       "      <td>833</td>\n",
       "    </tr>\n",
       "    <tr>\n",
       "      <td>10+ years</td>\n",
       "      <td>148168</td>\n",
       "      <td>220684</td>\n",
       "      <td>212449</td>\n",
       "      <td>104429</td>\n",
       "      <td>44301</td>\n",
       "      <td>13951</td>\n",
       "      <td>4023</td>\n",
       "    </tr>\n",
       "    <tr>\n",
       "      <td>2 years</td>\n",
       "      <td>38225</td>\n",
       "      <td>59821</td>\n",
       "      <td>59071</td>\n",
       "      <td>29426</td>\n",
       "      <td>12296</td>\n",
       "      <td>3744</td>\n",
       "      <td>1094</td>\n",
       "    </tr>\n",
       "    <tr>\n",
       "      <td>3 years</td>\n",
       "      <td>34023</td>\n",
       "      <td>53148</td>\n",
       "      <td>52398</td>\n",
       "      <td>25965</td>\n",
       "      <td>10900</td>\n",
       "      <td>3340</td>\n",
       "      <td>979</td>\n",
       "    </tr>\n",
       "    <tr>\n",
       "      <td>4 years</td>\n",
       "      <td>25953</td>\n",
       "      <td>39804</td>\n",
       "      <td>39400</td>\n",
       "      <td>19948</td>\n",
       "      <td>8285</td>\n",
       "      <td>2492</td>\n",
       "      <td>723</td>\n",
       "    </tr>\n",
       "    <tr>\n",
       "      <td>5 years</td>\n",
       "      <td>26640</td>\n",
       "      <td>40998</td>\n",
       "      <td>39972</td>\n",
       "      <td>20307</td>\n",
       "      <td>8398</td>\n",
       "      <td>2635</td>\n",
       "      <td>748</td>\n",
       "    </tr>\n",
       "    <tr>\n",
       "      <td>6 years</td>\n",
       "      <td>19364</td>\n",
       "      <td>30247</td>\n",
       "      <td>29452</td>\n",
       "      <td>14787</td>\n",
       "      <td>6179</td>\n",
       "      <td>2005</td>\n",
       "      <td>594</td>\n",
       "    </tr>\n",
       "    <tr>\n",
       "      <td>7 years</td>\n",
       "      <td>17243</td>\n",
       "      <td>27038</td>\n",
       "      <td>26586</td>\n",
       "      <td>13667</td>\n",
       "      <td>5724</td>\n",
       "      <td>1894</td>\n",
       "      <td>543</td>\n",
       "    </tr>\n",
       "    <tr>\n",
       "      <td>8 years</td>\n",
       "      <td>17309</td>\n",
       "      <td>26956</td>\n",
       "      <td>26234</td>\n",
       "      <td>13064</td>\n",
       "      <td>5923</td>\n",
       "      <td>1913</td>\n",
       "      <td>515</td>\n",
       "    </tr>\n",
       "    <tr>\n",
       "      <td>9 years</td>\n",
       "      <td>14960</td>\n",
       "      <td>23370</td>\n",
       "      <td>22820</td>\n",
       "      <td>11223</td>\n",
       "      <td>4992</td>\n",
       "      <td>1580</td>\n",
       "      <td>450</td>\n",
       "    </tr>\n",
       "    <tr>\n",
       "      <td>&lt; 1 year</td>\n",
       "      <td>36900</td>\n",
       "      <td>55146</td>\n",
       "      <td>55597</td>\n",
       "      <td>26931</td>\n",
       "      <td>11174</td>\n",
       "      <td>3231</td>\n",
       "      <td>1009</td>\n",
       "    </tr>\n",
       "  </tbody>\n",
       "</table>\n",
       "</div>"
      ],
      "text/plain": [
       "grade            A       B       C       D      E      F     G\n",
       "emp_length                                                    \n",
       "1 year       27145   43212   43606   22039   8915   2653   833\n",
       "10+ years   148168  220684  212449  104429  44301  13951  4023\n",
       "2 years      38225   59821   59071   29426  12296   3744  1094\n",
       "3 years      34023   53148   52398   25965  10900   3340   979\n",
       "4 years      25953   39804   39400   19948   8285   2492   723\n",
       "5 years      26640   40998   39972   20307   8398   2635   748\n",
       "6 years      19364   30247   29452   14787   6179   2005   594\n",
       "7 years      17243   27038   26586   13667   5724   1894   543\n",
       "8 years      17309   26956   26234   13064   5923   1913   515\n",
       "9 years      14960   23370   22820   11223   4992   1580   450\n",
       "< 1 year     36900   55146   55597   26931  11174   3231  1009"
      ]
     },
     "execution_count": 28,
     "metadata": {},
     "output_type": "execute_result"
    }
   ],
   "source": [
    "emp_grade_table = pd.crosstab(index=df[\"emp_length\"], columns =df[\"grade\"])\n",
    "\n",
    "emp_grade_table"
   ]
  },
  {
   "cell_type": "code",
   "execution_count": 29,
   "metadata": {
    "colab": {
     "base_uri": "https://localhost:8080/",
     "height": 937
    },
    "colab_type": "code",
    "executionInfo": {
     "elapsed": 157768,
     "status": "ok",
     "timestamp": 1571970933622,
     "user": {
      "displayName": "Eddie Choo",
      "photoUrl": "https://lh3.googleusercontent.com/a-/AAuE7mCT_zNzUPX6DofnbeXxsxL_MNeAWMIr-2pyX-h9og=s64",
      "userId": "10465448498447162897"
     },
     "user_tz": -480
    },
    "id": "6ze1SAnwWia_",
    "outputId": "7735465d-79c3-4cd6-f71a-e133f16cc628"
   },
   "outputs": [
    {
     "data": {
      "text/plain": [
       "<matplotlib.axes._subplots.AxesSubplot at 0x11504b210>"
      ]
     },
     "execution_count": 29,
     "metadata": {},
     "output_type": "execute_result"
    },
    {
     "data": {
      "image/png": "[encoded data removed]",
      "text/plain": [
       "<Figure size 720x1080 with 1 Axes>"
      ]
     },
     "metadata": {
      "needs_background": "light"
     },
     "output_type": "display_data"
    }
   ],
   "source": [
    "emp_grade_table.plot(kind=\"bar\", figsize = (10,15), stacked = True)"
   ]
  },
  {
   "cell_type": "code",
   "execution_count": 30,
   "metadata": {
    "colab": {
     "base_uri": "https://localhost:8080/",
     "height": 642
    },
    "colab_type": "code",
    "executionInfo": {
     "elapsed": 158566,
     "status": "ok",
     "timestamp": 1571970934448,
     "user": {
      "displayName": "Eddie Choo",
      "photoUrl": "https://lh3.googleusercontent.com/a-/AAuE7mCT_zNzUPX6DofnbeXxsxL_MNeAWMIr-2pyX-h9og=s64",
      "userId": "10465448498447162897"
     },
     "user_tz": -480
    },
    "id": "bGppqVPnWxSX",
    "outputId": "2d0e4359-26fe-4b5e-f062-5fdb1865743d"
   },
   "outputs": [
    {
     "data": {
      "text/plain": [
       "<BarContainer object of 11 artists>"
      ]
     },
     "execution_count": 30,
     "metadata": {},
     "output_type": "execute_result"
    },
    {
     "data": {
      "image/png": "[encoded data removed]",
      "text/plain": [
       "<Figure size 1080x720 with 1 Axes>"
      ]
     },
     "metadata": {
      "needs_background": "light"
     },
     "output_type": "display_data"
    }
   ],
   "source": [
    "plt.figure(figsize = (15,10))\n",
    "plt.xticks(rotation = 45)\n",
    "plt.bar(df['emp_length'].value_counts().index, df['emp_length'].value_counts())"
   ]
  },
  {
   "cell_type": "code",
   "execution_count": 31,
   "metadata": {
    "colab": {
     "base_uri": "https://localhost:8080/",
     "height": 221
    },
    "colab_type": "code",
    "executionInfo": {
     "elapsed": 158540,
     "status": "ok",
     "timestamp": 1571970934449,
     "user": {
      "displayName": "Eddie Choo",
      "photoUrl": "https://lh3.googleusercontent.com/a-/AAuE7mCT_zNzUPX6DofnbeXxsxL_MNeAWMIr-2pyX-h9og=s64",
      "userId": "10465448498447162897"
     },
     "user_tz": -480
    },
    "id": "-ZCAlvDTBbmT",
    "outputId": "c3c65a9a-eac9-45ce-e6ab-c11ec6d9846b"
   },
   "outputs": [
    {
     "data": {
      "text/plain": [
       "0          C\n",
       "1          D\n",
       "2          D\n",
       "3          D\n",
       "4          C\n",
       "          ..\n",
       "2260663    C\n",
       "2260664    E\n",
       "2260665    B\n",
       "2260666    D\n",
       "2260667    D\n",
       "Name: grade, Length: 2260668, dtype: object"
      ]
     },
     "execution_count": 31,
     "metadata": {},
     "output_type": "execute_result"
    }
   ],
   "source": [
    "df['grade']"
   ]
  },
  {
   "cell_type": "code",
   "execution_count": 32,
   "metadata": {
    "colab": {
     "base_uri": "https://localhost:8080/",
     "height": 611
    },
    "colab_type": "code",
    "executionInfo": {
     "elapsed": 158980,
     "status": "ok",
     "timestamp": 1571970934913,
     "user": {
      "displayName": "Eddie Choo",
      "photoUrl": "https://lh3.googleusercontent.com/a-/AAuE7mCT_zNzUPX6DofnbeXxsxL_MNeAWMIr-2pyX-h9og=s64",
      "userId": "10465448498447162897"
     },
     "user_tz": -480
    },
    "id": "z5VwvjQIBfqC",
    "outputId": "ac17111e-c11e-4f4c-93cb-db9174ba0c9d"
   },
   "outputs": [
    {
     "data": {
      "text/plain": [
       "<BarContainer object of 7 artists>"
      ]
     },
     "execution_count": 32,
     "metadata": {},
     "output_type": "execute_result"
    },
    {
     "data": {
      "image/png": "[encoded data removed]",
      "text/plain": [
       "<Figure size 1080x720 with 1 Axes>"
      ]
     },
     "metadata": {
      "needs_background": "light"
     },
     "output_type": "display_data"
    }
   ],
   "source": [
    "plt.figure(figsize = (15,10))\n",
    "plt.xticks(rotation = 45)\n",
    "plt.bar(df['grade'].value_counts().index, df['grade'].value_counts())"
   ]
  },
  {
   "cell_type": "code",
   "execution_count": 33,
   "metadata": {
    "colab": {
     "base_uri": "https://localhost:8080/",
     "height": 645
    },
    "colab_type": "code",
    "executionInfo": {
     "elapsed": 159504,
     "status": "ok",
     "timestamp": 1571970935477,
     "user": {
      "displayName": "Eddie Choo",
      "photoUrl": "https://lh3.googleusercontent.com/a-/AAuE7mCT_zNzUPX6DofnbeXxsxL_MNeAWMIr-2pyX-h9og=s64",
      "userId": "10465448498447162897"
     },
     "user_tz": -480
    },
    "id": "QEFy5YzcCJEq",
    "outputId": "903576ec-7867-48fc-f78b-bc0f6a351850"
   },
   "outputs": [
    {
     "data": {
      "text/plain": [
       "<BarContainer object of 2 artists>"
      ]
     },
     "execution_count": 33,
     "metadata": {},
     "output_type": "execute_result"
    },
    {
     "data": {
      "image/png": "[encoded data removed]",
      "text/plain": [
       "<Figure size 1080x720 with 1 Axes>"
      ]
     },
     "metadata": {
      "needs_background": "light"
     },
     "output_type": "display_data"
    }
   ],
   "source": [
    "plt.figure(figsize = (15,10))\n",
    "plt.xticks(rotation = 45)\n",
    "plt.bar(df['term'].value_counts().index, df['term'].value_counts())"
   ]
  },
  {
   "cell_type": "code",
   "execution_count": 35,
   "metadata": {
    "colab": {
     "base_uri": "https://localhost:8080/",
     "height": 187
    },
    "colab_type": "code",
    "executionInfo": {
     "elapsed": 161631,
     "status": "ok",
     "timestamp": 1571970937776,
     "user": {
      "displayName": "Eddie Choo",
      "photoUrl": "https://lh3.googleusercontent.com/a-/AAuE7mCT_zNzUPX6DofnbeXxsxL_MNeAWMIr-2pyX-h9og=s64",
      "userId": "10465448498447162897"
     },
     "user_tz": -480
    },
    "id": "Affb48KRGCG_",
    "outputId": "0a1453b4-842a-4496-b506-fc13c49838cb"
   },
   "outputs": [
    {
     "data": {
      "text/plain": [
       "Index(['inq_last_12m', 'acc_open_past_24mths', 'avg_cur_bal', 'bc_open_to_buy',\n",
       "       'bc_util', 'chargeoff_within_12_mths', 'delinq_amnt',\n",
       "       'mo_sin_old_il_acct', 'mo_sin_old_rev_tl_op', 'mo_sin_rcnt_rev_tl_op',\n",
       "       'mo_sin_rcnt_tl', 'mort_acc', 'mths_since_recent_bc',\n",
       "       'mths_since_recent_bc_dlq', 'mths_since_recent_inq',\n",
       "       'mths_since_recent_revol_delinq', 'num_accts_ever_120_pd',\n",
       "       'num_actv_bc_tl', 'num_actv_rev_tl', 'num_bc_sats', 'num_bc_tl',\n",
       "       'num_il_tl', 'num_op_rev_tl', 'num_rev_accts', 'num_rev_tl_bal_gt_0',\n",
       "       'num_sats', 'num_tl_120dpd_2m', 'num_tl_30dpd', 'num_tl_90g_dpd_24m'],\n",
       "      dtype='object')"
      ]
     },
     "execution_count": 35,
     "metadata": {},
     "output_type": "execute_result"
    }
   ],
   "source": [
    "columns = df.columns\n",
    "\n",
    "columns[21:40]\n",
    "columns[41:70]\n",
    "columns[71:100]"
   ]
  },
  {
   "cell_type": "code",
   "execution_count": 36,
   "metadata": {
    "colab": {
     "base_uri": "https://localhost:8080/",
     "height": 68
    },
    "colab_type": "code",
    "executionInfo": {
     "elapsed": 161606,
     "status": "ok",
     "timestamp": 1571970937777,
     "user": {
      "displayName": "Eddie Choo",
      "photoUrl": "https://lh3.googleusercontent.com/a-/AAuE7mCT_zNzUPX6DofnbeXxsxL_MNeAWMIr-2pyX-h9og=s64",
      "userId": "10465448498447162897"
     },
     "user_tz": -480
    },
    "id": "xdk6sJL0HiJI",
    "outputId": "46460718-b8da-4000-ec3c-54fc74c43b6d"
   },
   "outputs": [
    {
     "data": {
      "text/plain": [
       "Index(['home_ownership', 'annual_inc', 'verification_status', 'issue_d',\n",
       "       'loan_status', 'pymnt_plan', 'url', 'desc', 'purpose', 'title'],\n",
       "      dtype='object')"
      ]
     },
     "execution_count": 36,
     "metadata": {},
     "output_type": "execute_result"
    }
   ],
   "source": [
    "columns[10:20]"
   ]
  },
  {
   "cell_type": "code",
   "execution_count": 37,
   "metadata": {
    "colab": {
     "base_uri": "https://localhost:8080/",
     "height": 306
    },
    "colab_type": "code",
    "executionInfo": {
     "elapsed": 161570,
     "status": "ok",
     "timestamp": 1571970937778,
     "user": {
      "displayName": "Eddie Choo",
      "photoUrl": "https://lh3.googleusercontent.com/a-/AAuE7mCT_zNzUPX6DofnbeXxsxL_MNeAWMIr-2pyX-h9og=s64",
      "userId": "10465448498447162897"
     },
     "user_tz": -480
    },
    "id": "3-SGqEegHrrB",
    "outputId": "ef9a8cc4-b7fd-4d7f-a104-118283139a7d"
   },
   "outputs": [
    {
     "data": {
      "text/plain": [
       "Index(['pct_tl_nvr_dlq', 'percent_bc_gt_75', 'pub_rec_bankruptcies',\n",
       "       'tax_liens', 'tot_hi_cred_lim', 'total_bal_ex_mort', 'total_bc_limit',\n",
       "       'total_il_high_credit_limit', 'revol_bal_joint',\n",
       "       'sec_app_earliest_cr_line', 'sec_app_inq_last_6mths',\n",
       "       'sec_app_mort_acc', 'sec_app_open_acc', 'sec_app_revol_util',\n",
       "       'sec_app_open_act_il', 'sec_app_num_rev_accts',\n",
       "       'sec_app_chargeoff_within_12_mths',\n",
       "       'sec_app_collections_12_mths_ex_med',\n",
       "       'sec_app_mths_since_last_major_derog', 'hardship_flag', 'hardship_type',\n",
       "       'hardship_reason', 'hardship_status', 'deferral_term',\n",
       "       'hardship_amount', 'hardship_start_date', 'hardship_end_date',\n",
       "       'payment_plan_start_date', 'hardship_length', 'hardship_dpd',\n",
       "       'hardship_loan_status', 'orig_projected_additional_accrued_interest',\n",
       "       'hardship_payoff_balance_amount', 'hardship_last_payment_amount',\n",
       "       'disbursement_method', 'debt_settlement_flag',\n",
       "       'debt_settlement_flag_date', 'settlement_status', 'settlement_date'],\n",
       "      dtype='object')"
      ]
     },
     "execution_count": 37,
     "metadata": {},
     "output_type": "execute_result"
    }
   ],
   "source": [
    "columns[101:140]"
   ]
  },
  {
   "cell_type": "code",
   "execution_count": 38,
   "metadata": {
    "colab": {
     "base_uri": "https://localhost:8080/",
     "height": 34
    },
    "colab_type": "code",
    "executionInfo": {
     "elapsed": 161552,
     "status": "ok",
     "timestamp": 1571970937779,
     "user": {
      "displayName": "Eddie Choo",
      "photoUrl": "https://lh3.googleusercontent.com/a-/AAuE7mCT_zNzUPX6DofnbeXxsxL_MNeAWMIr-2pyX-h9og=s64",
      "userId": "10465448498447162897"
     },
     "user_tz": -480
    },
    "id": "dlnwJgWdHvv3",
    "outputId": "0dfcc496-4e78-4f90-d1a0-fa083e8c79bb"
   },
   "outputs": [
    {
     "data": {
      "text/plain": [
       "Index(['settlement_percentage', 'settlement_term'], dtype='object')"
      ]
     },
     "execution_count": 38,
     "metadata": {},
     "output_type": "execute_result"
    }
   ],
   "source": [
    "columns[141:]"
   ]
  },
  {
   "cell_type": "code",
   "execution_count": 39,
   "metadata": {
    "colab": {
     "base_uri": "https://localhost:8080/",
     "height": 102
    },
    "colab_type": "code",
    "executionInfo": {
     "elapsed": 161528,
     "status": "ok",
     "timestamp": 1571970937781,
     "user": {
      "displayName": "Eddie Choo",
      "photoUrl": "https://lh3.googleusercontent.com/a-/AAuE7mCT_zNzUPX6DofnbeXxsxL_MNeAWMIr-2pyX-h9og=s64",
      "userId": "10465448498447162897"
     },
     "user_tz": -480
    },
    "id": "PeGMwPoESpdO",
    "outputId": "4e09c078-8864-4328-f588-ca890da75d03"
   },
   "outputs": [
    {
     "data": {
      "text/plain": [
       "Index(['loan_amnt', 'funded_amnt', 'funded_amnt_inv', 'term', 'int_rate',\n",
       "       'installment', 'grade', 'sub_grade', 'emp_title', 'emp_length',\n",
       "       'home_ownership', 'annual_inc', 'verification_status', 'issue_d',\n",
       "       'loan_status', 'pymnt_plan', 'url', 'desc', 'purpose', 'title'],\n",
       "      dtype='object')"
      ]
     },
     "execution_count": 39,
     "metadata": {},
     "output_type": "execute_result"
    }
   ],
   "source": [
    "columns[0:20]"
   ]
  },
  {
   "cell_type": "code",
   "execution_count": 40,
   "metadata": {
    "colab": {
     "base_uri": "https://localhost:8080/",
     "height": 221
    },
    "colab_type": "code",
    "executionInfo": {
     "elapsed": 161510,
     "status": "ok",
     "timestamp": 1571970937782,
     "user": {
      "displayName": "Eddie Choo",
      "photoUrl": "https://lh3.googleusercontent.com/a-/AAuE7mCT_zNzUPX6DofnbeXxsxL_MNeAWMIr-2pyX-h9og=s64",
      "userId": "10465448498447162897"
     },
     "user_tz": -480
    },
    "id": "42PQiBIXTGYc",
    "outputId": "682a9c21-2fcc-4785-a7b7-0f90fb2b4e7b"
   },
   "outputs": [
    {
     "data": {
      "text/plain": [
       "Index(['addr_state', 'dti', 'delinq_2yrs', 'earliest_cr_line',\n",
       "       'inq_last_6mths', 'mths_since_last_delinq', 'mths_since_last_record',\n",
       "       'open_acc', 'pub_rec', 'revol_bal', 'revol_util', 'total_acc',\n",
       "       'initial_list_status', 'out_prncp', 'out_prncp_inv', 'total_pymnt',\n",
       "       'total_pymnt_inv', 'total_rec_prncp', 'total_rec_int',\n",
       "       'total_rec_late_fee', 'recoveries', 'collection_recovery_fee',\n",
       "       'last_pymnt_d', 'last_pymnt_amnt', 'next_pymnt_d', 'last_credit_pull_d',\n",
       "       'collections_12_mths_ex_med', 'mths_since_last_major_derog',\n",
       "       'policy_code', 'application_type', 'annual_inc_joint', 'dti_joint',\n",
       "       'verification_status_joint', 'acc_now_delinq', 'tot_coll_amt',\n",
       "       'tot_cur_bal', 'open_acc_6m', 'open_act_il', 'open_il_12m'],\n",
       "      dtype='object')"
      ]
     },
     "execution_count": 40,
     "metadata": {},
     "output_type": "execute_result"
    }
   ],
   "source": [
    "columns[21:60]"
   ]
  },
  {
   "cell_type": "code",
   "execution_count": 41,
   "metadata": {
    "colab": {
     "base_uri": "https://localhost:8080/",
     "height": 221
    },
    "colab_type": "code",
    "executionInfo": {
     "elapsed": 161486,
     "status": "ok",
     "timestamp": 1571970937784,
     "user": {
      "displayName": "Eddie Choo",
      "photoUrl": "https://lh3.googleusercontent.com/a-/AAuE7mCT_zNzUPX6DofnbeXxsxL_MNeAWMIr-2pyX-h9og=s64",
      "userId": "10465448498447162897"
     },
     "user_tz": -480
    },
    "id": "NUc6dgnCTNdO",
    "outputId": "8f1db923-d5d3-4c17-907e-3249cee9ad9e"
   },
   "outputs": [
    {
     "data": {
      "text/plain": [
       "Index(['mths_since_rcnt_il', 'total_bal_il', 'il_util', 'open_rv_12m',\n",
       "       'open_rv_24m', 'max_bal_bc', 'all_util', 'total_rev_hi_lim', 'inq_fi',\n",
       "       'total_cu_tl', 'inq_last_12m', 'acc_open_past_24mths', 'avg_cur_bal',\n",
       "       'bc_open_to_buy', 'bc_util', 'chargeoff_within_12_mths', 'delinq_amnt',\n",
       "       'mo_sin_old_il_acct', 'mo_sin_old_rev_tl_op', 'mo_sin_rcnt_rev_tl_op',\n",
       "       'mo_sin_rcnt_tl', 'mort_acc', 'mths_since_recent_bc',\n",
       "       'mths_since_recent_bc_dlq', 'mths_since_recent_inq',\n",
       "       'mths_since_recent_revol_delinq', 'num_accts_ever_120_pd',\n",
       "       'num_actv_bc_tl', 'num_actv_rev_tl', 'num_bc_sats', 'num_bc_tl',\n",
       "       'num_il_tl', 'num_op_rev_tl', 'num_rev_accts', 'num_rev_tl_bal_gt_0',\n",
       "       'num_sats', 'num_tl_120dpd_2m', 'num_tl_30dpd', 'num_tl_90g_dpd_24m'],\n",
       "      dtype='object')"
      ]
     },
     "execution_count": 41,
     "metadata": {},
     "output_type": "execute_result"
    }
   ],
   "source": [
    "columns[61:100]"
   ]
  },
  {
   "cell_type": "code",
   "execution_count": 42,
   "metadata": {
    "colab": {
     "base_uri": "https://localhost:8080/",
     "height": 323
    },
    "colab_type": "code",
    "executionInfo": {
     "elapsed": 161462,
     "status": "ok",
     "timestamp": 1571970937785,
     "user": {
      "displayName": "Eddie Choo",
      "photoUrl": "https://lh3.googleusercontent.com/a-/AAuE7mCT_zNzUPX6DofnbeXxsxL_MNeAWMIr-2pyX-h9og=s64",
      "userId": "10465448498447162897"
     },
     "user_tz": -480
    },
    "id": "OWqi1HhH8U2D",
    "outputId": "7a463b89-5ee1-4081-b972-8add85a7e272"
   },
   "outputs": [
    {
     "data": {
      "text/plain": [
       "Index(['pct_tl_nvr_dlq', 'percent_bc_gt_75', 'pub_rec_bankruptcies',\n",
       "       'tax_liens', 'tot_hi_cred_lim', 'total_bal_ex_mort', 'total_bc_limit',\n",
       "       'total_il_high_credit_limit', 'revol_bal_joint',\n",
       "       'sec_app_earliest_cr_line', 'sec_app_inq_last_6mths',\n",
       "       'sec_app_mort_acc', 'sec_app_open_acc', 'sec_app_revol_util',\n",
       "       'sec_app_open_act_il', 'sec_app_num_rev_accts',\n",
       "       'sec_app_chargeoff_within_12_mths',\n",
       "       'sec_app_collections_12_mths_ex_med',\n",
       "       'sec_app_mths_since_last_major_derog', 'hardship_flag', 'hardship_type',\n",
       "       'hardship_reason', 'hardship_status', 'deferral_term',\n",
       "       'hardship_amount', 'hardship_start_date', 'hardship_end_date',\n",
       "       'payment_plan_start_date', 'hardship_length', 'hardship_dpd',\n",
       "       'hardship_loan_status', 'orig_projected_additional_accrued_interest',\n",
       "       'hardship_payoff_balance_amount', 'hardship_last_payment_amount',\n",
       "       'disbursement_method', 'debt_settlement_flag',\n",
       "       'debt_settlement_flag_date', 'settlement_status', 'settlement_date',\n",
       "       'settlement_amount', 'settlement_percentage', 'settlement_term'],\n",
       "      dtype='object')"
      ]
     },
     "execution_count": 42,
     "metadata": {},
     "output_type": "execute_result"
    }
   ],
   "source": [
    "columns[101:]"
   ]
  },
  {
   "cell_type": "code",
   "execution_count": 43,
   "metadata": {
    "colab": {
     "base_uri": "https://localhost:8080/",
     "height": 221
    },
    "colab_type": "code",
    "executionInfo": {
     "elapsed": 161448,
     "status": "ok",
     "timestamp": 1571970937786,
     "user": {
      "displayName": "Eddie Choo",
      "photoUrl": "https://lh3.googleusercontent.com/a-/AAuE7mCT_zNzUPX6DofnbeXxsxL_MNeAWMIr-2pyX-h9og=s64",
      "userId": "10465448498447162897"
     },
     "user_tz": -480
    },
    "id": "4TwRfinuTZsT",
    "outputId": "2626b45b-cce5-4223-faaa-e22c7f7b74cf"
   },
   "outputs": [
    {
     "data": {
      "text/plain": [
       "0          0.0\n",
       "1          0.0\n",
       "2          0.0\n",
       "3          0.0\n",
       "4          0.0\n",
       "          ... \n",
       "2260663    0.0\n",
       "2260664    3.0\n",
       "2260665    0.0\n",
       "2260666    2.0\n",
       "2260667    0.0\n",
       "Name: delinq_2yrs, Length: 2260668, dtype: float64"
      ]
     },
     "execution_count": 43,
     "metadata": {},
     "output_type": "execute_result"
    }
   ],
   "source": [
    "df['delinq_2yrs']"
   ]
  },
  {
   "cell_type": "code",
   "execution_count": 44,
   "metadata": {
    "colab": {
     "base_uri": "https://localhost:8080/",
     "height": 614
    },
    "colab_type": "code",
    "executionInfo": {
     "elapsed": 162005,
     "status": "ok",
     "timestamp": 1571970938362,
     "user": {
      "displayName": "Eddie Choo",
      "photoUrl": "https://lh3.googleusercontent.com/a-/AAuE7mCT_zNzUPX6DofnbeXxsxL_MNeAWMIr-2pyX-h9og=s64",
      "userId": "10465448498447162897"
     },
     "user_tz": -480
    },
    "id": "8aiVyCNpT8Rs",
    "outputId": "22692e28-25a1-410c-91fe-3600efda7af1"
   },
   "outputs": [
    {
     "data": {
      "text/plain": [
       "<BarContainer object of 37 artists>"
      ]
     },
     "execution_count": 44,
     "metadata": {},
     "output_type": "execute_result"
    },
    {
     "data": {
      "image/png": "[encoded data removed]",
      "text/plain": [
       "<Figure size 1080x720 with 1 Axes>"
      ]
     },
     "metadata": {
      "needs_background": "light"
     },
     "output_type": "display_data"
    }
   ],
   "source": [
    "plt.figure(figsize = (15,10))\n",
    "plt.xticks(rotation = 45)\n",
    "plt.bar(df['delinq_2yrs'].value_counts().index, df['delinq_2yrs'].value_counts())"
   ]
  },
  {
   "cell_type": "code",
   "execution_count": 45,
   "metadata": {
    "colab": {
     "base_uri": "https://localhost:8080/",
     "height": 221
    },
    "colab_type": "code",
    "executionInfo": {
     "elapsed": 161985,
     "status": "ok",
     "timestamp": 1571970938364,
     "user": {
      "displayName": "Eddie Choo",
      "photoUrl": "https://lh3.googleusercontent.com/a-/AAuE7mCT_zNzUPX6DofnbeXxsxL_MNeAWMIr-2pyX-h9og=s64",
      "userId": "10465448498447162897"
     },
     "user_tz": -480
    },
    "id": "VoDarRS_YyGh",
    "outputId": "414ed530-c7f3-47a9-af1d-9765e2d79d8d"
   },
   "outputs": [
    {
     "data": {
      "text/plain": [
       "0          55000.0\n",
       "1          90000.0\n",
       "2          59280.0\n",
       "3          92000.0\n",
       "4          57250.0\n",
       "            ...   \n",
       "2260663    58000.0\n",
       "2260664    30000.0\n",
       "2260665    64000.0\n",
       "2260666    60000.0\n",
       "2260667    60000.0\n",
       "Name: annual_inc, Length: 2260668, dtype: float64"
      ]
     },
     "execution_count": 45,
     "metadata": {},
     "output_type": "execute_result"
    }
   ],
   "source": [
    "df['annual_inc']"
   ]
  },
  {
   "cell_type": "code",
   "execution_count": 46,
   "metadata": {
    "colab": {
     "base_uri": "https://localhost:8080/",
     "height": 779
    },
    "colab_type": "code",
    "executionInfo": {
     "elapsed": 162610,
     "status": "ok",
     "timestamp": 1571970939006,
     "user": {
      "displayName": "Eddie Choo",
      "photoUrl": "https://lh3.googleusercontent.com/a-/AAuE7mCT_zNzUPX6DofnbeXxsxL_MNeAWMIr-2pyX-h9og=s64",
      "userId": "10465448498447162897"
     },
     "user_tz": -480
    },
    "id": "YJtuZDNLY9rg",
    "outputId": "0060e687-bdf6-48a7-bf8c-8b697e5ca18a"
   },
   "outputs": [
    {
     "ename": "ValueError",
     "evalue": "array must not contain infs or NaNs",
     "output_type": "error",
     "traceback": [
      "\u001b[0;31m---------------------------------------------------------------------------\u001b[0m",
      "\u001b[0;31mValueError\u001b[0m                                Traceback (most recent call last)",
      "\u001b[0;32m<ipython-input-46-cbee6f6ef11b>\u001b[0m in \u001b[0;36m<module>\u001b[0;34m\u001b[0m\n\u001b[1;32m      1\u001b[0m \u001b[0mplt\u001b[0m\u001b[0;34m.\u001b[0m\u001b[0mfigure\u001b[0m\u001b[0;34m(\u001b[0m\u001b[0mfigsize\u001b[0m \u001b[0;34m=\u001b[0m \u001b[0;34m(\u001b[0m\u001b[0;36m15\u001b[0m\u001b[0;34m,\u001b[0m\u001b[0;36m10\u001b[0m\u001b[0;34m)\u001b[0m\u001b[0;34m)\u001b[0m\u001b[0;34m\u001b[0m\u001b[0;34m\u001b[0m\u001b[0m\n\u001b[1;32m      2\u001b[0m \u001b[0mplt\u001b[0m\u001b[0;34m.\u001b[0m\u001b[0mxticks\u001b[0m\u001b[0;34m(\u001b[0m\u001b[0mrotation\u001b[0m \u001b[0;34m=\u001b[0m \u001b[0;36m45\u001b[0m\u001b[0;34m)\u001b[0m\u001b[0;34m\u001b[0m\u001b[0;34m\u001b[0m\u001b[0m\n\u001b[0;32m----> 3\u001b[0;31m \u001b[0msns\u001b[0m\u001b[0;34m.\u001b[0m\u001b[0mdistplot\u001b[0m\u001b[0;34m(\u001b[0m\u001b[0mdf\u001b[0m\u001b[0;34m[\u001b[0m\u001b[0;34m'annual_inc'\u001b[0m\u001b[0;34m]\u001b[0m\u001b[0;34m,\u001b[0m \u001b[0mbins\u001b[0m \u001b[0;34m=\u001b[0m \u001b[0;36m10\u001b[0m\u001b[0;34m)\u001b[0m\u001b[0;34m\u001b[0m\u001b[0;34m\u001b[0m\u001b[0m\n\u001b[0m",
      "\u001b[0;32m/Library/Frameworks/Python.framework/Versions/3.7/lib/python3.7/site-packages/seaborn/distributions.py\u001b[0m in \u001b[0;36mdistplot\u001b[0;34m(a, bins, hist, kde, rug, fit, hist_kws, kde_kws, rug_kws, fit_kws, color, vertical, norm_hist, axlabel, label, ax)\u001b[0m\n\u001b[1;32m    229\u001b[0m     \u001b[0;32mif\u001b[0m \u001b[0mkde\u001b[0m\u001b[0;34m:\u001b[0m\u001b[0;34m\u001b[0m\u001b[0;34m\u001b[0m\u001b[0m\n\u001b[1;32m    230\u001b[0m         \u001b[0mkde_color\u001b[0m \u001b[0;34m=\u001b[0m \u001b[0mkde_kws\u001b[0m\u001b[0;34m.\u001b[0m\u001b[0mpop\u001b[0m\u001b[0;34m(\u001b[0m\u001b[0;34m\"color\"\u001b[0m\u001b[0;34m,\u001b[0m \u001b[0mcolor\u001b[0m\u001b[0;34m)\u001b[0m\u001b[0;34m\u001b[0m\u001b[0;34m\u001b[0m\u001b[0m\n\u001b[0;32m--> 231\u001b[0;31m         \u001b[0mkdeplot\u001b[0m\u001b[0;34m(\u001b[0m\u001b[0ma\u001b[0m\u001b[0;34m,\u001b[0m \u001b[0mvertical\u001b[0m\u001b[0;34m=\u001b[0m\u001b[0mvertical\u001b[0m\u001b[0;34m,\u001b[0m \u001b[0max\u001b[0m\u001b[0;34m=\u001b[0m\u001b[0max\u001b[0m\u001b[0;34m,\u001b[0m \u001b[0mcolor\u001b[0m\u001b[0;34m=\u001b[0m\u001b[0mkde_color\u001b[0m\u001b[0;34m,\u001b[0m \u001b[0;34m**\u001b[0m\u001b[0mkde_kws\u001b[0m\u001b[0;34m)\u001b[0m\u001b[0;34m\u001b[0m\u001b[0;34m\u001b[0m\u001b[0m\n\u001b[0m\u001b[1;32m    232\u001b[0m         \u001b[0;32mif\u001b[0m \u001b[0mkde_color\u001b[0m \u001b[0;34m!=\u001b[0m \u001b[0mcolor\u001b[0m\u001b[0;34m:\u001b[0m\u001b[0;34m\u001b[0m\u001b[0;34m\u001b[0m\u001b[0m\n\u001b[1;32m    233\u001b[0m             \u001b[0mkde_kws\u001b[0m\u001b[0;34m[\u001b[0m\u001b[0;34m\"color\"\u001b[0m\u001b[0;34m]\u001b[0m \u001b[0;34m=\u001b[0m \u001b[0mkde_color\u001b[0m\u001b[0;34m\u001b[0m\u001b[0;34m\u001b[0m\u001b[0m\n",
      "\u001b[0;32m/Library/Frameworks/Python.framework/Versions/3.7/lib/python3.7/site-packages/seaborn/distributions.py\u001b[0m in \u001b[0;36mkdeplot\u001b[0;34m(data, data2, shade, vertical, kernel, bw, gridsize, cut, clip, legend, cumulative, shade_lowest, cbar, cbar_ax, cbar_kws, ax, **kwargs)\u001b[0m\n\u001b[1;32m    689\u001b[0m         ax = _univariate_kdeplot(data, shade, vertical, kernel, bw,\n\u001b[1;32m    690\u001b[0m                                  \u001b[0mgridsize\u001b[0m\u001b[0;34m,\u001b[0m \u001b[0mcut\u001b[0m\u001b[0;34m,\u001b[0m \u001b[0mclip\u001b[0m\u001b[0;34m,\u001b[0m \u001b[0mlegend\u001b[0m\u001b[0;34m,\u001b[0m \u001b[0max\u001b[0m\u001b[0;34m,\u001b[0m\u001b[0;34m\u001b[0m\u001b[0;34m\u001b[0m\u001b[0m\n\u001b[0;32m--> 691\u001b[0;31m                                  cumulative=cumulative, **kwargs)\n\u001b[0m\u001b[1;32m    692\u001b[0m \u001b[0;34m\u001b[0m\u001b[0m\n\u001b[1;32m    693\u001b[0m     \u001b[0;32mreturn\u001b[0m \u001b[0max\u001b[0m\u001b[0;34m\u001b[0m\u001b[0;34m\u001b[0m\u001b[0m\n",
      "\u001b[0;32m/Library/Frameworks/Python.framework/Versions/3.7/lib/python3.7/site-packages/seaborn/distributions.py\u001b[0m in \u001b[0;36m_univariate_kdeplot\u001b[0;34m(data, shade, vertical, kernel, bw, gridsize, cut, clip, legend, ax, cumulative, **kwargs)\u001b[0m\n\u001b[1;32m    292\u001b[0m                               \u001b[0;34m\"only implemented in statsmodels.\"\u001b[0m\u001b[0;34m\u001b[0m\u001b[0;34m\u001b[0m\u001b[0m\n\u001b[1;32m    293\u001b[0m                               \"Please install statsmodels.\")\n\u001b[0;32m--> 294\u001b[0;31m         \u001b[0mx\u001b[0m\u001b[0;34m,\u001b[0m \u001b[0my\u001b[0m \u001b[0;34m=\u001b[0m \u001b[0m_scipy_univariate_kde\u001b[0m\u001b[0;34m(\u001b[0m\u001b[0mdata\u001b[0m\u001b[0;34m,\u001b[0m \u001b[0mbw\u001b[0m\u001b[0;34m,\u001b[0m \u001b[0mgridsize\u001b[0m\u001b[0;34m,\u001b[0m \u001b[0mcut\u001b[0m\u001b[0;34m,\u001b[0m \u001b[0mclip\u001b[0m\u001b[0;34m)\u001b[0m\u001b[0;34m\u001b[0m\u001b[0;34m\u001b[0m\u001b[0m\n\u001b[0m\u001b[1;32m    295\u001b[0m \u001b[0;34m\u001b[0m\u001b[0m\n\u001b[1;32m    296\u001b[0m     \u001b[0;31m# Make sure the density is nonnegative\u001b[0m\u001b[0;34m\u001b[0m\u001b[0;34m\u001b[0m\u001b[0;34m\u001b[0m\u001b[0m\n",
      "\u001b[0;32m/Library/Frameworks/Python.framework/Versions/3.7/lib/python3.7/site-packages/seaborn/distributions.py\u001b[0m in \u001b[0;36m_scipy_univariate_kde\u001b[0;34m(data, bw, gridsize, cut, clip)\u001b[0m\n\u001b[1;32m    364\u001b[0m     \u001b[0;34m\"\"\"Compute a univariate kernel density estimate using scipy.\"\"\"\u001b[0m\u001b[0;34m\u001b[0m\u001b[0;34m\u001b[0m\u001b[0m\n\u001b[1;32m    365\u001b[0m     \u001b[0;32mtry\u001b[0m\u001b[0;34m:\u001b[0m\u001b[0;34m\u001b[0m\u001b[0;34m\u001b[0m\u001b[0m\n\u001b[0;32m--> 366\u001b[0;31m         \u001b[0mkde\u001b[0m \u001b[0;34m=\u001b[0m \u001b[0mstats\u001b[0m\u001b[0;34m.\u001b[0m\u001b[0mgaussian_kde\u001b[0m\u001b[0;34m(\u001b[0m\u001b[0mdata\u001b[0m\u001b[0;34m,\u001b[0m \u001b[0mbw_method\u001b[0m\u001b[0;34m=\u001b[0m\u001b[0mbw\u001b[0m\u001b[0;34m)\u001b[0m\u001b[0;34m\u001b[0m\u001b[0;34m\u001b[0m\u001b[0m\n\u001b[0m\u001b[1;32m    367\u001b[0m     \u001b[0;32mexcept\u001b[0m \u001b[0mTypeError\u001b[0m\u001b[0;34m:\u001b[0m\u001b[0;34m\u001b[0m\u001b[0;34m\u001b[0m\u001b[0m\n\u001b[1;32m    368\u001b[0m         \u001b[0mkde\u001b[0m \u001b[0;34m=\u001b[0m \u001b[0mstats\u001b[0m\u001b[0;34m.\u001b[0m\u001b[0mgaussian_kde\u001b[0m\u001b[0;34m(\u001b[0m\u001b[0mdata\u001b[0m\u001b[0;34m)\u001b[0m\u001b[0;34m\u001b[0m\u001b[0;34m\u001b[0m\u001b[0m\n",
      "\u001b[0;32m/Library/Frameworks/Python.framework/Versions/3.7/lib/python3.7/site-packages/scipy/stats/kde.py\u001b[0m in \u001b[0;36m__init__\u001b[0;34m(self, dataset, bw_method, weights)\u001b[0m\n\u001b[1;32m    206\u001b[0m             \u001b[0mself\u001b[0m\u001b[0;34m.\u001b[0m\u001b[0m_neff\u001b[0m \u001b[0;34m=\u001b[0m \u001b[0;36m1\u001b[0m\u001b[0;34m/\u001b[0m\u001b[0msum\u001b[0m\u001b[0;34m(\u001b[0m\u001b[0mself\u001b[0m\u001b[0;34m.\u001b[0m\u001b[0m_weights\u001b[0m\u001b[0;34m**\u001b[0m\u001b[0;36m2\u001b[0m\u001b[0;34m)\u001b[0m\u001b[0;34m\u001b[0m\u001b[0;34m\u001b[0m\u001b[0m\n\u001b[1;32m    207\u001b[0m \u001b[0;34m\u001b[0m\u001b[0m\n\u001b[0;32m--> 208\u001b[0;31m         \u001b[0mself\u001b[0m\u001b[0;34m.\u001b[0m\u001b[0mset_bandwidth\u001b[0m\u001b[0;34m(\u001b[0m\u001b[0mbw_method\u001b[0m\u001b[0;34m=\u001b[0m\u001b[0mbw_method\u001b[0m\u001b[0;34m)\u001b[0m\u001b[0;34m\u001b[0m\u001b[0;34m\u001b[0m\u001b[0m\n\u001b[0m\u001b[1;32m    209\u001b[0m \u001b[0;34m\u001b[0m\u001b[0m\n\u001b[1;32m    210\u001b[0m     \u001b[0;32mdef\u001b[0m \u001b[0mevaluate\u001b[0m\u001b[0;34m(\u001b[0m\u001b[0mself\u001b[0m\u001b[0;34m,\u001b[0m \u001b[0mpoints\u001b[0m\u001b[0;34m)\u001b[0m\u001b[0;34m:\u001b[0m\u001b[0;34m\u001b[0m\u001b[0;34m\u001b[0m\u001b[0m\n",
      "\u001b[0;32m/Library/Frameworks/Python.framework/Versions/3.7/lib/python3.7/site-packages/scipy/stats/kde.py\u001b[0m in \u001b[0;36mset_bandwidth\u001b[0;34m(self, bw_method)\u001b[0m\n\u001b[1;32m    552\u001b[0m             \u001b[0;32mraise\u001b[0m \u001b[0mValueError\u001b[0m\u001b[0;34m(\u001b[0m\u001b[0mmsg\u001b[0m\u001b[0;34m)\u001b[0m\u001b[0;34m\u001b[0m\u001b[0;34m\u001b[0m\u001b[0m\n\u001b[1;32m    553\u001b[0m \u001b[0;34m\u001b[0m\u001b[0m\n\u001b[0;32m--> 554\u001b[0;31m         \u001b[0mself\u001b[0m\u001b[0;34m.\u001b[0m\u001b[0m_compute_covariance\u001b[0m\u001b[0;34m(\u001b[0m\u001b[0;34m)\u001b[0m\u001b[0;34m\u001b[0m\u001b[0;34m\u001b[0m\u001b[0m\n\u001b[0m\u001b[1;32m    555\u001b[0m \u001b[0;34m\u001b[0m\u001b[0m\n\u001b[1;32m    556\u001b[0m     \u001b[0;32mdef\u001b[0m \u001b[0m_compute_covariance\u001b[0m\u001b[0;34m(\u001b[0m\u001b[0mself\u001b[0m\u001b[0;34m)\u001b[0m\u001b[0;34m:\u001b[0m\u001b[0;34m\u001b[0m\u001b[0;34m\u001b[0m\u001b[0m\n",
      "\u001b[0;32m/Library/Frameworks/Python.framework/Versions/3.7/lib/python3.7/site-packages/scipy/stats/kde.py\u001b[0m in \u001b[0;36m_compute_covariance\u001b[0;34m(self)\u001b[0m\n\u001b[1;32m    564\u001b[0m                                                \u001b[0mbias\u001b[0m\u001b[0;34m=\u001b[0m\u001b[0;32mFalse\u001b[0m\u001b[0;34m,\u001b[0m\u001b[0;34m\u001b[0m\u001b[0;34m\u001b[0m\u001b[0m\n\u001b[1;32m    565\u001b[0m                                                aweights=self.weights))\n\u001b[0;32m--> 566\u001b[0;31m             \u001b[0mself\u001b[0m\u001b[0;34m.\u001b[0m\u001b[0m_data_inv_cov\u001b[0m \u001b[0;34m=\u001b[0m \u001b[0mlinalg\u001b[0m\u001b[0;34m.\u001b[0m\u001b[0minv\u001b[0m\u001b[0;34m(\u001b[0m\u001b[0mself\u001b[0m\u001b[0;34m.\u001b[0m\u001b[0m_data_covariance\u001b[0m\u001b[0;34m)\u001b[0m\u001b[0;34m\u001b[0m\u001b[0;34m\u001b[0m\u001b[0m\n\u001b[0m\u001b[1;32m    567\u001b[0m \u001b[0;34m\u001b[0m\u001b[0m\n\u001b[1;32m    568\u001b[0m         \u001b[0mself\u001b[0m\u001b[0;34m.\u001b[0m\u001b[0mcovariance\u001b[0m \u001b[0;34m=\u001b[0m \u001b[0mself\u001b[0m\u001b[0;34m.\u001b[0m\u001b[0m_data_covariance\u001b[0m \u001b[0;34m*\u001b[0m \u001b[0mself\u001b[0m\u001b[0;34m.\u001b[0m\u001b[0mfactor\u001b[0m\u001b[0;34m**\u001b[0m\u001b[0;36m2\u001b[0m\u001b[0;34m\u001b[0m\u001b[0;34m\u001b[0m\u001b[0m\n",
      "\u001b[0;32m/Library/Frameworks/Python.framework/Versions/3.7/lib/python3.7/site-packages/scipy/linalg/basic.py\u001b[0m in \u001b[0;36minv\u001b[0;34m(a, overwrite_a, check_finite)\u001b[0m\n\u001b[1;32m    943\u001b[0m \u001b[0;34m\u001b[0m\u001b[0m\n\u001b[1;32m    944\u001b[0m     \"\"\"\n\u001b[0;32m--> 945\u001b[0;31m     \u001b[0ma1\u001b[0m \u001b[0;34m=\u001b[0m \u001b[0m_asarray_validated\u001b[0m\u001b[0;34m(\u001b[0m\u001b[0ma\u001b[0m\u001b[0;34m,\u001b[0m \u001b[0mcheck_finite\u001b[0m\u001b[0;34m=\u001b[0m\u001b[0mcheck_finite\u001b[0m\u001b[0;34m)\u001b[0m\u001b[0;34m\u001b[0m\u001b[0;34m\u001b[0m\u001b[0m\n\u001b[0m\u001b[1;32m    946\u001b[0m     \u001b[0;32mif\u001b[0m \u001b[0mlen\u001b[0m\u001b[0;34m(\u001b[0m\u001b[0ma1\u001b[0m\u001b[0;34m.\u001b[0m\u001b[0mshape\u001b[0m\u001b[0;34m)\u001b[0m \u001b[0;34m!=\u001b[0m \u001b[0;36m2\u001b[0m \u001b[0;32mor\u001b[0m \u001b[0ma1\u001b[0m\u001b[0;34m.\u001b[0m\u001b[0mshape\u001b[0m\u001b[0;34m[\u001b[0m\u001b[0;36m0\u001b[0m\u001b[0;34m]\u001b[0m \u001b[0;34m!=\u001b[0m \u001b[0ma1\u001b[0m\u001b[0;34m.\u001b[0m\u001b[0mshape\u001b[0m\u001b[0;34m[\u001b[0m\u001b[0;36m1\u001b[0m\u001b[0;34m]\u001b[0m\u001b[0;34m:\u001b[0m\u001b[0;34m\u001b[0m\u001b[0;34m\u001b[0m\u001b[0m\n\u001b[1;32m    947\u001b[0m         \u001b[0;32mraise\u001b[0m \u001b[0mValueError\u001b[0m\u001b[0;34m(\u001b[0m\u001b[0;34m'expected square matrix'\u001b[0m\u001b[0;34m)\u001b[0m\u001b[0;34m\u001b[0m\u001b[0;34m\u001b[0m\u001b[0m\n",
      "\u001b[0;32m/Library/Frameworks/Python.framework/Versions/3.7/lib/python3.7/site-packages/scipy/_lib/_util.py\u001b[0m in \u001b[0;36m_asarray_validated\u001b[0;34m(a, check_finite, sparse_ok, objects_ok, mask_ok, as_inexact)\u001b[0m\n\u001b[1;32m    237\u001b[0m             \u001b[0;32mraise\u001b[0m \u001b[0mValueError\u001b[0m\u001b[0;34m(\u001b[0m\u001b[0;34m'masked arrays are not supported'\u001b[0m\u001b[0;34m)\u001b[0m\u001b[0;34m\u001b[0m\u001b[0;34m\u001b[0m\u001b[0m\n\u001b[1;32m    238\u001b[0m     \u001b[0mtoarray\u001b[0m \u001b[0;34m=\u001b[0m \u001b[0mnp\u001b[0m\u001b[0;34m.\u001b[0m\u001b[0masarray_chkfinite\u001b[0m \u001b[0;32mif\u001b[0m \u001b[0mcheck_finite\u001b[0m \u001b[0;32melse\u001b[0m \u001b[0mnp\u001b[0m\u001b[0;34m.\u001b[0m\u001b[0masarray\u001b[0m\u001b[0;34m\u001b[0m\u001b[0;34m\u001b[0m\u001b[0m\n\u001b[0;32m--> 239\u001b[0;31m     \u001b[0ma\u001b[0m \u001b[0;34m=\u001b[0m \u001b[0mtoarray\u001b[0m\u001b[0;34m(\u001b[0m\u001b[0ma\u001b[0m\u001b[0;34m)\u001b[0m\u001b[0;34m\u001b[0m\u001b[0;34m\u001b[0m\u001b[0m\n\u001b[0m\u001b[1;32m    240\u001b[0m     \u001b[0;32mif\u001b[0m \u001b[0;32mnot\u001b[0m \u001b[0mobjects_ok\u001b[0m\u001b[0;34m:\u001b[0m\u001b[0;34m\u001b[0m\u001b[0;34m\u001b[0m\u001b[0m\n\u001b[1;32m    241\u001b[0m         \u001b[0;32mif\u001b[0m \u001b[0ma\u001b[0m\u001b[0;34m.\u001b[0m\u001b[0mdtype\u001b[0m \u001b[0;32mis\u001b[0m \u001b[0mnp\u001b[0m\u001b[0;34m.\u001b[0m\u001b[0mdtype\u001b[0m\u001b[0;34m(\u001b[0m\u001b[0;34m'O'\u001b[0m\u001b[0;34m)\u001b[0m\u001b[0;34m:\u001b[0m\u001b[0;34m\u001b[0m\u001b[0;34m\u001b[0m\u001b[0m\n",
      "\u001b[0;32m~/Library/Python/3.7/lib/python/site-packages/numpy/lib/function_base.py\u001b[0m in \u001b[0;36masarray_chkfinite\u001b[0;34m(a, dtype, order)\u001b[0m\n\u001b[1;32m    494\u001b[0m     \u001b[0;32mif\u001b[0m \u001b[0ma\u001b[0m\u001b[0;34m.\u001b[0m\u001b[0mdtype\u001b[0m\u001b[0;34m.\u001b[0m\u001b[0mchar\u001b[0m \u001b[0;32min\u001b[0m \u001b[0mtypecodes\u001b[0m\u001b[0;34m[\u001b[0m\u001b[0;34m'AllFloat'\u001b[0m\u001b[0;34m]\u001b[0m \u001b[0;32mand\u001b[0m \u001b[0;32mnot\u001b[0m \u001b[0mnp\u001b[0m\u001b[0;34m.\u001b[0m\u001b[0misfinite\u001b[0m\u001b[0;34m(\u001b[0m\u001b[0ma\u001b[0m\u001b[0;34m)\u001b[0m\u001b[0;34m.\u001b[0m\u001b[0mall\u001b[0m\u001b[0;34m(\u001b[0m\u001b[0;34m)\u001b[0m\u001b[0;34m:\u001b[0m\u001b[0;34m\u001b[0m\u001b[0;34m\u001b[0m\u001b[0m\n\u001b[1;32m    495\u001b[0m         raise ValueError(\n\u001b[0;32m--> 496\u001b[0;31m             \"array must not contain infs or NaNs\")\n\u001b[0m\u001b[1;32m    497\u001b[0m     \u001b[0;32mreturn\u001b[0m \u001b[0ma\u001b[0m\u001b[0;34m\u001b[0m\u001b[0;34m\u001b[0m\u001b[0m\n\u001b[1;32m    498\u001b[0m \u001b[0;34m\u001b[0m\u001b[0m\n",
      "\u001b[0;31mValueError\u001b[0m: array must not contain infs or NaNs"
     ]
    },
    {
     "data": {
      "image/png": "[encoded data removed]",
      "text/plain": [
       "<Figure size 1080x720 with 1 Axes>"
      ]
     },
     "metadata": {
      "needs_background": "light"
     },
     "output_type": "display_data"
    }
   ],
   "source": [
    "plt.figure(figsize = (15,10))\n",
    "plt.xticks(rotation = 45)\n",
    "sns.distplot(df['annual_inc'], bins = 10)"
   ]
  },
  {
   "cell_type": "code",
   "execution_count": 47,
   "metadata": {
    "colab": {
     "base_uri": "https://localhost:8080/",
     "height": 221
    },
    "colab_type": "code",
    "executionInfo": {
     "elapsed": 162596,
     "status": "ok",
     "timestamp": 1571970939013,
     "user": {
      "displayName": "Eddie Choo",
      "photoUrl": "https://lh3.googleusercontent.com/a-/AAuE7mCT_zNzUPX6DofnbeXxsxL_MNeAWMIr-2pyX-h9og=s64",
      "userId": "10465448498447162897"
     },
     "user_tz": -480
    },
    "id": "GeRx3copfIPQ",
    "outputId": "78144695-58d8-44a9-b305-61926a95a380"
   },
   "outputs": [
    {
     "data": {
      "text/plain": [
       "0            167.020000\n",
       "1           1507.110000\n",
       "2            353.890000\n",
       "3            286.710000\n",
       "4           1423.210000\n",
       "               ...     \n",
       "2260663     5360.960000\n",
       "2260664    14499.802172\n",
       "2260665     5306.940000\n",
       "2260666     5207.290000\n",
       "2260667     7355.500000\n",
       "Name: total_pymnt, Length: 2260668, dtype: float64"
      ]
     },
     "execution_count": 47,
     "metadata": {},
     "output_type": "execute_result"
    }
   ],
   "source": [
    "df['total_pymnt']"
   ]
  },
  {
   "cell_type": "code",
   "execution_count": 48,
   "metadata": {
    "colab": {
     "base_uri": "https://localhost:8080/",
     "height": 643
    },
    "colab_type": "code",
    "executionInfo": {
     "elapsed": 164009,
     "status": "ok",
     "timestamp": 1571970940444,
     "user": {
      "displayName": "Eddie Choo",
      "photoUrl": "https://lh3.googleusercontent.com/a-/AAuE7mCT_zNzUPX6DofnbeXxsxL_MNeAWMIr-2pyX-h9og=s64",
      "userId": "10465448498447162897"
     },
     "user_tz": -480
    },
    "id": "eXQOCVgdfM_w",
    "outputId": "6c2e699a-b2aa-4b93-fc26-97ad40658943"
   },
   "outputs": [
    {
     "data": {
      "text/plain": [
       "<matplotlib.axes._subplots.AxesSubplot at 0x110afe790>"
      ]
     },
     "execution_count": 48,
     "metadata": {},
     "output_type": "execute_result"
    },
    {
     "data": {
      "image/png": "[encoded data removed]",
      "text/plain": [
       "<Figure size 1080x720 with 1 Axes>"
      ]
     },
     "metadata": {
      "needs_background": "light"
     },
     "output_type": "display_data"
    }
   ],
   "source": [
    "plt.figure(figsize = (15,10))\n",
    "plt.xticks(rotation = 45)\n",
    "sns.distplot(df['total_pymnt'], bins = 10)"
   ]
  },
  {
   "cell_type": "code",
   "execution_count": 49,
   "metadata": {
    "colab": {
     "base_uri": "https://localhost:8080/",
     "height": 221
    },
    "colab_type": "code",
    "executionInfo": {
     "elapsed": 163988,
     "status": "ok",
     "timestamp": 1571970940445,
     "user": {
      "displayName": "Eddie Choo",
      "photoUrl": "https://lh3.googleusercontent.com/a-/AAuE7mCT_zNzUPX6DofnbeXxsxL_MNeAWMIr-2pyX-h9og=s64",
      "userId": "10465448498447162897"
     },
     "user_tz": -480
    },
    "id": "jAbAtUV8f5iE",
    "outputId": "3c988d42-ec71-4981-d860-dfe78ffc66ba"
   },
   "outputs": [
    {
     "data": {
      "text/plain": [
       "0          109xx\n",
       "1          713xx\n",
       "2          490xx\n",
       "3          985xx\n",
       "4          212xx\n",
       "           ...  \n",
       "2260663    054xx\n",
       "2260664    971xx\n",
       "2260665    603xx\n",
       "2260666    996xx\n",
       "2260667    112xx\n",
       "Name: zip_code, Length: 2260668, dtype: object"
      ]
     },
     "execution_count": 49,
     "metadata": {},
     "output_type": "execute_result"
    }
   ],
   "source": [
    "df['zip_code']"
   ]
  },
  {
   "cell_type": "code",
   "execution_count": 50,
   "metadata": {
    "colab": {},
    "colab_type": "code",
    "id": "pX_fdbnU9Oqx"
   },
   "outputs": [],
   "source": [
    "columns = ['grade', 'emp_length', 'annual_inc', 'hardship_flag', 'loan_amnt', 'delinq_2yrs', 'installment', 'zip_code', 'tot_cur_bal', 'il_util', 'loan_status']"
   ]
  },
  {
   "cell_type": "code",
   "execution_count": 51,
   "metadata": {
    "colab": {},
    "colab_type": "code",
    "id": "7-nbVuMY9p2g"
   },
   "outputs": [],
   "source": [
    "new_df=df[columns]"
   ]
  },
  {
   "cell_type": "code",
   "execution_count": 52,
   "metadata": {
    "colab": {
     "base_uri": "https://localhost:8080/",
     "height": 419
    },
    "colab_type": "code",
    "executionInfo": {
     "elapsed": 163929,
     "status": "ok",
     "timestamp": 1571970940448,
     "user": {
      "displayName": "Eddie Choo",
      "photoUrl": "https://lh3.googleusercontent.com/a-/AAuE7mCT_zNzUPX6DofnbeXxsxL_MNeAWMIr-2pyX-h9og=s64",
      "userId": "10465448498447162897"
     },
     "user_tz": -480
    },
    "id": "ldjxmeAK9vIQ",
    "outputId": "f2528329-e108-4a55-c22f-f465d55de3f3"
   },
   "outputs": [
    {
     "data": {
      "text/html": [
       "<div>\n",
       "<style scoped>\n",
       "    .dataframe tbody tr th:only-of-type {\n",
       "        vertical-align: middle;\n",
       "    }\n",
       "\n",
       "    .dataframe tbody tr th {\n",
       "        vertical-align: top;\n",
       "    }\n",
       "\n",
       "    .dataframe thead th {\n",
       "        text-align: right;\n",
       "    }\n",
       "</style>\n",
       "<table border=\"1\" class=\"dataframe\">\n",
       "  <thead>\n",
       "    <tr style=\"text-align: right;\">\n",
       "      <th></th>\n",
       "      <th>grade</th>\n",
       "      <th>emp_length</th>\n",
       "      <th>annual_inc</th>\n",
       "      <th>hardship_flag</th>\n",
       "      <th>loan_amnt</th>\n",
       "      <th>delinq_2yrs</th>\n",
       "      <th>installment</th>\n",
       "      <th>zip_code</th>\n",
       "      <th>tot_cur_bal</th>\n",
       "      <th>il_util</th>\n",
       "      <th>loan_status</th>\n",
       "    </tr>\n",
       "  </thead>\n",
       "  <tbody>\n",
       "    <tr>\n",
       "      <td>0</td>\n",
       "      <td>C</td>\n",
       "      <td>10+ years</td>\n",
       "      <td>55000.0</td>\n",
       "      <td>N</td>\n",
       "      <td>2500</td>\n",
       "      <td>0.0</td>\n",
       "      <td>84.92</td>\n",
       "      <td>109xx</td>\n",
       "      <td>16901.0</td>\n",
       "      <td>69.0</td>\n",
       "      <td>Current</td>\n",
       "    </tr>\n",
       "    <tr>\n",
       "      <td>1</td>\n",
       "      <td>D</td>\n",
       "      <td>10+ years</td>\n",
       "      <td>90000.0</td>\n",
       "      <td>N</td>\n",
       "      <td>30000</td>\n",
       "      <td>0.0</td>\n",
       "      <td>777.23</td>\n",
       "      <td>713xx</td>\n",
       "      <td>321915.0</td>\n",
       "      <td>88.0</td>\n",
       "      <td>Current</td>\n",
       "    </tr>\n",
       "    <tr>\n",
       "      <td>2</td>\n",
       "      <td>D</td>\n",
       "      <td>6 years</td>\n",
       "      <td>59280.0</td>\n",
       "      <td>N</td>\n",
       "      <td>5000</td>\n",
       "      <td>0.0</td>\n",
       "      <td>180.69</td>\n",
       "      <td>490xx</td>\n",
       "      <td>110299.0</td>\n",
       "      <td>72.0</td>\n",
       "      <td>Current</td>\n",
       "    </tr>\n",
       "    <tr>\n",
       "      <td>3</td>\n",
       "      <td>D</td>\n",
       "      <td>10+ years</td>\n",
       "      <td>92000.0</td>\n",
       "      <td>N</td>\n",
       "      <td>4000</td>\n",
       "      <td>0.0</td>\n",
       "      <td>146.51</td>\n",
       "      <td>985xx</td>\n",
       "      <td>305049.0</td>\n",
       "      <td>68.0</td>\n",
       "      <td>Current</td>\n",
       "    </tr>\n",
       "    <tr>\n",
       "      <td>4</td>\n",
       "      <td>C</td>\n",
       "      <td>10+ years</td>\n",
       "      <td>57250.0</td>\n",
       "      <td>N</td>\n",
       "      <td>30000</td>\n",
       "      <td>0.0</td>\n",
       "      <td>731.78</td>\n",
       "      <td>212xx</td>\n",
       "      <td>116007.0</td>\n",
       "      <td>89.0</td>\n",
       "      <td>Current</td>\n",
       "    </tr>\n",
       "    <tr>\n",
       "      <td>...</td>\n",
       "      <td>...</td>\n",
       "      <td>...</td>\n",
       "      <td>...</td>\n",
       "      <td>...</td>\n",
       "      <td>...</td>\n",
       "      <td>...</td>\n",
       "      <td>...</td>\n",
       "      <td>...</td>\n",
       "      <td>...</td>\n",
       "      <td>...</td>\n",
       "      <td>...</td>\n",
       "    </tr>\n",
       "    <tr>\n",
       "      <td>2260663</td>\n",
       "      <td>C</td>\n",
       "      <td>10+ years</td>\n",
       "      <td>58000.0</td>\n",
       "      <td>N</td>\n",
       "      <td>12000</td>\n",
       "      <td>0.0</td>\n",
       "      <td>279.72</td>\n",
       "      <td>054xx</td>\n",
       "      <td>45212.0</td>\n",
       "      <td>36.0</td>\n",
       "      <td>Current</td>\n",
       "    </tr>\n",
       "    <tr>\n",
       "      <td>2260664</td>\n",
       "      <td>E</td>\n",
       "      <td>&lt; 1 year</td>\n",
       "      <td>30000.0</td>\n",
       "      <td>N</td>\n",
       "      <td>12000</td>\n",
       "      <td>3.0</td>\n",
       "      <td>358.01</td>\n",
       "      <td>971xx</td>\n",
       "      <td>346404.0</td>\n",
       "      <td>78.0</td>\n",
       "      <td>Fully Paid</td>\n",
       "    </tr>\n",
       "    <tr>\n",
       "      <td>2260665</td>\n",
       "      <td>B</td>\n",
       "      <td>10+ years</td>\n",
       "      <td>64000.0</td>\n",
       "      <td>N</td>\n",
       "      <td>10000</td>\n",
       "      <td>0.0</td>\n",
       "      <td>332.10</td>\n",
       "      <td>603xx</td>\n",
       "      <td>189735.0</td>\n",
       "      <td>100.0</td>\n",
       "      <td>Current</td>\n",
       "    </tr>\n",
       "    <tr>\n",
       "      <td>2260666</td>\n",
       "      <td>D</td>\n",
       "      <td>NaN</td>\n",
       "      <td>60000.0</td>\n",
       "      <td>N</td>\n",
       "      <td>12000</td>\n",
       "      <td>2.0</td>\n",
       "      <td>327.69</td>\n",
       "      <td>996xx</td>\n",
       "      <td>65238.0</td>\n",
       "      <td>64.0</td>\n",
       "      <td>Current</td>\n",
       "    </tr>\n",
       "    <tr>\n",
       "      <td>2260667</td>\n",
       "      <td>D</td>\n",
       "      <td>3 years</td>\n",
       "      <td>60000.0</td>\n",
       "      <td>N</td>\n",
       "      <td>16550</td>\n",
       "      <td>0.0</td>\n",
       "      <td>451.94</td>\n",
       "      <td>112xx</td>\n",
       "      <td>25760.0</td>\n",
       "      <td>NaN</td>\n",
       "      <td>Current</td>\n",
       "    </tr>\n",
       "  </tbody>\n",
       "</table>\n",
       "<p>2260668 rows × 11 columns</p>\n",
       "</div>"
      ],
      "text/plain": [
       "        grade emp_length  annual_inc hardship_flag  loan_amnt  delinq_2yrs  \\\n",
       "0           C  10+ years     55000.0             N       2500          0.0   \n",
       "1           D  10+ years     90000.0             N      30000          0.0   \n",
       "2           D    6 years     59280.0             N       5000          0.0   \n",
       "3           D  10+ years     92000.0             N       4000          0.0   \n",
       "4           C  10+ years     57250.0             N      30000          0.0   \n",
       "...       ...        ...         ...           ...        ...          ...   \n",
       "2260663     C  10+ years     58000.0             N      12000          0.0   \n",
       "2260664     E   < 1 year     30000.0             N      12000          3.0   \n",
       "2260665     B  10+ years     64000.0             N      10000          0.0   \n",
       "2260666     D        NaN     60000.0             N      12000          2.0   \n",
       "2260667     D    3 years     60000.0             N      16550          0.0   \n",
       "\n",
       "         installment zip_code  tot_cur_bal  il_util loan_status  \n",
       "0              84.92    109xx      16901.0     69.0     Current  \n",
       "1             777.23    713xx     321915.0     88.0     Current  \n",
       "2             180.69    490xx     110299.0     72.0     Current  \n",
       "3             146.51    985xx     305049.0     68.0     Current  \n",
       "4             731.78    212xx     116007.0     89.0     Current  \n",
       "...              ...      ...          ...      ...         ...  \n",
       "2260663       279.72    054xx      45212.0     36.0     Current  \n",
       "2260664       358.01    971xx     346404.0     78.0  Fully Paid  \n",
       "2260665       332.10    603xx     189735.0    100.0     Current  \n",
       "2260666       327.69    996xx      65238.0     64.0     Current  \n",
       "2260667       451.94    112xx      25760.0      NaN     Current  \n",
       "\n",
       "[2260668 rows x 11 columns]"
      ]
     },
     "execution_count": 52,
     "metadata": {},
     "output_type": "execute_result"
    }
   ],
   "source": [
    "new_df"
   ]
  },
  {
   "cell_type": "code",
   "execution_count": 53,
   "metadata": {
    "colab": {
     "base_uri": "https://localhost:8080/",
     "height": 119
    },
    "colab_type": "code",
    "executionInfo": {
     "elapsed": 164221,
     "status": "ok",
     "timestamp": 1571970940761,
     "user": {
      "displayName": "Eddie Choo",
      "photoUrl": "https://lh3.googleusercontent.com/a-/AAuE7mCT_zNzUPX6DofnbeXxsxL_MNeAWMIr-2pyX-h9og=s64",
      "userId": "10465448498447162897"
     },
     "user_tz": -480
    },
    "id": "JFrZTvemjVSd",
    "outputId": "7ca36a66-930f-4e63-c478-041a233f6354"
   },
   "outputs": [
    {
     "name": "stderr",
     "output_type": "stream",
     "text": [
      "/Library/Frameworks/Python.framework/Versions/3.7/lib/python3.7/site-packages/ipykernel_launcher.py:1: SettingWithCopyWarning: \n",
      "A value is trying to be set on a copy of a slice from a DataFrame.\n",
      "Try using .loc[row_indexer,col_indexer] = value instead\n",
      "\n",
      "See the caveats in the documentation: http://pandas.pydata.org/pandas-docs/stable/user_guide/indexing.html#returning-a-view-versus-a-copy\n",
      "  \"\"\"Entry point for launching an IPython kernel.\n"
     ]
    }
   ],
   "source": [
    "new_df['new_grade'] = new_df['grade']\n"
   ]
  },
  {
   "cell_type": "code",
   "execution_count": 54,
   "metadata": {
    "colab": {
     "base_uri": "https://localhost:8080/",
     "height": 419
    },
    "colab_type": "code",
    "executionInfo": {
     "elapsed": 164203,
     "status": "ok",
     "timestamp": 1571970940765,
     "user": {
      "displayName": "Eddie Choo",
      "photoUrl": "https://lh3.googleusercontent.com/a-/AAuE7mCT_zNzUPX6DofnbeXxsxL_MNeAWMIr-2pyX-h9og=s64",
      "userId": "10465448498447162897"
     },
     "user_tz": -480
    },
    "id": "Yys3x3e-nWxf",
    "outputId": "4498e8ba-2f6e-432d-c9b4-18e0be58629d"
   },
   "outputs": [
    {
     "data": {
      "text/html": [
       "<div>\n",
       "<style scoped>\n",
       "    .dataframe tbody tr th:only-of-type {\n",
       "        vertical-align: middle;\n",
       "    }\n",
       "\n",
       "    .dataframe tbody tr th {\n",
       "        vertical-align: top;\n",
       "    }\n",
       "\n",
       "    .dataframe thead th {\n",
       "        text-align: right;\n",
       "    }\n",
       "</style>\n",
       "<table border=\"1\" class=\"dataframe\">\n",
       "  <thead>\n",
       "    <tr style=\"text-align: right;\">\n",
       "      <th></th>\n",
       "      <th>grade</th>\n",
       "      <th>emp_length</th>\n",
       "      <th>annual_inc</th>\n",
       "      <th>hardship_flag</th>\n",
       "      <th>loan_amnt</th>\n",
       "      <th>delinq_2yrs</th>\n",
       "      <th>installment</th>\n",
       "      <th>zip_code</th>\n",
       "      <th>tot_cur_bal</th>\n",
       "      <th>il_util</th>\n",
       "      <th>loan_status</th>\n",
       "      <th>new_grade</th>\n",
       "    </tr>\n",
       "  </thead>\n",
       "  <tbody>\n",
       "    <tr>\n",
       "      <td>0</td>\n",
       "      <td>C</td>\n",
       "      <td>10+ years</td>\n",
       "      <td>55000.0</td>\n",
       "      <td>N</td>\n",
       "      <td>2500</td>\n",
       "      <td>0.0</td>\n",
       "      <td>84.92</td>\n",
       "      <td>109xx</td>\n",
       "      <td>16901.0</td>\n",
       "      <td>69.0</td>\n",
       "      <td>Current</td>\n",
       "      <td>C</td>\n",
       "    </tr>\n",
       "    <tr>\n",
       "      <td>1</td>\n",
       "      <td>D</td>\n",
       "      <td>10+ years</td>\n",
       "      <td>90000.0</td>\n",
       "      <td>N</td>\n",
       "      <td>30000</td>\n",
       "      <td>0.0</td>\n",
       "      <td>777.23</td>\n",
       "      <td>713xx</td>\n",
       "      <td>321915.0</td>\n",
       "      <td>88.0</td>\n",
       "      <td>Current</td>\n",
       "      <td>D</td>\n",
       "    </tr>\n",
       "    <tr>\n",
       "      <td>2</td>\n",
       "      <td>D</td>\n",
       "      <td>6 years</td>\n",
       "      <td>59280.0</td>\n",
       "      <td>N</td>\n",
       "      <td>5000</td>\n",
       "      <td>0.0</td>\n",
       "      <td>180.69</td>\n",
       "      <td>490xx</td>\n",
       "      <td>110299.0</td>\n",
       "      <td>72.0</td>\n",
       "      <td>Current</td>\n",
       "      <td>D</td>\n",
       "    </tr>\n",
       "    <tr>\n",
       "      <td>3</td>\n",
       "      <td>D</td>\n",
       "      <td>10+ years</td>\n",
       "      <td>92000.0</td>\n",
       "      <td>N</td>\n",
       "      <td>4000</td>\n",
       "      <td>0.0</td>\n",
       "      <td>146.51</td>\n",
       "      <td>985xx</td>\n",
       "      <td>305049.0</td>\n",
       "      <td>68.0</td>\n",
       "      <td>Current</td>\n",
       "      <td>D</td>\n",
       "    </tr>\n",
       "    <tr>\n",
       "      <td>4</td>\n",
       "      <td>C</td>\n",
       "      <td>10+ years</td>\n",
       "      <td>57250.0</td>\n",
       "      <td>N</td>\n",
       "      <td>30000</td>\n",
       "      <td>0.0</td>\n",
       "      <td>731.78</td>\n",
       "      <td>212xx</td>\n",
       "      <td>116007.0</td>\n",
       "      <td>89.0</td>\n",
       "      <td>Current</td>\n",
       "      <td>C</td>\n",
       "    </tr>\n",
       "    <tr>\n",
       "      <td>...</td>\n",
       "      <td>...</td>\n",
       "      <td>...</td>\n",
       "      <td>...</td>\n",
       "      <td>...</td>\n",
       "      <td>...</td>\n",
       "      <td>...</td>\n",
       "      <td>...</td>\n",
       "      <td>...</td>\n",
       "      <td>...</td>\n",
       "      <td>...</td>\n",
       "      <td>...</td>\n",
       "      <td>...</td>\n",
       "    </tr>\n",
       "    <tr>\n",
       "      <td>2260663</td>\n",
       "      <td>C</td>\n",
       "      <td>10+ years</td>\n",
       "      <td>58000.0</td>\n",
       "      <td>N</td>\n",
       "      <td>12000</td>\n",
       "      <td>0.0</td>\n",
       "      <td>279.72</td>\n",
       "      <td>054xx</td>\n",
       "      <td>45212.0</td>\n",
       "      <td>36.0</td>\n",
       "      <td>Current</td>\n",
       "      <td>C</td>\n",
       "    </tr>\n",
       "    <tr>\n",
       "      <td>2260664</td>\n",
       "      <td>E</td>\n",
       "      <td>&lt; 1 year</td>\n",
       "      <td>30000.0</td>\n",
       "      <td>N</td>\n",
       "      <td>12000</td>\n",
       "      <td>3.0</td>\n",
       "      <td>358.01</td>\n",
       "      <td>971xx</td>\n",
       "      <td>346404.0</td>\n",
       "      <td>78.0</td>\n",
       "      <td>Fully Paid</td>\n",
       "      <td>E</td>\n",
       "    </tr>\n",
       "    <tr>\n",
       "      <td>2260665</td>\n",
       "      <td>B</td>\n",
       "      <td>10+ years</td>\n",
       "      <td>64000.0</td>\n",
       "      <td>N</td>\n",
       "      <td>10000</td>\n",
       "      <td>0.0</td>\n",
       "      <td>332.10</td>\n",
       "      <td>603xx</td>\n",
       "      <td>189735.0</td>\n",
       "      <td>100.0</td>\n",
       "      <td>Current</td>\n",
       "      <td>B</td>\n",
       "    </tr>\n",
       "    <tr>\n",
       "      <td>2260666</td>\n",
       "      <td>D</td>\n",
       "      <td>NaN</td>\n",
       "      <td>60000.0</td>\n",
       "      <td>N</td>\n",
       "      <td>12000</td>\n",
       "      <td>2.0</td>\n",
       "      <td>327.69</td>\n",
       "      <td>996xx</td>\n",
       "      <td>65238.0</td>\n",
       "      <td>64.0</td>\n",
       "      <td>Current</td>\n",
       "      <td>D</td>\n",
       "    </tr>\n",
       "    <tr>\n",
       "      <td>2260667</td>\n",
       "      <td>D</td>\n",
       "      <td>3 years</td>\n",
       "      <td>60000.0</td>\n",
       "      <td>N</td>\n",
       "      <td>16550</td>\n",
       "      <td>0.0</td>\n",
       "      <td>451.94</td>\n",
       "      <td>112xx</td>\n",
       "      <td>25760.0</td>\n",
       "      <td>NaN</td>\n",
       "      <td>Current</td>\n",
       "      <td>D</td>\n",
       "    </tr>\n",
       "  </tbody>\n",
       "</table>\n",
       "<p>2260668 rows × 12 columns</p>\n",
       "</div>"
      ],
      "text/plain": [
       "        grade emp_length  annual_inc hardship_flag  loan_amnt  delinq_2yrs  \\\n",
       "0           C  10+ years     55000.0             N       2500          0.0   \n",
       "1           D  10+ years     90000.0             N      30000          0.0   \n",
       "2           D    6 years     59280.0             N       5000          0.0   \n",
       "3           D  10+ years     92000.0             N       4000          0.0   \n",
       "4           C  10+ years     57250.0             N      30000          0.0   \n",
       "...       ...        ...         ...           ...        ...          ...   \n",
       "2260663     C  10+ years     58000.0             N      12000          0.0   \n",
       "2260664     E   < 1 year     30000.0             N      12000          3.0   \n",
       "2260665     B  10+ years     64000.0             N      10000          0.0   \n",
       "2260666     D        NaN     60000.0             N      12000          2.0   \n",
       "2260667     D    3 years     60000.0             N      16550          0.0   \n",
       "\n",
       "         installment zip_code  tot_cur_bal  il_util loan_status new_grade  \n",
       "0              84.92    109xx      16901.0     69.0     Current         C  \n",
       "1             777.23    713xx     321915.0     88.0     Current         D  \n",
       "2             180.69    490xx     110299.0     72.0     Current         D  \n",
       "3             146.51    985xx     305049.0     68.0     Current         D  \n",
       "4             731.78    212xx     116007.0     89.0     Current         C  \n",
       "...              ...      ...          ...      ...         ...       ...  \n",
       "2260663       279.72    054xx      45212.0     36.0     Current         C  \n",
       "2260664       358.01    971xx     346404.0     78.0  Fully Paid         E  \n",
       "2260665       332.10    603xx     189735.0    100.0     Current         B  \n",
       "2260666       327.69    996xx      65238.0     64.0     Current         D  \n",
       "2260667       451.94    112xx      25760.0      NaN     Current         D  \n",
       "\n",
       "[2260668 rows x 12 columns]"
      ]
     },
     "execution_count": 54,
     "metadata": {},
     "output_type": "execute_result"
    }
   ],
   "source": [
    "new_df"
   ]
  },
  {
   "cell_type": "code",
   "execution_count": 55,
   "metadata": {
    "colab": {},
    "colab_type": "code",
    "id": "5i0GYn2Gnlef"
   },
   "outputs": [],
   "source": [
    "new_df1 = new_df.replace({'new_grade':{'A':1, 'B':1, 'C':0, 'D':0, 'E':0, 'F':0, 'G':0}})\n"
   ]
  },
  {
   "cell_type": "code",
   "execution_count": 56,
   "metadata": {
    "colab": {},
    "colab_type": "code",
    "id": "mnWWgcnZCExZ"
   },
   "outputs": [],
   "source": [
    "new_df1 = new_df1.replace({'emp_length':{'< 1 year':1, '1 year':1, '2 years':2, '3 years':3, '4 years': 4, '5 years': 5, '6 years':6, '7 years':7, '8 years':8, '9 years':9, '10+ years':10}})"
   ]
  },
  {
   "cell_type": "code",
   "execution_count": 57,
   "metadata": {
    "colab": {},
    "colab_type": "code",
    "id": "cnoCEupiCs35"
   },
   "outputs": [],
   "source": [
    "new_df1 = new_df1.replace({'loan_status':{'In Grace Period':1, 'Current':1, 'Fully Paid':1, 'Charged Off':0, 'Late (16-30 days)': 1, 'Late (31-120 days)':1, 'Does not meet the credit policy. Status:Fully Paid':1, 'Default':0, 'Does not meet the credit policy. Status:Charged Off':0}})\n"
   ]
  },
  {
   "cell_type": "code",
   "execution_count": 58,
   "metadata": {
    "colab": {
     "base_uri": "https://localhost:8080/",
     "height": 419
    },
    "colab_type": "code",
    "executionInfo": {
     "elapsed": 167514,
     "status": "ok",
     "timestamp": 1571970944143,
     "user": {
      "displayName": "Eddie Choo",
      "photoUrl": "https://lh3.googleusercontent.com/a-/AAuE7mCT_zNzUPX6DofnbeXxsxL_MNeAWMIr-2pyX-h9og=s64",
      "userId": "10465448498447162897"
     },
     "user_tz": -480
    },
    "id": "83gvCpkrH2Bb",
    "outputId": "ee341b94-cabd-402d-9de0-aec0b5756a3f"
   },
   "outputs": [
    {
     "data": {
      "text/html": [
       "<div>\n",
       "<style scoped>\n",
       "    .dataframe tbody tr th:only-of-type {\n",
       "        vertical-align: middle;\n",
       "    }\n",
       "\n",
       "    .dataframe tbody tr th {\n",
       "        vertical-align: top;\n",
       "    }\n",
       "\n",
       "    .dataframe thead th {\n",
       "        text-align: right;\n",
       "    }\n",
       "</style>\n",
       "<table border=\"1\" class=\"dataframe\">\n",
       "  <thead>\n",
       "    <tr style=\"text-align: right;\">\n",
       "      <th></th>\n",
       "      <th>grade</th>\n",
       "      <th>emp_length</th>\n",
       "      <th>annual_inc</th>\n",
       "      <th>hardship_flag</th>\n",
       "      <th>loan_amnt</th>\n",
       "      <th>delinq_2yrs</th>\n",
       "      <th>installment</th>\n",
       "      <th>zip_code</th>\n",
       "      <th>tot_cur_bal</th>\n",
       "      <th>il_util</th>\n",
       "      <th>loan_status</th>\n",
       "      <th>new_grade</th>\n",
       "    </tr>\n",
       "  </thead>\n",
       "  <tbody>\n",
       "    <tr>\n",
       "      <td>0</td>\n",
       "      <td>C</td>\n",
       "      <td>10.0</td>\n",
       "      <td>55000.0</td>\n",
       "      <td>N</td>\n",
       "      <td>2500</td>\n",
       "      <td>0.0</td>\n",
       "      <td>84.92</td>\n",
       "      <td>109xx</td>\n",
       "      <td>16901.0</td>\n",
       "      <td>69.0</td>\n",
       "      <td>1</td>\n",
       "      <td>0</td>\n",
       "    </tr>\n",
       "    <tr>\n",
       "      <td>1</td>\n",
       "      <td>D</td>\n",
       "      <td>10.0</td>\n",
       "      <td>90000.0</td>\n",
       "      <td>N</td>\n",
       "      <td>30000</td>\n",
       "      <td>0.0</td>\n",
       "      <td>777.23</td>\n",
       "      <td>713xx</td>\n",
       "      <td>321915.0</td>\n",
       "      <td>88.0</td>\n",
       "      <td>1</td>\n",
       "      <td>0</td>\n",
       "    </tr>\n",
       "    <tr>\n",
       "      <td>2</td>\n",
       "      <td>D</td>\n",
       "      <td>6.0</td>\n",
       "      <td>59280.0</td>\n",
       "      <td>N</td>\n",
       "      <td>5000</td>\n",
       "      <td>0.0</td>\n",
       "      <td>180.69</td>\n",
       "      <td>490xx</td>\n",
       "      <td>110299.0</td>\n",
       "      <td>72.0</td>\n",
       "      <td>1</td>\n",
       "      <td>0</td>\n",
       "    </tr>\n",
       "    <tr>\n",
       "      <td>3</td>\n",
       "      <td>D</td>\n",
       "      <td>10.0</td>\n",
       "      <td>92000.0</td>\n",
       "      <td>N</td>\n",
       "      <td>4000</td>\n",
       "      <td>0.0</td>\n",
       "      <td>146.51</td>\n",
       "      <td>985xx</td>\n",
       "      <td>305049.0</td>\n",
       "      <td>68.0</td>\n",
       "      <td>1</td>\n",
       "      <td>0</td>\n",
       "    </tr>\n",
       "    <tr>\n",
       "      <td>4</td>\n",
       "      <td>C</td>\n",
       "      <td>10.0</td>\n",
       "      <td>57250.0</td>\n",
       "      <td>N</td>\n",
       "      <td>30000</td>\n",
       "      <td>0.0</td>\n",
       "      <td>731.78</td>\n",
       "      <td>212xx</td>\n",
       "      <td>116007.0</td>\n",
       "      <td>89.0</td>\n",
       "      <td>1</td>\n",
       "      <td>0</td>\n",
       "    </tr>\n",
       "    <tr>\n",
       "      <td>...</td>\n",
       "      <td>...</td>\n",
       "      <td>...</td>\n",
       "      <td>...</td>\n",
       "      <td>...</td>\n",
       "      <td>...</td>\n",
       "      <td>...</td>\n",
       "      <td>...</td>\n",
       "      <td>...</td>\n",
       "      <td>...</td>\n",
       "      <td>...</td>\n",
       "      <td>...</td>\n",
       "      <td>...</td>\n",
       "    </tr>\n",
       "    <tr>\n",
       "      <td>2260663</td>\n",
       "      <td>C</td>\n",
       "      <td>10.0</td>\n",
       "      <td>58000.0</td>\n",
       "      <td>N</td>\n",
       "      <td>12000</td>\n",
       "      <td>0.0</td>\n",
       "      <td>279.72</td>\n",
       "      <td>054xx</td>\n",
       "      <td>45212.0</td>\n",
       "      <td>36.0</td>\n",
       "      <td>1</td>\n",
       "      <td>0</td>\n",
       "    </tr>\n",
       "    <tr>\n",
       "      <td>2260664</td>\n",
       "      <td>E</td>\n",
       "      <td>1.0</td>\n",
       "      <td>30000.0</td>\n",
       "      <td>N</td>\n",
       "      <td>12000</td>\n",
       "      <td>3.0</td>\n",
       "      <td>358.01</td>\n",
       "      <td>971xx</td>\n",
       "      <td>346404.0</td>\n",
       "      <td>78.0</td>\n",
       "      <td>1</td>\n",
       "      <td>0</td>\n",
       "    </tr>\n",
       "    <tr>\n",
       "      <td>2260665</td>\n",
       "      <td>B</td>\n",
       "      <td>10.0</td>\n",
       "      <td>64000.0</td>\n",
       "      <td>N</td>\n",
       "      <td>10000</td>\n",
       "      <td>0.0</td>\n",
       "      <td>332.10</td>\n",
       "      <td>603xx</td>\n",
       "      <td>189735.0</td>\n",
       "      <td>100.0</td>\n",
       "      <td>1</td>\n",
       "      <td>1</td>\n",
       "    </tr>\n",
       "    <tr>\n",
       "      <td>2260666</td>\n",
       "      <td>D</td>\n",
       "      <td>NaN</td>\n",
       "      <td>60000.0</td>\n",
       "      <td>N</td>\n",
       "      <td>12000</td>\n",
       "      <td>2.0</td>\n",
       "      <td>327.69</td>\n",
       "      <td>996xx</td>\n",
       "      <td>65238.0</td>\n",
       "      <td>64.0</td>\n",
       "      <td>1</td>\n",
       "      <td>0</td>\n",
       "    </tr>\n",
       "    <tr>\n",
       "      <td>2260667</td>\n",
       "      <td>D</td>\n",
       "      <td>3.0</td>\n",
       "      <td>60000.0</td>\n",
       "      <td>N</td>\n",
       "      <td>16550</td>\n",
       "      <td>0.0</td>\n",
       "      <td>451.94</td>\n",
       "      <td>112xx</td>\n",
       "      <td>25760.0</td>\n",
       "      <td>NaN</td>\n",
       "      <td>1</td>\n",
       "      <td>0</td>\n",
       "    </tr>\n",
       "  </tbody>\n",
       "</table>\n",
       "<p>2260668 rows × 12 columns</p>\n",
       "</div>"
      ],
      "text/plain": [
       "        grade  emp_length  annual_inc hardship_flag  loan_amnt  delinq_2yrs  \\\n",
       "0           C        10.0     55000.0             N       2500          0.0   \n",
       "1           D        10.0     90000.0             N      30000          0.0   \n",
       "2           D         6.0     59280.0             N       5000          0.0   \n",
       "3           D        10.0     92000.0             N       4000          0.0   \n",
       "4           C        10.0     57250.0             N      30000          0.0   \n",
       "...       ...         ...         ...           ...        ...          ...   \n",
       "2260663     C        10.0     58000.0             N      12000          0.0   \n",
       "2260664     E         1.0     30000.0             N      12000          3.0   \n",
       "2260665     B        10.0     64000.0             N      10000          0.0   \n",
       "2260666     D         NaN     60000.0             N      12000          2.0   \n",
       "2260667     D         3.0     60000.0             N      16550          0.0   \n",
       "\n",
       "         installment zip_code  tot_cur_bal  il_util  loan_status  new_grade  \n",
       "0              84.92    109xx      16901.0     69.0            1          0  \n",
       "1             777.23    713xx     321915.0     88.0            1          0  \n",
       "2             180.69    490xx     110299.0     72.0            1          0  \n",
       "3             146.51    985xx     305049.0     68.0            1          0  \n",
       "4             731.78    212xx     116007.0     89.0            1          0  \n",
       "...              ...      ...          ...      ...          ...        ...  \n",
       "2260663       279.72    054xx      45212.0     36.0            1          0  \n",
       "2260664       358.01    971xx     346404.0     78.0            1          0  \n",
       "2260665       332.10    603xx     189735.0    100.0            1          1  \n",
       "2260666       327.69    996xx      65238.0     64.0            1          0  \n",
       "2260667       451.94    112xx      25760.0      NaN            1          0  \n",
       "\n",
       "[2260668 rows x 12 columns]"
      ]
     },
     "execution_count": 58,
     "metadata": {},
     "output_type": "execute_result"
    }
   ],
   "source": [
    "new_df1"
   ]
  },
  {
   "cell_type": "code",
   "execution_count": 59,
   "metadata": {
    "colab": {},
    "colab_type": "code",
    "id": "gjB65YmXJJkI"
   },
   "outputs": [],
   "source": [
    "import re\n"
   ]
  },
  {
   "cell_type": "code",
   "execution_count": 60,
   "metadata": {
    "colab": {},
    "colab_type": "code",
    "id": "ALrc56v-XdYj"
   },
   "outputs": [],
   "source": [
    "df = pd.DataFrame()"
   ]
  },
  {
   "cell_type": "code",
   "execution_count": 61,
   "metadata": {
    "colab": {
     "base_uri": "https://localhost:8080/",
     "height": 221
    },
    "colab_type": "code",
    "executionInfo": {
     "elapsed": 167458,
     "status": "ok",
     "timestamp": 1571970944146,
     "user": {
      "displayName": "Eddie Choo",
      "photoUrl": "https://lh3.googleusercontent.com/a-/AAuE7mCT_zNzUPX6DofnbeXxsxL_MNeAWMIr-2pyX-h9og=s64",
      "userId": "10465448498447162897"
     },
     "user_tz": -480
    },
    "id": "p-MrvCdHazec",
    "outputId": "d4c3f41d-02a0-4a36-af86-6c388ef05676"
   },
   "outputs": [
    {
     "data": {
      "text/plain": [
       "['grade',\n",
       " 'emp_length',\n",
       " 'annual_inc',\n",
       " 'hardship_flag',\n",
       " 'loan_amnt',\n",
       " 'delinq_2yrs',\n",
       " 'installment',\n",
       " 'zip_code',\n",
       " 'tot_cur_bal',\n",
       " 'il_util',\n",
       " 'loan_status',\n",
       " 'new_grade']"
      ]
     },
     "execution_count": 61,
     "metadata": {},
     "output_type": "execute_result"
    }
   ],
   "source": [
    "list(new_df1.columns)"
   ]
  },
  {
   "cell_type": "code",
   "execution_count": 62,
   "metadata": {
    "colab": {},
    "colab_type": "code",
    "id": "Q6mO6ffIcF0D"
   },
   "outputs": [],
   "source": [
    "df['emp_length'] = new_df1['emp_length']"
   ]
  },
  {
   "cell_type": "code",
   "execution_count": 63,
   "metadata": {
    "colab": {
     "base_uri": "https://localhost:8080/",
     "height": 419
    },
    "colab_type": "code",
    "executionInfo": {
     "elapsed": 167968,
     "status": "ok",
     "timestamp": 1571970944696,
     "user": {
      "displayName": "Eddie Choo",
      "photoUrl": "https://lh3.googleusercontent.com/a-/AAuE7mCT_zNzUPX6DofnbeXxsxL_MNeAWMIr-2pyX-h9og=s64",
      "userId": "10465448498447162897"
     },
     "user_tz": -480
    },
    "id": "K4laqI-DcLUu",
    "outputId": "473e0d6f-0724-4ed8-c856-f29c98a48fa5"
   },
   "outputs": [
    {
     "data": {
      "text/html": [
       "<div>\n",
       "<style scoped>\n",
       "    .dataframe tbody tr th:only-of-type {\n",
       "        vertical-align: middle;\n",
       "    }\n",
       "\n",
       "    .dataframe tbody tr th {\n",
       "        vertical-align: top;\n",
       "    }\n",
       "\n",
       "    .dataframe thead th {\n",
       "        text-align: right;\n",
       "    }\n",
       "</style>\n",
       "<table border=\"1\" class=\"dataframe\">\n",
       "  <thead>\n",
       "    <tr style=\"text-align: right;\">\n",
       "      <th></th>\n",
       "      <th>emp_length</th>\n",
       "      <th>annual_inc</th>\n",
       "      <th>loan_amnt</th>\n",
       "      <th>delinq_2yrs</th>\n",
       "      <th>installment</th>\n",
       "      <th>tot_cur_bal</th>\n",
       "      <th>il_util</th>\n",
       "      <th>new_grade</th>\n",
       "      <th>loan_status</th>\n",
       "    </tr>\n",
       "  </thead>\n",
       "  <tbody>\n",
       "    <tr>\n",
       "      <td>0</td>\n",
       "      <td>10.0</td>\n",
       "      <td>55000.0</td>\n",
       "      <td>2500</td>\n",
       "      <td>0.0</td>\n",
       "      <td>84.92</td>\n",
       "      <td>16901.0</td>\n",
       "      <td>69.0</td>\n",
       "      <td>0</td>\n",
       "      <td>1</td>\n",
       "    </tr>\n",
       "    <tr>\n",
       "      <td>1</td>\n",
       "      <td>10.0</td>\n",
       "      <td>90000.0</td>\n",
       "      <td>30000</td>\n",
       "      <td>0.0</td>\n",
       "      <td>777.23</td>\n",
       "      <td>321915.0</td>\n",
       "      <td>88.0</td>\n",
       "      <td>0</td>\n",
       "      <td>1</td>\n",
       "    </tr>\n",
       "    <tr>\n",
       "      <td>2</td>\n",
       "      <td>6.0</td>\n",
       "      <td>59280.0</td>\n",
       "      <td>5000</td>\n",
       "      <td>0.0</td>\n",
       "      <td>180.69</td>\n",
       "      <td>110299.0</td>\n",
       "      <td>72.0</td>\n",
       "      <td>0</td>\n",
       "      <td>1</td>\n",
       "    </tr>\n",
       "    <tr>\n",
       "      <td>3</td>\n",
       "      <td>10.0</td>\n",
       "      <td>92000.0</td>\n",
       "      <td>4000</td>\n",
       "      <td>0.0</td>\n",
       "      <td>146.51</td>\n",
       "      <td>305049.0</td>\n",
       "      <td>68.0</td>\n",
       "      <td>0</td>\n",
       "      <td>1</td>\n",
       "    </tr>\n",
       "    <tr>\n",
       "      <td>4</td>\n",
       "      <td>10.0</td>\n",
       "      <td>57250.0</td>\n",
       "      <td>30000</td>\n",
       "      <td>0.0</td>\n",
       "      <td>731.78</td>\n",
       "      <td>116007.0</td>\n",
       "      <td>89.0</td>\n",
       "      <td>0</td>\n",
       "      <td>1</td>\n",
       "    </tr>\n",
       "    <tr>\n",
       "      <td>...</td>\n",
       "      <td>...</td>\n",
       "      <td>...</td>\n",
       "      <td>...</td>\n",
       "      <td>...</td>\n",
       "      <td>...</td>\n",
       "      <td>...</td>\n",
       "      <td>...</td>\n",
       "      <td>...</td>\n",
       "      <td>...</td>\n",
       "    </tr>\n",
       "    <tr>\n",
       "      <td>2260663</td>\n",
       "      <td>10.0</td>\n",
       "      <td>58000.0</td>\n",
       "      <td>12000</td>\n",
       "      <td>0.0</td>\n",
       "      <td>279.72</td>\n",
       "      <td>45212.0</td>\n",
       "      <td>36.0</td>\n",
       "      <td>0</td>\n",
       "      <td>1</td>\n",
       "    </tr>\n",
       "    <tr>\n",
       "      <td>2260664</td>\n",
       "      <td>1.0</td>\n",
       "      <td>30000.0</td>\n",
       "      <td>12000</td>\n",
       "      <td>3.0</td>\n",
       "      <td>358.01</td>\n",
       "      <td>346404.0</td>\n",
       "      <td>78.0</td>\n",
       "      <td>0</td>\n",
       "      <td>1</td>\n",
       "    </tr>\n",
       "    <tr>\n",
       "      <td>2260665</td>\n",
       "      <td>10.0</td>\n",
       "      <td>64000.0</td>\n",
       "      <td>10000</td>\n",
       "      <td>0.0</td>\n",
       "      <td>332.10</td>\n",
       "      <td>189735.0</td>\n",
       "      <td>100.0</td>\n",
       "      <td>1</td>\n",
       "      <td>1</td>\n",
       "    </tr>\n",
       "    <tr>\n",
       "      <td>2260666</td>\n",
       "      <td>NaN</td>\n",
       "      <td>60000.0</td>\n",
       "      <td>12000</td>\n",
       "      <td>2.0</td>\n",
       "      <td>327.69</td>\n",
       "      <td>65238.0</td>\n",
       "      <td>64.0</td>\n",
       "      <td>0</td>\n",
       "      <td>1</td>\n",
       "    </tr>\n",
       "    <tr>\n",
       "      <td>2260667</td>\n",
       "      <td>3.0</td>\n",
       "      <td>60000.0</td>\n",
       "      <td>16550</td>\n",
       "      <td>0.0</td>\n",
       "      <td>451.94</td>\n",
       "      <td>25760.0</td>\n",
       "      <td>NaN</td>\n",
       "      <td>0</td>\n",
       "      <td>1</td>\n",
       "    </tr>\n",
       "  </tbody>\n",
       "</table>\n",
       "<p>2260668 rows × 9 columns</p>\n",
       "</div>"
      ],
      "text/plain": [
       "         emp_length  annual_inc  loan_amnt  delinq_2yrs  installment  \\\n",
       "0              10.0     55000.0       2500          0.0        84.92   \n",
       "1              10.0     90000.0      30000          0.0       777.23   \n",
       "2               6.0     59280.0       5000          0.0       180.69   \n",
       "3              10.0     92000.0       4000          0.0       146.51   \n",
       "4              10.0     57250.0      30000          0.0       731.78   \n",
       "...             ...         ...        ...          ...          ...   \n",
       "2260663        10.0     58000.0      12000          0.0       279.72   \n",
       "2260664         1.0     30000.0      12000          3.0       358.01   \n",
       "2260665        10.0     64000.0      10000          0.0       332.10   \n",
       "2260666         NaN     60000.0      12000          2.0       327.69   \n",
       "2260667         3.0     60000.0      16550          0.0       451.94   \n",
       "\n",
       "         tot_cur_bal  il_util  new_grade  loan_status  \n",
       "0            16901.0     69.0          0            1  \n",
       "1           321915.0     88.0          0            1  \n",
       "2           110299.0     72.0          0            1  \n",
       "3           305049.0     68.0          0            1  \n",
       "4           116007.0     89.0          0            1  \n",
       "...              ...      ...        ...          ...  \n",
       "2260663      45212.0     36.0          0            1  \n",
       "2260664     346404.0     78.0          0            1  \n",
       "2260665     189735.0    100.0          1            1  \n",
       "2260666      65238.0     64.0          0            1  \n",
       "2260667      25760.0      NaN          0            1  \n",
       "\n",
       "[2260668 rows x 9 columns]"
      ]
     },
     "execution_count": 63,
     "metadata": {},
     "output_type": "execute_result"
    }
   ],
   "source": [
    "df['annual_inc'] = new_df1['annual_inc']\n",
    "df['loan_amnt'] = new_df1['loan_amnt']\n",
    "df['delinq_2yrs'] = new_df1['delinq_2yrs']\n",
    "df['installment'] = new_df1['installment']\n",
    "df['tot_cur_bal'] = new_df1['tot_cur_bal']\n",
    "df['il_util'] = new_df1['il_util']\n",
    "df['new_grade'] = new_df1['new_grade']\n",
    "df['loan_status'] = new_df1['loan_status']\n",
    "\n",
    "df"
   ]
  },
  {
   "cell_type": "code",
   "execution_count": 64,
   "metadata": {
    "colab": {
     "base_uri": "https://localhost:8080/",
     "height": 419
    },
    "colab_type": "code",
    "executionInfo": {
     "elapsed": 168232,
     "status": "ok",
     "timestamp": 1571970945006,
     "user": {
      "displayName": "Eddie Choo",
      "photoUrl": "https://lh3.googleusercontent.com/a-/AAuE7mCT_zNzUPX6DofnbeXxsxL_MNeAWMIr-2pyX-h9og=s64",
      "userId": "10465448498447162897"
     },
     "user_tz": -480
    },
    "id": "yxqdoIuUtRb3",
    "outputId": "9bf2d1b5-7915-4f07-8b44-0b9e9fc22740"
   },
   "outputs": [
    {
     "data": {
      "text/html": [
       "<div>\n",
       "<style scoped>\n",
       "    .dataframe tbody tr th:only-of-type {\n",
       "        vertical-align: middle;\n",
       "    }\n",
       "\n",
       "    .dataframe tbody tr th {\n",
       "        vertical-align: top;\n",
       "    }\n",
       "\n",
       "    .dataframe thead th {\n",
       "        text-align: right;\n",
       "    }\n",
       "</style>\n",
       "<table border=\"1\" class=\"dataframe\">\n",
       "  <thead>\n",
       "    <tr style=\"text-align: right;\">\n",
       "      <th></th>\n",
       "      <th>emp_length</th>\n",
       "      <th>annual_inc</th>\n",
       "      <th>loan_amnt</th>\n",
       "      <th>delinq_2yrs</th>\n",
       "      <th>installment</th>\n",
       "      <th>tot_cur_bal</th>\n",
       "      <th>il_util</th>\n",
       "      <th>new_grade</th>\n",
       "      <th>loan_status</th>\n",
       "    </tr>\n",
       "  </thead>\n",
       "  <tbody>\n",
       "    <tr>\n",
       "      <td>0</td>\n",
       "      <td>10.0</td>\n",
       "      <td>55000.0</td>\n",
       "      <td>2500</td>\n",
       "      <td>0.0</td>\n",
       "      <td>84.92</td>\n",
       "      <td>16901.0</td>\n",
       "      <td>69.0</td>\n",
       "      <td>0</td>\n",
       "      <td>1</td>\n",
       "    </tr>\n",
       "    <tr>\n",
       "      <td>1</td>\n",
       "      <td>10.0</td>\n",
       "      <td>90000.0</td>\n",
       "      <td>30000</td>\n",
       "      <td>0.0</td>\n",
       "      <td>777.23</td>\n",
       "      <td>321915.0</td>\n",
       "      <td>88.0</td>\n",
       "      <td>0</td>\n",
       "      <td>1</td>\n",
       "    </tr>\n",
       "    <tr>\n",
       "      <td>2</td>\n",
       "      <td>6.0</td>\n",
       "      <td>59280.0</td>\n",
       "      <td>5000</td>\n",
       "      <td>0.0</td>\n",
       "      <td>180.69</td>\n",
       "      <td>110299.0</td>\n",
       "      <td>72.0</td>\n",
       "      <td>0</td>\n",
       "      <td>1</td>\n",
       "    </tr>\n",
       "    <tr>\n",
       "      <td>3</td>\n",
       "      <td>10.0</td>\n",
       "      <td>92000.0</td>\n",
       "      <td>4000</td>\n",
       "      <td>0.0</td>\n",
       "      <td>146.51</td>\n",
       "      <td>305049.0</td>\n",
       "      <td>68.0</td>\n",
       "      <td>0</td>\n",
       "      <td>1</td>\n",
       "    </tr>\n",
       "    <tr>\n",
       "      <td>4</td>\n",
       "      <td>10.0</td>\n",
       "      <td>57250.0</td>\n",
       "      <td>30000</td>\n",
       "      <td>0.0</td>\n",
       "      <td>731.78</td>\n",
       "      <td>116007.0</td>\n",
       "      <td>89.0</td>\n",
       "      <td>0</td>\n",
       "      <td>1</td>\n",
       "    </tr>\n",
       "    <tr>\n",
       "      <td>...</td>\n",
       "      <td>...</td>\n",
       "      <td>...</td>\n",
       "      <td>...</td>\n",
       "      <td>...</td>\n",
       "      <td>...</td>\n",
       "      <td>...</td>\n",
       "      <td>...</td>\n",
       "      <td>...</td>\n",
       "      <td>...</td>\n",
       "    </tr>\n",
       "    <tr>\n",
       "      <td>2260663</td>\n",
       "      <td>10.0</td>\n",
       "      <td>58000.0</td>\n",
       "      <td>12000</td>\n",
       "      <td>0.0</td>\n",
       "      <td>279.72</td>\n",
       "      <td>45212.0</td>\n",
       "      <td>36.0</td>\n",
       "      <td>0</td>\n",
       "      <td>1</td>\n",
       "    </tr>\n",
       "    <tr>\n",
       "      <td>2260664</td>\n",
       "      <td>1.0</td>\n",
       "      <td>30000.0</td>\n",
       "      <td>12000</td>\n",
       "      <td>3.0</td>\n",
       "      <td>358.01</td>\n",
       "      <td>346404.0</td>\n",
       "      <td>78.0</td>\n",
       "      <td>0</td>\n",
       "      <td>1</td>\n",
       "    </tr>\n",
       "    <tr>\n",
       "      <td>2260665</td>\n",
       "      <td>10.0</td>\n",
       "      <td>64000.0</td>\n",
       "      <td>10000</td>\n",
       "      <td>0.0</td>\n",
       "      <td>332.10</td>\n",
       "      <td>189735.0</td>\n",
       "      <td>100.0</td>\n",
       "      <td>1</td>\n",
       "      <td>1</td>\n",
       "    </tr>\n",
       "    <tr>\n",
       "      <td>2260666</td>\n",
       "      <td>0.0</td>\n",
       "      <td>60000.0</td>\n",
       "      <td>12000</td>\n",
       "      <td>2.0</td>\n",
       "      <td>327.69</td>\n",
       "      <td>65238.0</td>\n",
       "      <td>64.0</td>\n",
       "      <td>0</td>\n",
       "      <td>1</td>\n",
       "    </tr>\n",
       "    <tr>\n",
       "      <td>2260667</td>\n",
       "      <td>3.0</td>\n",
       "      <td>60000.0</td>\n",
       "      <td>16550</td>\n",
       "      <td>0.0</td>\n",
       "      <td>451.94</td>\n",
       "      <td>25760.0</td>\n",
       "      <td>0.0</td>\n",
       "      <td>0</td>\n",
       "      <td>1</td>\n",
       "    </tr>\n",
       "  </tbody>\n",
       "</table>\n",
       "<p>2260668 rows × 9 columns</p>\n",
       "</div>"
      ],
      "text/plain": [
       "         emp_length  annual_inc  loan_amnt  delinq_2yrs  installment  \\\n",
       "0              10.0     55000.0       2500          0.0        84.92   \n",
       "1              10.0     90000.0      30000          0.0       777.23   \n",
       "2               6.0     59280.0       5000          0.0       180.69   \n",
       "3              10.0     92000.0       4000          0.0       146.51   \n",
       "4              10.0     57250.0      30000          0.0       731.78   \n",
       "...             ...         ...        ...          ...          ...   \n",
       "2260663        10.0     58000.0      12000          0.0       279.72   \n",
       "2260664         1.0     30000.0      12000          3.0       358.01   \n",
       "2260665        10.0     64000.0      10000          0.0       332.10   \n",
       "2260666         0.0     60000.0      12000          2.0       327.69   \n",
       "2260667         3.0     60000.0      16550          0.0       451.94   \n",
       "\n",
       "         tot_cur_bal  il_util  new_grade  loan_status  \n",
       "0            16901.0     69.0          0            1  \n",
       "1           321915.0     88.0          0            1  \n",
       "2           110299.0     72.0          0            1  \n",
       "3           305049.0     68.0          0            1  \n",
       "4           116007.0     89.0          0            1  \n",
       "...              ...      ...        ...          ...  \n",
       "2260663      45212.0     36.0          0            1  \n",
       "2260664     346404.0     78.0          0            1  \n",
       "2260665     189735.0    100.0          1            1  \n",
       "2260666      65238.0     64.0          0            1  \n",
       "2260667      25760.0      0.0          0            1  \n",
       "\n",
       "[2260668 rows x 9 columns]"
      ]
     },
     "execution_count": 64,
     "metadata": {},
     "output_type": "execute_result"
    }
   ],
   "source": [
    "df.fillna(0, inplace = True)\n",
    "df"
   ]
  },
  {
   "cell_type": "code",
   "execution_count": 65,
   "metadata": {
    "colab": {
     "base_uri": "https://localhost:8080/",
     "height": 170
    },
    "colab_type": "code",
    "executionInfo": {
     "elapsed": 168202,
     "status": "ok",
     "timestamp": 1571970945007,
     "user": {
      "displayName": "Eddie Choo",
      "photoUrl": "https://lh3.googleusercontent.com/a-/AAuE7mCT_zNzUPX6DofnbeXxsxL_MNeAWMIr-2pyX-h9og=s64",
      "userId": "10465448498447162897"
     },
     "user_tz": -480
    },
    "id": "HCiyc8dQd-Y7",
    "outputId": "f4f5b61e-9a78-4680-f044-ba4226a164b1"
   },
   "outputs": [
    {
     "data": {
      "text/plain": [
       "['emp_length',\n",
       " 'annual_inc',\n",
       " 'loan_amnt',\n",
       " 'delinq_2yrs',\n",
       " 'installment',\n",
       " 'tot_cur_bal',\n",
       " 'il_util',\n",
       " 'new_grade',\n",
       " 'loan_status']"
      ]
     },
     "execution_count": 65,
     "metadata": {},
     "output_type": "execute_result"
    }
   ],
   "source": [
    "list(df.columns)"
   ]
  },
  {
   "cell_type": "code",
   "execution_count": 66,
   "metadata": {
    "colab": {},
    "colab_type": "code",
    "id": "jqZBNG8hXk0O"
   },
   "outputs": [],
   "source": [
    "from sklearn.model_selection import train_test_split\n",
    "from sklearn import datasets, linear_model\n",
    "x = df[['emp_length','annual_inc','loan_amnt','delinq_2yrs','installment','tot_cur_bal','il_util','new_grade']]\n",
    "y = df['loan_status']\n",
    "x_train, x_test, y_train, y_test = train_test_split(x, y, test_size = 0.2)"
   ]
  },
  {
   "cell_type": "code",
   "execution_count": 67,
   "metadata": {
    "colab": {},
    "colab_type": "code",
    "id": "cjndMzjOrhye"
   },
   "outputs": [],
   "source": [
    "import numpy as np\n",
    "from sklearn.linear_model import LinearRegression\n",
    "lr = linear_model.LinearRegression()\n"
   ]
  },
  {
   "cell_type": "code",
   "execution_count": 68,
   "metadata": {
    "colab": {},
    "colab_type": "code",
    "id": "K7jtakdEs3Gr"
   },
   "outputs": [],
   "source": [
    "model = lr.fit(x_train, y_train)\n",
    "y_predict = lr.predict(x_test)"
   ]
  },
  {
   "cell_type": "code",
   "execution_count": 69,
   "metadata": {
    "colab": {
     "base_uri": "https://localhost:8080/",
     "height": 51
    },
    "colab_type": "code",
    "executionInfo": {
     "elapsed": 169192,
     "status": "ok",
     "timestamp": 1571970946099,
     "user": {
      "displayName": "Eddie Choo",
      "photoUrl": "https://lh3.googleusercontent.com/a-/AAuE7mCT_zNzUPX6DofnbeXxsxL_MNeAWMIr-2pyX-h9og=s64",
      "userId": "10465448498447162897"
     },
     "user_tz": -480
    },
    "id": "sUAocS1uvr0k",
    "outputId": "674b1e5f-b2ec-4d27-d77a-0b878f05526b"
   },
   "outputs": [
    {
     "name": "stdout",
     "output_type": "stream",
     "text": [
      "[ 9.59183877e-04  2.82319966e-08  8.18542106e-07 -4.51204630e-03\n",
      " -5.75182277e-05  7.99953518e-08  6.70426636e-04  1.06992372e-01]\n"
     ]
    }
   ],
   "source": [
    "print(lr.coef_)"
   ]
  },
  {
   "cell_type": "code",
   "execution_count": 70,
   "metadata": {
    "colab": {
     "base_uri": "https://localhost:8080/",
     "height": 34
    },
    "colab_type": "code",
    "executionInfo": {
     "elapsed": 169166,
     "status": "ok",
     "timestamp": 1571970946101,
     "user": {
      "displayName": "Eddie Choo",
      "photoUrl": "https://lh3.googleusercontent.com/a-/AAuE7mCT_zNzUPX6DofnbeXxsxL_MNeAWMIr-2pyX-h9og=s64",
      "userId": "10465448498447162897"
     },
     "user_tz": -480
    },
    "id": "1f_Tm3PJv9Ie",
    "outputId": "6d8cada7-2e4c-423d-f82d-3ff57f6c74d3"
   },
   "outputs": [
    {
     "data": {
      "text/plain": [
       "0.03981788190540769"
      ]
     },
     "execution_count": 70,
     "metadata": {},
     "output_type": "execute_result"
    }
   ],
   "source": [
    "from sklearn.metrics import mean_squared_error, r2_score\n",
    "\n",
    "r2_score(y_test, y_predict)"
   ]
  },
  {
   "cell_type": "code",
   "execution_count": 71,
   "metadata": {
    "colab": {
     "base_uri": "https://localhost:8080/",
     "height": 119
    },
    "colab_type": "code",
    "executionInfo": {
     "elapsed": 192345,
     "status": "ok",
     "timestamp": 1571970969303,
     "user": {
      "displayName": "Eddie Choo",
      "photoUrl": "https://lh3.googleusercontent.com/a-/AAuE7mCT_zNzUPX6DofnbeXxsxL_MNeAWMIr-2pyX-h9og=s64",
      "userId": "10465448498447162897"
     },
     "user_tz": -480
    },
    "id": "YuonP__hxYtG",
    "outputId": "fad710c7-1837-4fd7-e002-778da7b94218"
   },
   "outputs": [
    {
     "data": {
      "text/plain": [
       "DecisionTreeClassifier(class_weight=None, criterion='gini', max_depth=None,\n",
       "                       max_features=None, max_leaf_nodes=None,\n",
       "                       min_impurity_decrease=0.0, min_impurity_split=None,\n",
       "                       min_samples_leaf=1, min_samples_split=2,\n",
       "                       min_weight_fraction_leaf=0.0, presort=False,\n",
       "                       random_state=None, splitter='best')"
      ]
     },
     "execution_count": 71,
     "metadata": {},
     "output_type": "execute_result"
    }
   ],
   "source": [
    "from sklearn.tree import DecisionTreeClassifier\n",
    "dt = DecisionTreeClassifier()\n",
    "dt.fit(x_train, y_train)"
   ]
  },
  {
   "cell_type": "code",
   "execution_count": 72,
   "metadata": {
    "colab": {},
    "colab_type": "code",
    "id": "8bLxFPNP0AG-"
   },
   "outputs": [],
   "source": [
    "y_pred_dt = dt.predict(x_test)"
   ]
  },
  {
   "cell_type": "code",
   "execution_count": 73,
   "metadata": {
    "colab": {
     "base_uri": "https://localhost:8080/",
     "height": 34
    },
    "colab_type": "code",
    "executionInfo": {
     "elapsed": 192625,
     "status": "ok",
     "timestamp": 1571970969620,
     "user": {
      "displayName": "Eddie Choo",
      "photoUrl": "https://lh3.googleusercontent.com/a-/AAuE7mCT_zNzUPX6DofnbeXxsxL_MNeAWMIr-2pyX-h9og=s64",
      "userId": "10465448498447162897"
     },
     "user_tz": -480
    },
    "id": "4GlI7l1a0KPy",
    "outputId": "b32a4d6b-8967-46d6-b3aa-91ef3ae5df21"
   },
   "outputs": [
    {
     "data": {
      "text/plain": [
       "0.7985022139454233"
      ]
     },
     "execution_count": 73,
     "metadata": {},
     "output_type": "execute_result"
    }
   ],
   "source": [
    "from sklearn import metrics\n",
    "metrics.accuracy_score(y_test, y_pred_dt)"
   ]
  },
  {
   "cell_type": "code",
   "execution_count": 74,
   "metadata": {
    "colab": {
     "base_uri": "https://localhost:8080/",
     "height": 34
    },
    "colab_type": "code",
    "executionInfo": {
     "elapsed": 193177,
     "status": "ok",
     "timestamp": 1571970970197,
     "user": {
      "displayName": "Eddie Choo",
      "photoUrl": "https://lh3.googleusercontent.com/a-/AAuE7mCT_zNzUPX6DofnbeXxsxL_MNeAWMIr-2pyX-h9og=s64",
      "userId": "10465448498447162897"
     },
     "user_tz": -480
    },
    "id": "_2SqsOxmSMnA",
    "outputId": "4ec86b9c-bf4a-42d6-a965-1a17fdb338a3"
   },
   "outputs": [
    {
     "data": {
      "text/plain": [
       "0.8850547448478777"
      ]
     },
     "execution_count": 74,
     "metadata": {},
     "output_type": "execute_result"
    }
   ],
   "source": [
    "from sklearn.metrics import f1_score\n",
    "f1_score(y_test, y_pred_dt)"
   ]
  },
  {
   "cell_type": "code",
   "execution_count": 79,
   "metadata": {},
   "outputs": [
    {
     "name": "stdout",
     "output_type": "stream",
     "text": [
      "Collecting xgboost\n",
      "  Using cached https://files.pythonhosted.org/packages/96/84/4e2cae6247f397f83d8adc5c2a2a0c5d7d790a14a4c7400ff6574586f589/xgboost-0.90.tar.gz\n",
      "Requirement already satisfied: numpy in /Users/shiqinchoo2019/Library/Python/3.7/lib/python/site-packages (from xgboost) (1.17.1)\n",
      "Requirement already satisfied: scipy in /Library/Frameworks/Python.framework/Versions/3.7/lib/python3.7/site-packages (from xgboost) (1.3.1)\n",
      "Installing collected packages: xgboost\n",
      "  Running setup.py install for xgboost ... \u001b[?25ldone\n",
      "\u001b[?25hSuccessfully installed xgboost-0.90\n",
      "\u001b[33mWARNING: You are using pip version 19.2.3, however version 19.3.1 is available.\n",
      "You should consider upgrading via the 'pip install --upgrade pip' command.\u001b[0m\n"
     ]
    }
   ],
   "source": [
    "!pip install xgboost"
   ]
  },
  {
   "cell_type": "code",
   "execution_count": 80,
   "metadata": {
    "colab": {},
    "colab_type": "code",
    "id": "QXjgXpSqhW-n"
   },
   "outputs": [],
   "source": [
    "import xgboost as xgb\n",
    "from sklearn.metrics import mean_squared_error"
   ]
  },
  {
   "cell_type": "code",
   "execution_count": 81,
   "metadata": {
    "colab": {
     "base_uri": "https://localhost:8080/",
     "height": 85
    },
    "colab_type": "code",
    "executionInfo": {
     "elapsed": 1512,
     "status": "ok",
     "timestamp": 1571970982414,
     "user": {
      "displayName": "Eddie Choo",
      "photoUrl": "https://lh3.googleusercontent.com/a-/AAuE7mCT_zNzUPX6DofnbeXxsxL_MNeAWMIr-2pyX-h9og=s64",
      "userId": "10465448498447162897"
     },
     "user_tz": -480
    },
    "id": "8cG6JhHOC0DR",
    "outputId": "4d0dd813-aada-4646-a569-98aea55210c0"
   },
   "outputs": [
    {
     "name": "stderr",
     "output_type": "stream",
     "text": [
      "/Library/Frameworks/Python.framework/Versions/3.7/lib/python3.7/site-packages/xgboost/core.py:587: FutureWarning: Series.base is deprecated and will be removed in a future version\n",
      "  if getattr(data, 'base', None) is not None and \\\n",
      "/Library/Frameworks/Python.framework/Versions/3.7/lib/python3.7/site-packages/xgboost/core.py:588: FutureWarning: Series.base is deprecated and will be removed in a future version\n",
      "  data.base is not None and isinstance(data, np.ndarray) \\\n"
     ]
    }
   ],
   "source": [
    "data_dmatrix = xgb.DMatrix(data = x, label = y)"
   ]
  },
  {
   "cell_type": "code",
   "execution_count": 82,
   "metadata": {
    "colab": {},
    "colab_type": "code",
    "id": "5Szi7vukDH5-"
   },
   "outputs": [],
   "source": [
    "xg_class = xgb.XGBClassifier(objective = 'binary:logistic', colsample_bytree = 0.3, learning_rate = 0.1, max_depth = 5, alpha = 10, n_estimators = 10)"
   ]
  },
  {
   "cell_type": "code",
   "execution_count": 83,
   "metadata": {
    "colab": {},
    "colab_type": "code",
    "id": "P0zQntV1DZN_"
   },
   "outputs": [],
   "source": [
    "xg_class.fit(x_train, y_train)\n",
    "\n",
    "preds = xg_class.predict(x_test)"
   ]
  },
  {
   "cell_type": "code",
   "execution_count": 84,
   "metadata": {
    "colab": {
     "base_uri": "https://localhost:8080/",
     "height": 34
    },
    "colab_type": "code",
    "executionInfo": {
     "elapsed": 713,
     "status": "ok",
     "timestamp": 1571971302873,
     "user": {
      "displayName": "Eddie Choo",
      "photoUrl": "https://lh3.googleusercontent.com/a-/AAuE7mCT_zNzUPX6DofnbeXxsxL_MNeAWMIr-2pyX-h9og=s64",
      "userId": "10465448498447162897"
     },
     "user_tz": -480
    },
    "id": "pQOP5L2qDkZP",
    "outputId": "2b693ffd-e501-417c-de8e-749ad564bc6e"
   },
   "outputs": [
    {
     "data": {
      "text/plain": [
       "0.8837955119499972"
      ]
     },
     "execution_count": 84,
     "metadata": {},
     "output_type": "execute_result"
    }
   ],
   "source": [
    "from sklearn import metrics\n",
    "metrics.accuracy_score(y_test, preds)\n",
    "\n",
    "#https://www.datacamp.com/community/tutorials/xgboost-in-python"
   ]
  },
  {
   "cell_type": "code",
   "execution_count": 85,
   "metadata": {
    "colab": {
     "base_uri": "https://localhost:8080/",
     "height": 34
    },
    "colab_type": "code",
    "executionInfo": {
     "elapsed": 786,
     "status": "ok",
     "timestamp": 1571971330336,
     "user": {
      "displayName": "Eddie Choo",
      "photoUrl": "https://lh3.googleusercontent.com/a-/AAuE7mCT_zNzUPX6DofnbeXxsxL_MNeAWMIr-2pyX-h9og=s64",
      "userId": "10465448498447162897"
     },
     "user_tz": -480
    },
    "id": "qPtaj-7FytA2",
    "outputId": "7c11818c-24b6-4723-bb69-0b913d5e2d84"
   },
   "outputs": [
    {
     "data": {
      "text/plain": [
       "0.9383136400353165"
      ]
     },
     "execution_count": 85,
     "metadata": {},
     "output_type": "execute_result"
    }
   ],
   "source": [
    "from sklearn.metrics import f1_score\n",
    "f1_score(y_test, preds)"
   ]
  },
  {
   "cell_type": "code",
   "execution_count": 86,
   "metadata": {
    "colab": {},
    "colab_type": "code",
    "id": "ipv_p1MHG6Iu"
   },
   "outputs": [],
   "source": [
    "from sklearn.ensemble import RandomForestClassifier\n",
    "\n",
    "rfc = RandomForestClassifier(n_estimators = 10)\n",
    "rfc.fit(x_train, y_train)\n",
    "y_pred_rfc = rfc.predict(x_test)"
   ]
  },
  {
   "cell_type": "code",
   "execution_count": 87,
   "metadata": {
    "colab": {
     "base_uri": "https://localhost:8080/",
     "height": 34
    },
    "colab_type": "code",
    "executionInfo": {
     "elapsed": 757,
     "status": "ok",
     "timestamp": 1571971588311,
     "user": {
      "displayName": "Eddie Choo",
      "photoUrl": "https://lh3.googleusercontent.com/a-/AAuE7mCT_zNzUPX6DofnbeXxsxL_MNeAWMIr-2pyX-h9og=s64",
      "userId": "10465448498447162897"
     },
     "user_tz": -480
    },
    "id": "BJiVZEbZj5t-",
    "outputId": "7a21ac2a-9875-4774-e7f9-f94ef8c8057f"
   },
   "outputs": [
    {
     "data": {
      "text/plain": [
       "0.9278284705345112"
      ]
     },
     "execution_count": 87,
     "metadata": {},
     "output_type": "execute_result"
    }
   ],
   "source": [
    "from sklearn.metrics import f1_score\n",
    "f1_score(y_test, y_pred_rfc)"
   ]
  },
  {
   "cell_type": "code",
   "execution_count": 88,
   "metadata": {
    "colab": {
     "base_uri": "https://localhost:8080/",
     "height": 34
    },
    "colab_type": "code",
    "executionInfo": {
     "elapsed": 633,
     "status": "ok",
     "timestamp": 1571971598380,
     "user": {
      "displayName": "Eddie Choo",
      "photoUrl": "https://lh3.googleusercontent.com/a-/AAuE7mCT_zNzUPX6DofnbeXxsxL_MNeAWMIr-2pyX-h9og=s64",
      "userId": "10465448498447162897"
     },
     "user_tz": -480
    },
    "id": "rwujl-bFqM1p",
    "outputId": "371172a2-e2ab-4c57-ba23-e90506a8df0c"
   },
   "outputs": [
    {
     "data": {
      "text/plain": [
       "0.866471001959596"
      ]
     },
     "execution_count": 88,
     "metadata": {},
     "output_type": "execute_result"
    }
   ],
   "source": [
    "from sklearn import metrics\n",
    "metrics.accuracy_score(y_test, y_pred_rfc)"
   ]
  },
  {
   "cell_type": "code",
   "execution_count": 89,
   "metadata": {
    "colab": {},
    "colab_type": "code",
    "id": "DtTyYA7FqwNC"
   },
   "outputs": [],
   "source": [
    "from sklearn.neighbors import KNeighborsClassifier\n",
    "\n",
    "model = KNeighborsClassifier(n_neighbors=3)"
   ]
  },
  {
   "cell_type": "code",
   "execution_count": 90,
   "metadata": {
    "colab": {
     "base_uri": "https://localhost:8080/",
     "height": 68
    },
    "colab_type": "code",
    "executionInfo": {
     "elapsed": 29188,
     "status": "ok",
     "timestamp": 1571971861253,
     "user": {
      "displayName": "Eddie Choo",
      "photoUrl": "https://lh3.googleusercontent.com/a-/AAuE7mCT_zNzUPX6DofnbeXxsxL_MNeAWMIr-2pyX-h9og=s64",
      "userId": "10465448498447162897"
     },
     "user_tz": -480
    },
    "id": "tgdjt5Wnq5cI",
    "outputId": "9b2fff0c-3d2f-4e3d-ce70-207fea9ea979"
   },
   "outputs": [
    {
     "data": {
      "text/plain": [
       "KNeighborsClassifier(algorithm='auto', leaf_size=30, metric='minkowski',\n",
       "                     metric_params=None, n_jobs=None, n_neighbors=3, p=2,\n",
       "                     weights='uniform')"
      ]
     },
     "execution_count": 90,
     "metadata": {},
     "output_type": "execute_result"
    }
   ],
   "source": [
    "model.fit(x_train, y_train)"
   ]
  },
  {
   "cell_type": "code",
   "execution_count": 91,
   "metadata": {
    "colab": {},
    "colab_type": "code",
    "id": "JlqgONS10qfv"
   },
   "outputs": [],
   "source": [
    "y_knn = model.predict(x_test)"
   ]
  },
  {
   "cell_type": "code",
   "execution_count": 92,
   "metadata": {
    "colab": {
     "base_uri": "https://localhost:8080/",
     "height": 34
    },
    "colab_type": "code",
    "executionInfo": {
     "elapsed": 692,
     "status": "ok",
     "timestamp": 1571971929036,
     "user": {
      "displayName": "Eddie Choo",
      "photoUrl": "https://lh3.googleusercontent.com/a-/AAuE7mCT_zNzUPX6DofnbeXxsxL_MNeAWMIr-2pyX-h9og=s64",
      "userId": "10465448498447162897"
     },
     "user_tz": -480
    },
    "id": "4_cHPgy80-Q-",
    "outputId": "4bde1f20-1010-4208-a935-e8db263620f6"
   },
   "outputs": [
    {
     "data": {
      "text/plain": [
       "0.8552199126807539"
      ]
     },
     "execution_count": 92,
     "metadata": {},
     "output_type": "execute_result"
    }
   ],
   "source": [
    "metrics.accuracy_score(y_test, y_knn)"
   ]
  },
  {
   "cell_type": "code",
   "execution_count": 93,
   "metadata": {
    "colab": {
     "base_uri": "https://localhost:8080/",
     "height": 34
    },
    "colab_type": "code",
    "executionInfo": {
     "elapsed": 758,
     "status": "ok",
     "timestamp": 1571971945053,
     "user": {
      "displayName": "Eddie Choo",
      "photoUrl": "https://lh3.googleusercontent.com/a-/AAuE7mCT_zNzUPX6DofnbeXxsxL_MNeAWMIr-2pyX-h9og=s64",
      "userId": "10465448498447162897"
     },
     "user_tz": -480
    },
    "id": "bRbLNaaP0--o",
    "outputId": "0d0e0797-198f-4371-8c9e-adf27b96b351"
   },
   "outputs": [
    {
     "data": {
      "text/plain": [
       "0.9214597496214567"
      ]
     },
     "execution_count": 93,
     "metadata": {},
     "output_type": "execute_result"
    }
   ],
   "source": [
    "f1_score(y_test, y_knn)"
   ]
  },
  {
   "cell_type": "code",
   "execution_count": 94,
   "metadata": {
    "colab": {},
    "colab_type": "code",
    "id": "ZwUz5h8z5Aeb"
   },
   "outputs": [],
   "source": [
    "from sklearn.model_selection import train_test_split\n",
    "from sklearn import datasets, linear_model\n",
    "x = df[['emp_length','annual_inc','loan_amnt','delinq_2yrs','installment','tot_cur_bal','il_util','new_grade']]\n",
    "y = df['loan_status']\n",
    "x_train, x_test, y_train, y_test = train_test_split(x, y, test_size = 0.2, stratify = y)"
   ]
  },
  {
   "cell_type": "code",
   "execution_count": 95,
   "metadata": {
    "colab": {},
    "colab_type": "code",
    "id": "jU__e9Ag5LNX"
   },
   "outputs": [],
   "source": [
    "import numpy as np\n",
    "from sklearn.linear_model import LinearRegression\n",
    "lr = linear_model.LinearRegression()\n",
    "model = lr.fit(x_train, y_train)\n",
    "y_predict = lr.predict(x_test)\n"
   ]
  },
  {
   "cell_type": "code",
   "execution_count": 96,
   "metadata": {
    "colab": {
     "base_uri": "https://localhost:8080/",
     "height": 119
    },
    "colab_type": "code",
    "executionInfo": {
     "elapsed": 23341,
     "status": "ok",
     "timestamp": 1571973182327,
     "user": {
      "displayName": "Eddie Choo",
      "photoUrl": "https://lh3.googleusercontent.com/a-/AAuE7mCT_zNzUPX6DofnbeXxsxL_MNeAWMIr-2pyX-h9og=s64",
      "userId": "10465448498447162897"
     },
     "user_tz": -480
    },
    "id": "gceQtThk5s0U",
    "outputId": "591a360d-db01-435d-820f-58bf790c57d5"
   },
   "outputs": [
    {
     "data": {
      "text/plain": [
       "DecisionTreeClassifier(class_weight=None, criterion='gini', max_depth=None,\n",
       "                       max_features=None, max_leaf_nodes=None,\n",
       "                       min_impurity_decrease=0.0, min_impurity_split=None,\n",
       "                       min_samples_leaf=1, min_samples_split=2,\n",
       "                       min_weight_fraction_leaf=0.0, presort=False,\n",
       "                       random_state=None, splitter='best')"
      ]
     },
     "execution_count": 96,
     "metadata": {},
     "output_type": "execute_result"
    }
   ],
   "source": [
    "from sklearn.tree import DecisionTreeClassifier\n",
    "dt = DecisionTreeClassifier()\n",
    "dt.fit(x_train, y_train)"
   ]
  },
  {
   "cell_type": "code",
   "execution_count": 97,
   "metadata": {
    "colab": {},
    "colab_type": "code",
    "id": "q7I2g4vR50xW"
   },
   "outputs": [],
   "source": [
    "y_pred_dt = dt.predict(x_test)"
   ]
  },
  {
   "cell_type": "code",
   "execution_count": 98,
   "metadata": {
    "colab": {
     "base_uri": "https://localhost:8080/",
     "height": 51
    },
    "colab_type": "code",
    "executionInfo": {
     "elapsed": 833,
     "status": "ok",
     "timestamp": 1571973243563,
     "user": {
      "displayName": "Eddie Choo",
      "photoUrl": "https://lh3.googleusercontent.com/a-/AAuE7mCT_zNzUPX6DofnbeXxsxL_MNeAWMIr-2pyX-h9og=s64",
      "userId": "10465448498447162897"
     },
     "user_tz": -480
    },
    "id": "FN2MfSL257DQ",
    "outputId": "0c25e7a4-b51a-4e55-c5d5-780fc1a0be38"
   },
   "outputs": [
    {
     "name": "stdout",
     "output_type": "stream",
     "text": [
      "0.7982854640438454\n",
      "0.884951711053476\n"
     ]
    }
   ],
   "source": [
    "from sklearn import metrics\n",
    "print (metrics.accuracy_score(y_test, y_pred_dt))\n",
    "from sklearn.metrics import f1_score\n",
    "print(f1_score(y_test, y_pred_dt))"
   ]
  },
  {
   "cell_type": "code",
   "execution_count": 99,
   "metadata": {
    "colab": {
     "base_uri": "https://localhost:8080/",
     "height": 85
    },
    "colab_type": "code",
    "executionInfo": {
     "elapsed": 16803,
     "status": "ok",
     "timestamp": 1571973353007,
     "user": {
      "displayName": "Eddie Choo",
      "photoUrl": "https://lh3.googleusercontent.com/a-/AAuE7mCT_zNzUPX6DofnbeXxsxL_MNeAWMIr-2pyX-h9og=s64",
      "userId": "10465448498447162897"
     },
     "user_tz": -480
    },
    "id": "Tse2-Gvh6Iuf",
    "outputId": "fb2a6444-8289-47dc-cb60-aac888f4ed97"
   },
   "outputs": [
    {
     "name": "stderr",
     "output_type": "stream",
     "text": [
      "/Library/Frameworks/Python.framework/Versions/3.7/lib/python3.7/site-packages/xgboost/core.py:587: FutureWarning: Series.base is deprecated and will be removed in a future version\n",
      "  if getattr(data, 'base', None) is not None and \\\n",
      "/Library/Frameworks/Python.framework/Versions/3.7/lib/python3.7/site-packages/xgboost/core.py:588: FutureWarning: Series.base is deprecated and will be removed in a future version\n",
      "  data.base is not None and isinstance(data, np.ndarray) \\\n"
     ]
    }
   ],
   "source": [
    "import xgboost as xgb\n",
    "data_dmatrix = xgb.DMatrix(data = x, label = y)\n",
    "xg_class = xgb.XGBClassifier(objective = 'binary:logistic', colsample_bytree = 0.3, learning_rate = 0.1, max_depth = 5, alpha = 10, n_estimators = 10)\n",
    "xg_class.fit(x_train, y_train)\n",
    "preds = xg_class.predict(x_test)\n"
   ]
  },
  {
   "cell_type": "code",
   "execution_count": 100,
   "metadata": {
    "colab": {
     "base_uri": "https://localhost:8080/",
     "height": 51
    },
    "colab_type": "code",
    "executionInfo": {
     "elapsed": 669,
     "status": "ok",
     "timestamp": 1571973615538,
     "user": {
      "displayName": "Eddie Choo",
      "photoUrl": "https://lh3.googleusercontent.com/a-/AAuE7mCT_zNzUPX6DofnbeXxsxL_MNeAWMIr-2pyX-h9og=s64",
      "userId": "10465448498447162897"
     },
     "user_tz": -480
    },
    "id": "FcE0Db6N6UXW",
    "outputId": "2bd9b173-cb58-4cea-fec9-9660898eb2ad"
   },
   "outputs": [
    {
     "name": "stdout",
     "output_type": "stream",
     "text": [
      "0.8839083103681652\n",
      "0.9383772081725423\n"
     ]
    }
   ],
   "source": [
    "from sklearn import metrics\n",
    "print (metrics.accuracy_score(y_test, preds))\n",
    "from sklearn.metrics import f1_score\n",
    "print(f1_score(y_test, preds))"
   ]
  },
  {
   "cell_type": "code",
   "execution_count": 101,
   "metadata": {
    "colab": {},
    "colab_type": "code",
    "id": "-mkSNY0Z7gdL"
   },
   "outputs": [],
   "source": [
    "from sklearn.ensemble import RandomForestClassifier\n",
    "\n",
    "rfc = RandomForestClassifier(n_estimators = 10)\n",
    "rfc.fit(x_train, y_train)\n",
    "y_pred_rfc = rfc.predict(x_test)"
   ]
  },
  {
   "cell_type": "code",
   "execution_count": 102,
   "metadata": {
    "colab": {
     "base_uri": "https://localhost:8080/",
     "height": 51
    },
    "colab_type": "code",
    "executionInfo": {
     "elapsed": 960,
     "status": "ok",
     "timestamp": 1571973848206,
     "user": {
      "displayName": "Eddie Choo",
      "photoUrl": "https://lh3.googleusercontent.com/a-/AAuE7mCT_zNzUPX6DofnbeXxsxL_MNeAWMIr-2pyX-h9og=s64",
      "userId": "10465448498447162897"
     },
     "user_tz": -480
    },
    "id": "kTOAAEhJ7ps9",
    "outputId": "0c71a3eb-9384-4c6f-fdf6-893a27962eb5"
   },
   "outputs": [
    {
     "name": "stdout",
     "output_type": "stream",
     "text": [
      "0.8663626270088072\n",
      "0.9277387102946805\n"
     ]
    }
   ],
   "source": [
    "print (metrics.accuracy_score(y_test, y_pred_rfc))\n",
    "print(f1_score(y_test, y_pred_rfc))"
   ]
  },
  {
   "cell_type": "code",
   "execution_count": 103,
   "metadata": {
    "colab": {},
    "colab_type": "code",
    "id": "NZWZMMYw8Wox"
   },
   "outputs": [],
   "source": [
    "from sklearn.neighbors import KNeighborsClassifier\n",
    "\n",
    "model = KNeighborsClassifier(n_neighbors=3)\n",
    "model.fit(x_train, y_train)\n",
    "y_knn = model.predict(x_test)"
   ]
  },
  {
   "cell_type": "code",
   "execution_count": 104,
   "metadata": {
    "colab": {
     "base_uri": "https://localhost:8080/",
     "height": 51
    },
    "colab_type": "code",
    "executionInfo": {
     "elapsed": 725,
     "status": "ok",
     "timestamp": 1571974066524,
     "user": {
      "displayName": "Eddie Choo",
      "photoUrl": "https://lh3.googleusercontent.com/a-/AAuE7mCT_zNzUPX6DofnbeXxsxL_MNeAWMIr-2pyX-h9og=s64",
      "userId": "10465448498447162897"
     },
     "user_tz": -480
    },
    "id": "ccH2i7a486Tc",
    "outputId": "74dc9150-00ad-4573-89cd-56d2eedc3660"
   },
   "outputs": [
    {
     "name": "stdout",
     "output_type": "stream",
     "text": [
      "0.8554256039138839\n",
      "0.9215646512364603\n"
     ]
    }
   ],
   "source": [
    "print (metrics.accuracy_score(y_test, y_knn))\n",
    "print (f1_score(y_test, y_knn))"
   ]
  },
  {
   "cell_type": "code",
   "execution_count": 105,
   "metadata": {
    "colab": {
     "base_uri": "https://localhost:8080/",
     "height": 312
    },
    "colab_type": "code",
    "executionInfo": {
     "elapsed": 782,
     "status": "ok",
     "timestamp": 1571974832607,
     "user": {
      "displayName": "Eddie Choo",
      "photoUrl": "https://lh3.googleusercontent.com/a-/AAuE7mCT_zNzUPX6DofnbeXxsxL_MNeAWMIr-2pyX-h9og=s64",
      "userId": "10465448498447162897"
     },
     "user_tz": -480
    },
    "id": "64H4YZVV_dSu",
    "outputId": "455e440c-865f-4e63-f7a0-c86eeb16870e"
   },
   "outputs": [
    {
     "data": {
      "text/plain": [
       "<matplotlib.axes._subplots.AxesSubplot at 0x1114d8390>"
      ]
     },
     "execution_count": 105,
     "metadata": {},
     "output_type": "execute_result"
    },
    {
     "data": {
      "image/png": "[encoded data removed]",
      "text/plain": [
       "<Figure size 432x288 with 1 Axes>"
      ]
     },
     "metadata": {
      "needs_background": "light"
     },
     "output_type": "display_data"
    }
   ],
   "source": [
    "from xgboost import plot_importance\n",
    "plot_importance(xg_class)"
   ]
  },
  {
   "cell_type": "code",
   "execution_count": 106,
   "metadata": {
    "colab": {
     "base_uri": "https://localhost:8080/",
     "height": 297
    },
    "colab_type": "code",
    "executionInfo": {
     "elapsed": 724,
     "status": "ok",
     "timestamp": 1571975398110,
     "user": {
      "displayName": "Eddie Choo",
      "photoUrl": "https://lh3.googleusercontent.com/a-/AAuE7mCT_zNzUPX6DofnbeXxsxL_MNeAWMIr-2pyX-h9og=s64",
      "userId": "10465448498447162897"
     },
     "user_tz": -480
    },
    "id": "7cSY7EB0BcxD",
    "outputId": "19a100b6-dc38-47f7-8ea0-cf265be7ad3a"
   },
   "outputs": [
    {
     "data": {
      "text/html": [
       "<div>\n",
       "<style scoped>\n",
       "    .dataframe tbody tr th:only-of-type {\n",
       "        vertical-align: middle;\n",
       "    }\n",
       "\n",
       "    .dataframe tbody tr th {\n",
       "        vertical-align: top;\n",
       "    }\n",
       "\n",
       "    .dataframe thead th {\n",
       "        text-align: right;\n",
       "    }\n",
       "</style>\n",
       "<table border=\"1\" class=\"dataframe\">\n",
       "  <thead>\n",
       "    <tr style=\"text-align: right;\">\n",
       "      <th></th>\n",
       "      <th>importance</th>\n",
       "    </tr>\n",
       "  </thead>\n",
       "  <tbody>\n",
       "    <tr>\n",
       "      <td>tot_cur_bal</td>\n",
       "      <td>0.259939</td>\n",
       "    </tr>\n",
       "    <tr>\n",
       "      <td>installment</td>\n",
       "      <td>0.246836</td>\n",
       "    </tr>\n",
       "    <tr>\n",
       "      <td>annual_inc</td>\n",
       "      <td>0.182346</td>\n",
       "    </tr>\n",
       "    <tr>\n",
       "      <td>loan_amnt</td>\n",
       "      <td>0.133187</td>\n",
       "    </tr>\n",
       "    <tr>\n",
       "      <td>il_util</td>\n",
       "      <td>0.071048</td>\n",
       "    </tr>\n",
       "    <tr>\n",
       "      <td>emp_length</td>\n",
       "      <td>0.058366</td>\n",
       "    </tr>\n",
       "    <tr>\n",
       "      <td>new_grade</td>\n",
       "      <td>0.028226</td>\n",
       "    </tr>\n",
       "    <tr>\n",
       "      <td>delinq_2yrs</td>\n",
       "      <td>0.020051</td>\n",
       "    </tr>\n",
       "  </tbody>\n",
       "</table>\n",
       "</div>"
      ],
      "text/plain": [
       "             importance\n",
       "tot_cur_bal    0.259939\n",
       "installment    0.246836\n",
       "annual_inc     0.182346\n",
       "loan_amnt      0.133187\n",
       "il_util        0.071048\n",
       "emp_length     0.058366\n",
       "new_grade      0.028226\n",
       "delinq_2yrs    0.020051"
      ]
     },
     "execution_count": 106,
     "metadata": {},
     "output_type": "execute_result"
    }
   ],
   "source": [
    "feature_importances = pd.DataFrame(rfc.feature_importances_,\n",
    "                                   index = x_train.columns,\n",
    "                                    columns=['importance']).sort_values('importance', ascending=False)\n",
    "\n",
    "feature_importances"
   ]
  },
  {
   "cell_type": "code",
   "execution_count": 118,
   "metadata": {
    "colab": {
     "base_uri": "https://localhost:8080/",
     "height": 119
    },
    "colab_type": "code",
    "executionInfo": {
     "elapsed": 26473,
     "status": "ok",
     "timestamp": 1571983594445,
     "user": {
      "displayName": "Eddie Choo",
      "photoUrl": "https://lh3.googleusercontent.com/a-/AAuE7mCT_zNzUPX6DofnbeXxsxL_MNeAWMIr-2pyX-h9og=s64",
      "userId": "10465448498447162897"
     },
     "user_tz": -480
    },
    "id": "ywb4LVDoFC60",
    "outputId": "87f6f803-ea96-4aa8-c9cf-ae8f1bf0ceb0"
   },
   "outputs": [],
   "source": [
    "from sklearn.tree import DecisionTreeClassifier\n",
    "dt = DecisionTreeClassifier()\n",
    "dec_tree = dt.fit(x_train, y_train)"
   ]
  },
  {
   "cell_type": "code",
   "execution_count": null,
   "metadata": {},
   "outputs": [],
   "source": [
    "from sklearn import tree\n",
    "tree.plot_tree(dt.fit(x_train, y_train))\n",
    "plt.show()"
   ]
  },
  {
   "cell_type": "code",
   "execution_count": 110,
   "metadata": {
    "colab": {},
    "colab_type": "code",
    "id": "_kmtSh9NhjIb"
   },
   "outputs": [],
   "source": []
  },
  {
   "cell_type": "code",
   "execution_count": null,
   "metadata": {},
   "outputs": [],
   "source": []
  }
 ],
 "metadata": {
  "colab": {
   "collapsed_sections": [],
   "machine_shape": "hm",
   "name": "lending_club_ed.ipynb",
   "provenance": []
  },
  "kernelspec": {
   "display_name": "Python 3",
   "language": "python",
   "name": "python3"
  },
  "language_info": {
   "codemirror_mode": {
    "name": "ipython",
    "version": 3
   },
   "file_extension": ".py",
   "mimetype": "text/x-python",
   "name": "python",
   "nbconvert_exporter": "python",
   "pygments_lexer": "ipython3",
   "version": "3.7.4"
  }
 },
 "nbformat": 4,
 "nbformat_minor": 1
}
